{
  "nbformat": 4,
  "nbformat_minor": 0,
  "metadata": {
    "colab": {
      "name": "Assignment8.ipynb",
      "provenance": [],
      "authorship_tag": "ABX9TyMRlsCt6HBCxnIvkN+yBg5l",
      "include_colab_link": true
    },
    "kernelspec": {
      "name": "python3",
      "display_name": "Python 3"
    },
    "language_info": {
      "name": "python"
    }
  },
  "cells": [
    {
      "cell_type": "markdown",
      "metadata": {
        "id": "view-in-github",
        "colab_type": "text"
      },
      "source": [
        "<a href=\"https://colab.research.google.com/github/shiwaniRawat/ineroun/blob/main/Assignment8.ipynb\" target=\"_parent\"><img src=\"https://colab.research.google.com/assets/colab-badge.svg\" alt=\"Open In Colab\"/></a>"
      ]
    },
    {
      "cell_type": "markdown",
      "metadata": {
        "id": "Vqa4BfZ-WGq-"
      },
      "source": [
        "1.Is the Python Standard Library included with PyInputPlus?\n",
        "\n"
      ]
    },
    {
      "cell_type": "markdown",
      "metadata": {
        "id": "wbCaeH9gWjAm"
      },
      "source": [
        "PyInputPlus is not a part of the Python Standard Library, so we must install it separately using Pip."
      ]
    },
    {
      "cell_type": "markdown",
      "metadata": {
        "id": "ggUquIlTahhb"
      },
      "source": [
        "2.Why is PyInputPlus commonly imported with import pyinputplus as pypi?"
      ]
    },
    {
      "cell_type": "markdown",
      "metadata": {
        "id": "sYfrmFFHdyi7"
      },
      "source": [
        "import the module with import pyinputplus as pyip so that we can enter a shorter name when calling the module function."
      ]
    },
    {
      "cell_type": "markdown",
      "metadata": {
        "id": "D4XkX9sLfIz2"
      },
      "source": [
        "3.How do you distinguish between inputInt() and inputFloat()?"
      ]
    },
    {
      "cell_type": "markdown",
      "metadata": {
        "id": "13Fp7pwxfNV6"
      },
      "source": [
        "inputInt() - Accepts an integer number.\n",
        "\n",
        "inputFloat() - Accepts a floating-point number.\n",
        "\n"
      ]
    },
    {
      "cell_type": "markdown",
      "metadata": {
        "id": "hmvoHcBZd87b"
      },
      "source": [
        "4.Using PyInputPlus, how do you ensure that the user enters a whole number between 0 and 99?"
      ]
    },
    {
      "cell_type": "markdown",
      "metadata": {
        "id": "V2WDInatEUKN"
      },
      "source": [
        "by using min and max"
      ]
    },
    {
      "cell_type": "markdown",
      "metadata": {
        "id": "ES4xEzrJEO3N"
      },
      "source": [
        "5.What is transferred to the keyword arguments allowRegexes and blockRegexes?"
      ]
    },
    {
      "cell_type": "markdown",
      "metadata": {
        "id": "NWmxHZ0dDlJT"
      },
      "source": [
        "allowRegexes and blockRegexes keyword arguments take a list of regular expression strings to determine what the PyInputPlus function will accept or reject as valid input"
      ]
    },
    {
      "cell_type": "markdown",
      "metadata": {
        "id": "BRsOQkWqEYhq"
      },
      "source": [
        "6.If a blank input is entered three times, what does inputStr(limit=3) do?\n",
        "\n",
        "---\n",
        "\n"
      ]
    },
    {
      "cell_type": "code",
      "metadata": {
        "colab": {
          "base_uri": "https://localhost:8080/"
        },
        "id": "cpAorfZ11VYt",
        "outputId": "9fcecc08-679d-4ad6-aa79-06cef16c3bf7"
      },
      "source": [
        " import pyinputplus as pyip\n",
        " response = pyip.inputStr(limit=3)# if a blank input is entered three times then inputStr will give blank values are not allowed"
      ],
      "execution_count": null,
      "outputs": [
        {
          "output_type": "stream",
          "text": [
            "     \n",
            "Blank values are not allowed.\n",
            "ddd\n"
          ],
          "name": "stdout"
        }
      ]
    },
    {
      "cell_type": "code",
      "metadata": {
        "id": "sA36Mj2GpkvX",
        "colab": {
          "base_uri": "https://localhost:8080/"
        },
        "outputId": "36da4f4d-6d4e-4eb4-a824-1c323aaca729"
      },
      "source": [
        "pip install pyinputplus"
      ],
      "execution_count": 2,
      "outputs": [
        {
          "output_type": "stream",
          "text": [
            "Collecting pyinputplus\n",
            "  Downloading https://files.pythonhosted.org/packages/6a/d4/afb45ed88323ef6d3c4cbf48e9c1bac38059a168b8392a56f3b8f9d1d39c/PyInputPlus-0.2.12.tar.gz\n",
            "  Installing build dependencies ... \u001b[?25l\u001b[?25hdone\n",
            "  Getting requirements to build wheel ... \u001b[?25l\u001b[?25hdone\n",
            "    Preparing wheel metadata ... \u001b[?25l\u001b[?25hdone\n",
            "Collecting stdiomask>=0.0.3\n",
            "  Downloading https://files.pythonhosted.org/packages/47/a2/f72fd263cecb11ed4cc96bd31608359e1df30349c665674e5c35ea9a72d6/stdiomask-0.0.6.tar.gz\n",
            "  Installing build dependencies ... \u001b[?25l\u001b[?25hdone\n",
            "  Getting requirements to build wheel ... \u001b[?25l\u001b[?25hdone\n",
            "    Preparing wheel metadata ... \u001b[?25l\u001b[?25hdone\n",
            "Collecting pysimplevalidate>=0.2.7\n",
            "  Downloading https://files.pythonhosted.org/packages/0b/54/8fd99436073dbdbba719e08e1b7e5f3f36a8cc9e518612e1b97e4806d2ce/PySimpleValidate-0.2.12.tar.gz\n",
            "  Installing build dependencies ... \u001b[?25l\u001b[?25hdone\n",
            "  Getting requirements to build wheel ... \u001b[?25l\u001b[?25hdone\n",
            "    Preparing wheel metadata ... \u001b[?25l\u001b[?25hdone\n",
            "Building wheels for collected packages: pyinputplus, stdiomask, pysimplevalidate\n",
            "  Building wheel for pyinputplus (PEP 517) ... \u001b[?25l\u001b[?25hdone\n",
            "  Created wheel for pyinputplus: filename=PyInputPlus-0.2.12-cp37-none-any.whl size=11315 sha256=34d573b03cade5ea61866fc5e211ceac0336daa7ee5d6646a643f6956aa0b3e4\n",
            "  Stored in directory: /root/.cache/pip/wheels/6a/fe/06/583326d5cf9ab6319b08f44ffbb8b804acb97cec61274c4b7b\n",
            "  Building wheel for stdiomask (PEP 517) ... \u001b[?25l\u001b[?25hdone\n",
            "  Created wheel for stdiomask: filename=stdiomask-0.0.6-cp37-none-any.whl size=3320 sha256=1779f6d6261ef7fac8d18f8ca437c80a01e5280672819331f37beb909c83e68d\n",
            "  Stored in directory: /root/.cache/pip/wheels/a6/ff/34/66b26f570405c34acc8f39b8ec3f27f5cbeea05234f18959fd\n",
            "  Building wheel for pysimplevalidate (PEP 517) ... \u001b[?25l\u001b[?25hdone\n",
            "  Created wheel for pysimplevalidate: filename=PySimpleValidate-0.2.12-cp37-none-any.whl size=16192 sha256=1767237bbcef1d44e6bee3ccbdfa2075391f08bbbfec0657d4b6db401e2703ef\n",
            "  Stored in directory: /root/.cache/pip/wheels/11/08/e4/f395618ca9df12cfd52aa0d916153584a7e277bd5e87cf2fc2\n",
            "Successfully built pyinputplus stdiomask pysimplevalidate\n",
            "Installing collected packages: stdiomask, pysimplevalidate, pyinputplus\n",
            "Successfully installed pyinputplus-0.2.12 pysimplevalidate-0.2.12 stdiomask-0.0.6\n"
          ],
          "name": "stdout"
        }
      ]
    },
    {
      "cell_type": "markdown",
      "metadata": {
        "id": "n2Yj7EwtMxbd"
      },
      "source": [
        "7.If blank input is entered three times, what does inputStr(limit=3, default=&#39;hello&#39;) do?"
      ]
    },
    {
      "cell_type": "code",
      "metadata": {
        "id": "TmUuXRaDbVi4",
        "colab": {
          "base_uri": "https://localhost:8080/"
        },
        "outputId": "8e845127-440a-486f-b3a7-34cf2f666a25"
      },
      "source": [
        " import pyinputplus as pyip\n",
        " response = pyip.inputStr(limit=3,default='hello')#it will say Blank values are not allowed and ask for input"
      ],
      "execution_count": 8,
      "outputs": [
        {
          "output_type": "stream",
          "text": [
            "   \n",
            "Blank values are not allowed.\n",
            "h\n"
          ],
          "name": "stdout"
        }
      ]
    }
  ]
}