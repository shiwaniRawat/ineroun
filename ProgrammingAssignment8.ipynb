{
  "nbformat": 4,
  "nbformat_minor": 0,
  "metadata": {
    "colab": {
      "name": "ProgrammingAssignment8.ipynb",
      "provenance": [],
      "authorship_tag": "ABX9TyM6rksObmLBaLCMVrNIvbNe",
      "include_colab_link": true
    },
    "kernelspec": {
      "name": "python3",
      "display_name": "Python 3"
    },
    "language_info": {
      "name": "python"
    }
  },
  "cells": [
    {
      "cell_type": "markdown",
      "metadata": {
        "id": "view-in-github",
        "colab_type": "text"
      },
      "source": [
        "<a href=\"https://colab.research.google.com/github/shiwaniRawat/ineroun/blob/main/ProgrammingAssignment8.ipynb\" target=\"_parent\"><img src=\"https://colab.research.google.com/assets/colab-badge.svg\" alt=\"Open In Colab\"/></a>"
      ]
    },
    {
      "cell_type": "code",
      "metadata": {
        "id": "lV9TLWs9biB8",
        "colab": {
          "base_uri": "https://localhost:8080/"
        },
        "outputId": "6ddb935d-e02a-4b77-eca6-9829490322af"
      },
      "source": [
        "# Q1\n",
        "matrix1=[]\n",
        "num=int(input(\"Enter the matrix: \"))\n",
        "print(\"Enter the element: \")\n",
        "for i in range(num):\n",
        "  row=[]\n",
        "  for j in range(num):\n",
        "    row.append(int(input()))\n",
        "  matrix1.append(row)\n",
        "print(matrix1)\n",
        "print(\"Matrix\")\n",
        "for i in range(num):\n",
        "  for j in range(num):\n",
        "    print(matrix1[i][j],end=\" \")\n",
        "  print()\n",
        "\n",
        "matrix2=[]\n",
        "num=int(input(\"Enter the matrix: \"))\n",
        "print(\"Enter the element: \")\n",
        "for i in range(num):\n",
        "  row=[]\n",
        "  for j in range(num):\n",
        "    row.append(int(input()))\n",
        "  matrix2.append(row)\n",
        "print(matrix2)\n",
        "print(\"Matrix\")\n",
        "for i in range(num):\n",
        "  for j in range(num):\n",
        "    print(matrix2[i][j],end=\" \")\n",
        "  print()\n",
        "result = [[0,0,0], [0,0,0], [0,0,0]]\n",
        "for i in range(num):\n",
        "  for j in range(len(matrix1[0])):\n",
        "    result[i][j]=matrix1[i][j]+matrix2[i][j]\n",
        "  print(\"matrix\")\n",
        "  for r in result:\n",
        "    print(r)\n"
      ],
      "execution_count": null,
      "outputs": [
        {
          "output_type": "stream",
          "text": [
            "Enter the matrix: 2\n",
            "Enter the element: \n",
            "1\n",
            "1\n",
            "2\n",
            "2\n",
            "[[1, 1], [2, 2]]\n",
            "Matrix\n",
            "1 1 \n",
            "2 2 \n",
            "Enter the matrix: 2\n",
            "Enter the element: \n",
            "4\n",
            "4\n",
            "3\n",
            "3\n",
            "[[4, 4], [3, 3]]\n",
            "Matrix\n",
            "4 4 \n",
            "3 3 \n",
            "matrix\n",
            "[5, 5, 0]\n",
            "[0, 0, 0]\n",
            "[0, 0, 0]\n",
            "matrix\n",
            "[5, 5, 0]\n",
            "[5, 5, 0]\n",
            "[0, 0, 0]\n"
          ],
          "name": "stdout"
        }
      ]
    },
    {
      "cell_type": "code",
      "metadata": {
        "colab": {
          "base_uri": "https://localhost:8080/"
        },
        "id": "_OfiWSQS3AKk",
        "outputId": "25f3fda2-c5fe-4ef3-ea0d-07b0dedce766"
      },
      "source": [
        "# Q2\n",
        "matrix1=[]\n",
        "num=int(input(\"Enter the matrix: \"))\n",
        "print(\"Enter the element: \")\n",
        "for i in range(num):\n",
        "  row=[]\n",
        "  for j in range(num):\n",
        "    row.append(int(input()))\n",
        "  matrix1.append(row)\n",
        "print(matrix1)\n",
        "print(\"Matrix\")\n",
        "for i in range(num):\n",
        "  for j in range(num):\n",
        "    print(matrix1[i][j],end=\" \")\n",
        "  print()\n",
        "\n",
        "matrix2=[]\n",
        "num=int(input(\"Enter the matrix: \"))\n",
        "print(\"Enter the element: \")\n",
        "for i in range(num):\n",
        "  row=[]\n",
        "  for j in range(num):\n",
        "    row.append(int(input()))\n",
        "  matrix2.append(row)\n",
        "print(matrix2)\n",
        "print(\"Matrix\")\n",
        "for i in range(num):\n",
        "  for j in range(num):\n",
        "    print(matrix2[i][j],end=\" \")\n",
        "  print()\n",
        "\n",
        "result = [ [0,0,0],[0,0,0],[0,0,0] ]\n",
        "\n",
        "my_list = []\n",
        "for i in range( len(matrix1) ):\n",
        "   for j in range(len(matrix2[0])):\n",
        "       for k in range(len(matrix2)):\n",
        "           result[i][j] += matrix1[i][k] * matrix2[k][j]\n",
        "  \n",
        "\n",
        "for r in result:\n",
        "   print(r)"
      ],
      "execution_count": 9,
      "outputs": [
        {
          "output_type": "stream",
          "text": [
            "Enter the matrix: 2\n",
            "Enter the element: \n",
            "1\n",
            "2\n",
            "1\n",
            "2\n",
            "[[1, 2], [1, 2]]\n",
            "Matrix\n",
            "1 2 \n",
            "1 2 \n",
            "Enter the matrix: 2\n",
            "Enter the element: \n",
            "1\n",
            "2\n",
            "1\n",
            "2\n",
            "[[1, 2], [1, 2]]\n",
            "Matrix\n",
            "1 2 \n",
            "1 2 \n",
            "[3, 6, 0]\n",
            "[3, 6, 0]\n",
            "[0, 0, 0]\n"
          ],
          "name": "stdout"
        }
      ]
    },
    {
      "cell_type": "code",
      "metadata": {
        "colab": {
          "base_uri": "https://localhost:8080/"
        },
        "id": "nPDTH-QO6e7Z",
        "outputId": "d3246bb6-58d7-41a8-8b54-05e34674fee2"
      },
      "source": [
        "# Q3\n",
        "matrix1=[]\n",
        "num=int(input(\"Enter the matrix: \"))\n",
        "print(\"Enter the element: \")\n",
        "for i in range(num):\n",
        "  row=[]\n",
        "  for j in range(num):\n",
        "    row.append(int(input()))\n",
        "  matrix1.append(row)\n",
        "print(matrix1)\n",
        "print(\"Matrix\")\n",
        "for i in range(num):\n",
        "  for j in range(num):\n",
        "    print(matrix1[i][j],end=\" \")\n",
        "  print()\n",
        "\n",
        "result = [ [0,0,0],[0,0,0],[0,0,0] ]\n",
        "for i in range(len(matrix1)):\n",
        "  for j in range(len(matrix1[0])):\n",
        "    result[j][i]=matrix1[i][j]\n",
        "\n",
        "for r in result:\n",
        "  print(r)\n"
      ],
      "execution_count": 15,
      "outputs": [
        {
          "output_type": "stream",
          "text": [
            "Enter the matrix: 2\n",
            "Enter the element: \n",
            "1\n",
            "2\n",
            "3\n",
            "4\n",
            "[[1, 2], [3, 4]]\n",
            "Matrix\n",
            "1 2 \n",
            "3 4 \n",
            "[1, 3, 0]\n",
            "[2, 4, 0]\n",
            "[0, 0, 0]\n"
          ],
          "name": "stdout"
        }
      ]
    },
    {
      "cell_type": "code",
      "metadata": {
        "colab": {
          "base_uri": "https://localhost:8080/"
        },
        "id": "2OxcTVnD_foR",
        "outputId": "1a35a869-0809-459d-b63f-b92223d03f14"
      },
      "source": [
        "# Q4\n",
        "str=input(\"Enter your string: \")\n",
        "w=[word.lower() for word in str.split() ]\n",
        "w.sort()\n",
        "for word in w:\n",
        "  print(word)\n"
      ],
      "execution_count": 12,
      "outputs": [
        {
          "output_type": "stream",
          "text": [
            "Enter your string: Hello this Is an Example With cased letters\n",
            "an\n",
            "cased\n",
            "example\n",
            "hello\n",
            "is\n",
            "letters\n",
            "this\n",
            "with\n"
          ],
          "name": "stdout"
        }
      ]
    },
    {
      "cell_type": "code",
      "metadata": {
        "colab": {
          "base_uri": "https://localhost:8080/"
        },
        "id": "fJtHARcShf2q",
        "outputId": "e3ed8570-c3d0-4eb0-a1c0-45ff5736802e"
      },
      "source": [
        "# Q5\n",
        "punctuation = '''''!()-[]{};:'\"\\,<>./?@#$%^&*_~'''  \n",
        "str = input(\"Enter a string: \")  \n",
        "punct = \"\"  \n",
        "for i in str:  \n",
        "   if i not in punctuation:  \n",
        "       punct = punct + i  \n",
        "print(punct)  "
      ],
      "execution_count": 13,
      "outputs": [
        {
          "output_type": "stream",
          "text": [
            "Enter a string: !()-[]{};:gg\n",
            "gg\n"
          ],
          "name": "stdout"
        }
      ]
    }
  ]
}