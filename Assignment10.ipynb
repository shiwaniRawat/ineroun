{
  "nbformat": 4,
  "nbformat_minor": 0,
  "metadata": {
    "colab": {
      "name": "Assignment10.ipynb",
      "provenance": [],
      "authorship_tag": "ABX9TyN0/MGeQecJKAG25ZGHZui3",
      "include_colab_link": true
    },
    "kernelspec": {
      "name": "python3",
      "display_name": "Python 3"
    },
    "language_info": {
      "name": "python"
    }
  },
  "cells": [
    {
      "cell_type": "markdown",
      "metadata": {
        "id": "view-in-github",
        "colab_type": "text"
      },
      "source": [
        "<a href=\"https://colab.research.google.com/github/shiwaniRawat/ineroun/blob/main/Assignment10.ipynb\" target=\"_parent\"><img src=\"https://colab.research.google.com/assets/colab-badge.svg\" alt=\"Open In Colab\"/></a>"
      ]
    },
    {
      "cell_type": "markdown",
      "metadata": {
        "id": "t4pjl9YROrNw"
      },
      "source": [
        "1.How do you distinguish between shutil.copy() and shutil.copytree()?"
      ]
    },
    {
      "cell_type": "markdown",
      "metadata": {
        "id": "h6TfECXWO8Hj"
      },
      "source": [
        "shutil.copy() will copy a single file,shutil.copytree() will copy an entire folder and all folder file contained in it."
      ]
    },
    {
      "cell_type": "markdown",
      "metadata": {
        "id": "n63YACUvPRAA"
      },
      "source": [
        "2.What function is used to rename files??"
      ]
    },
    {
      "cell_type": "markdown",
      "metadata": {
        "id": "1C2XqXwIPo10"
      },
      "source": [
        "shutil.move() method is used to rename a flie."
      ]
    },
    {
      "cell_type": "markdown",
      "metadata": {
        "id": "E28f3KnEPwVc"
      },
      "source": [
        "3.What is the difference between the delete functions in the send2trash and shutil modules?"
      ]
    },
    {
      "cell_type": "markdown",
      "metadata": {
        "id": "FF5Mq5aoQgM2"
      },
      "source": [
        "send2trash function will move a file or folder to the recycle bin,on other side shutil functions will permanently delete files and folder."
      ]
    },
    {
      "cell_type": "markdown",
      "metadata": {
        "id": "XO-2xDQOQ8R0"
      },
      "source": [
        "4.ZipFile objects have a close() method just like File objects’ close() method. What ZipFile method is\n",
        "equivalent to File objects’ open() method?"
      ]
    },
    {
      "cell_type": "markdown",
      "metadata": {
        "id": "pCvkP6lPRLKG"
      },
      "source": [
        "The zipfile.ZipFile() function is equivalent to the open() function; the first argument is the filename, and the second argument is the mode to open the ZIP file in (read, write, or append)."
      ]
    },
    {
      "cell_type": "markdown",
      "metadata": {
        "id": "TJ2_yiGfRcl3"
      },
      "source": [
        "5.Create a programme that searches a folder tree for files with a certain file extension (such as .pdf\n",
        "or .jpg). Copy these files from whatever location they are in to a new folder."
      ]
    },
    {
      "cell_type": "code",
      "metadata": {
        "id": "Bp1AyVJAOnGa",
        "colab": {
          "base_uri": "https://localhost:8080/"
        },
        "outputId": "2ccbc0ba-741c-4d61-bf3d-379201908d7f"
      },
      "source": [
        "# https://kirtipurohit025.medium.com/automate-the-boring-stuff-projects-831d39b994d2\n",
        "# https://codereview.stackexchange.com/questions/201881/find-files-by-pattern-and-copy-to-target-location\n",
        "\n",
        "import os, shutil\n",
        "\n",
        "def sCopy(folder, extensions, destFolder):\n",
        "\tfolder = os.path.abspath(folder)\n",
        "\tdestFolder = os.path.abspath(destFolder)\n",
        "\tprint('Looking in', folder, 'for files with extensions of', ', '.join(extensions))\n",
        "\tfor foldername, subfolders, filenames in os.walk(folder):\n",
        "\t\tfor filename in filenames:\n",
        "\t\t\tname, extension = os.path.splitext(filename)\n",
        "\t\t\tif extension in extensions:\n",
        "\t\t\t\tfileAbsPath = foldername + os.path.sep + filename\n",
        "\t\t\t\tprint('Coping', fileAbsPath, 'to', destFolder)\n",
        "\t\t\t\tshutil.copy(fileAbsPath, destFolder)\n",
        "\n",
        "extensions = ['.php', '.py']\n",
        "folder = 'randomFolder'\n",
        "destFolder = 'selectiveFolder'\n",
        "sCopy(folder, extensions, destFolder)"
      ],
      "execution_count": 2,
      "outputs": [
        {
          "output_type": "stream",
          "text": [
            "Looking in /content/randomFolder for files with extensions of .php, .py\n"
          ],
          "name": "stdout"
        }
      ]
    }
  ]
}