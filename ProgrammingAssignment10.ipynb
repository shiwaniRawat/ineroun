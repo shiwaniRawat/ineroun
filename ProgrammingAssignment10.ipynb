{
  "nbformat": 4,
  "nbformat_minor": 0,
  "metadata": {
    "colab": {
      "name": "ProgrammingAssignment10.ipynb",
      "provenance": [],
      "authorship_tag": "ABX9TyNEDPeizCUQRLm3hMFKNgaX",
      "include_colab_link": true
    },
    "kernelspec": {
      "name": "python3",
      "display_name": "Python 3"
    },
    "language_info": {
      "name": "python"
    }
  },
  "cells": [
    {
      "cell_type": "markdown",
      "metadata": {
        "id": "view-in-github",
        "colab_type": "text"
      },
      "source": [
        "<a href=\"https://colab.research.google.com/github/shiwaniRawat/ineroun/blob/main/ProgrammingAssignment10.ipynb\" target=\"_parent\"><img src=\"https://colab.research.google.com/assets/colab-badge.svg\" alt=\"Open In Colab\"/></a>"
      ]
    },
    {
      "cell_type": "code",
      "metadata": {
        "id": "V-y_aGnrIB6o",
        "colab": {
          "base_uri": "https://localhost:8080/"
        },
        "outputId": "4e72cb67-2797-4b84-906a-4e77c20b3bcd"
      },
      "source": [
        "# Q1\n",
        "list = []\n",
        "\n",
        "num = int(input(\"Please enter the Total Number of List Elements : \"))\n",
        "for i in range(1, num + 1):\n",
        "    value = int(input(\"Please enter the Value of %d Element : \" %i))\n",
        "    list.append(value)\n",
        "\n",
        "total = sum(list)\n",
        "\n",
        "print(\"\\n The Sum of All Element in this List is : \", total)"
      ],
      "execution_count": null,
      "outputs": [
        {
          "output_type": "stream",
          "text": [
            "Please enter the Total Number of List Elements : 2\n",
            "Please enter the Value of 1 Element : 2\n",
            "Please enter the Value of 2 Element : 2\n",
            "\n",
            " The Sum of All Element in this List is :  4\n"
          ],
          "name": "stdout"
        }
      ]
    },
    {
      "cell_type": "code",
      "metadata": {
        "colab": {
          "base_uri": "https://localhost:8080/"
        },
        "id": "CXd79Z6ZLoOS",
        "outputId": "a029e34e-404b-4ae8-c94d-8cc103cdf694"
      },
      "source": [
        "# Q2\n",
        "my_list = []\n",
        "result = 1\n",
        "\n",
        "num = int(input(\"Please enter the Total Number of List Elements : \"))\n",
        "for i in range(1, num + 1):\n",
        "    value = int(input(\"Please enter the Value of %d Element : \" %i))\n",
        "    my_list.append(value)\n",
        "for item in my_list:\n",
        "  result = result * item\n",
        "\n",
        "print(\"multiplication of all elements : \",result)"
      ],
      "execution_count": null,
      "outputs": [
        {
          "output_type": "stream",
          "text": [
            "Please enter the Total Number of List Elements : 2\n",
            "Please enter the Value of 1 Element : 2\n",
            "Please enter the Value of 2 Element : 2\n",
            "multiplication of all elements :  4\n"
          ],
          "name": "stdout"
        }
      ]
    },
    {
      "cell_type": "code",
      "metadata": {
        "colab": {
          "base_uri": "https://localhost:8080/"
        },
        "id": "ChkWOO8YSwTZ",
        "outputId": "5016ea9a-9171-4140-8422-1e262e764367"
      },
      "source": [
        "# Q3\n",
        "list = []\n",
        "num = int(input(\"Enter number of elements in list: \"))\n",
        "for i in range(1, num + 1):\n",
        "  value= int(input(\"Please enter the Value of %d Element : \" %i))\n",
        "  list.append(value)\n",
        "print(\"Smallest element is:\", min(list))"
      ],
      "execution_count": null,
      "outputs": [
        {
          "output_type": "stream",
          "text": [
            "Enter number of elements in list: 3\n",
            "Please enter the Value of 1 Element : 0\n",
            "Please enter the Value of 2 Element : 11\n",
            "Please enter the Value of 3 Element : 2\n",
            "Smallest element is: 0\n"
          ],
          "name": "stdout"
        }
      ]
    },
    {
      "cell_type": "code",
      "metadata": {
        "colab": {
          "base_uri": "https://localhost:8080/"
        },
        "id": "bRp1rtBjUwbq",
        "outputId": "1f0270f1-2a84-4614-853e-abd3e5f9b9ef"
      },
      "source": [
        "# Q4\n",
        "list = []\n",
        "num = int(input(\"Enter number of elements in list: \"))\n",
        "for i in range(1, num + 1):\n",
        "  value= int(input(\"Please enter the Value of %d Element : \" %i))\n",
        "  list.append(value)\n",
        "print(\"Smallest element is:\", max(list))\n"
      ],
      "execution_count": null,
      "outputs": [
        {
          "output_type": "stream",
          "text": [
            "Enter number of elements in list: 5\n",
            "Please enter the Value of 1 Element : 1\n",
            "Please enter the Value of 2 Element : 20\n",
            "Please enter the Value of 3 Element : 11\n",
            "Please enter the Value of 4 Element : 3\n",
            "Please enter the Value of 5 Element : 5\n",
            "Smallest element is: 20\n"
          ],
          "name": "stdout"
        }
      ]
    },
    {
      "cell_type": "code",
      "metadata": {
        "colab": {
          "base_uri": "https://localhost:8080/"
        },
        "id": "-AFtPV_zVPOA",
        "outputId": "029d420e-96f8-4cb7-d6fa-a1f8cd344f8a"
      },
      "source": [
        "# Q5\n",
        "list=[]\n",
        "num=int(input(\"Enter number of elements in list:\"))\n",
        "for i in range(1,num+1):\n",
        "    value=int(input(\"Please enter the Value of %d Element : \" %i))\n",
        "    list.append(value)\n",
        "list.sort()\n",
        "print(\"Second largest element is:\",list[num-2])"
      ],
      "execution_count": null,
      "outputs": [
        {
          "output_type": "stream",
          "text": [
            "Enter number of elements in list:5\n",
            "Please enter the Value of 1 Element : 1\n",
            "Please enter the Value of 2 Element : 0\n",
            "Please enter the Value of 3 Element : 0\n",
            "Please enter the Value of 4 Element : 10\n",
            "Please enter the Value of 5 Element : 20\n",
            "Second largest element is: 10\n"
          ],
          "name": "stdout"
        }
      ]
    },
    {
      "cell_type": "code",
      "metadata": {
        "colab": {
          "base_uri": "https://localhost:8080/"
        },
        "id": "EWyN3I-a2zxR",
        "outputId": "19ee048a-f090-447b-c86b-118d99083eca"
      },
      "source": [
        "# Q6\n",
        "list=[]\n",
        "num=int(input(\"Enter number of elements in list:\"))\n",
        "for i in range(1,num+1):\n",
        "    value=int(input(\"Please enter the Value of %d Element : \" %i))\n",
        "    list.append(value)\n",
        "n=int(input(\"enter the position: \"))\n",
        "list.sort()\n",
        "print(list[-n:])\n"
      ],
      "execution_count": 2,
      "outputs": [
        {
          "output_type": "stream",
          "text": [
            "Enter number of elements in list:4\n",
            "Please enter the Value of 1 Element : 10\n",
            "Please enter the Value of 2 Element : 11\n",
            "Please enter the Value of 3 Element : 15\n",
            "Please enter the Value of 4 Element : 1\n",
            "enter the position: 2\n",
            "[11, 15]\n"
          ],
          "name": "stdout"
        }
      ]
    },
    {
      "cell_type": "code",
      "metadata": {
        "colab": {
          "base_uri": "https://localhost:8080/"
        },
        "id": "mZ8tQxyw3dKf",
        "outputId": "d43662ce-51bb-4f09-e7dc-0d0027ca3fd6"
      },
      "source": [
        "# Q7\n",
        "list=[]\n",
        "\n",
        "num=int(input(\"Enter number of elements in list:\"))\n",
        "for i in range(1,num+1):\n",
        "    value=int(input(\"Please enter the Value of %d Element : \" %i))\n",
        "    list.append(value)\n",
        "\n",
        "for i in list:\n",
        "      \n",
        "    # checking condition\n",
        "    if i % 2 == 0:\n",
        "      print(i, end = \" \")"
      ],
      "execution_count": 17,
      "outputs": [
        {
          "output_type": "stream",
          "text": [
            "Enter number of elements in list:5\n",
            "Please enter the Value of 1 Element : 10\n",
            "Please enter the Value of 2 Element : 20\n",
            "Please enter the Value of 3 Element : 6\n",
            "Please enter the Value of 4 Element : 3\n",
            "Please enter the Value of 5 Element : 7\n",
            "10 20 6 "
          ],
          "name": "stdout"
        }
      ]
    },
    {
      "cell_type": "code",
      "metadata": {
        "colab": {
          "base_uri": "https://localhost:8080/"
        },
        "id": "RGi86EA7_pzV",
        "outputId": "9f624551-89d9-4bb8-edc5-c228182e4346"
      },
      "source": [
        "# Q8\n",
        "list=[]\n",
        "\n",
        "num=int(input(\"Enter number of elements in list:\"))\n",
        "for i in range(1,num+1):\n",
        "    value=int(input(\"Please enter the Value of %d Element : \" %i))\n",
        "    list.append(value)\n",
        "\n",
        "for i in list:\n",
        "      \n",
        "    # checking condition\n",
        "    if i % 2 != 0:\n",
        "      print(i, end = \" \")"
      ],
      "execution_count": 18,
      "outputs": [
        {
          "output_type": "stream",
          "text": [
            "Enter number of elements in list:6\n",
            "Please enter the Value of 1 Element : 10\n",
            "Please enter the Value of 2 Element : 1\n",
            "Please enter the Value of 3 Element : 3\n",
            "Please enter the Value of 4 Element : 5\n",
            "Please enter the Value of 5 Element : 60\n",
            "Please enter the Value of 6 Element : 70\n",
            "1 3 5 "
          ],
          "name": "stdout"
        }
      ]
    },
    {
      "cell_type": "code",
      "metadata": {
        "colab": {
          "base_uri": "https://localhost:8080/"
        },
        "id": "lfRvI1JIWu4Z",
        "outputId": "a35e5070-46c8-4bfa-98d6-4fdc670275fb"
      },
      "source": [
        "# Q9\n",
        "\n",
        "list1 = [[], [], [], [40,50],  [90,80], [1,2], 'Blue', [], []]\n",
        "\n",
        "print(list1)\n",
        "list2 = [x for x in list1 if x]\n",
        "print(list2)\n"
      ],
      "execution_count": 32,
      "outputs": [
        {
          "output_type": "stream",
          "text": [
            "[[], [], [], [40, 50], [90, 80], [1, 2], 'Blue', [], []]\n",
            "[[40, 50], [90, 80], [1, 2], 'Blue']\n"
          ],
          "name": "stdout"
        }
      ]
    },
    {
      "cell_type": "code",
      "metadata": {
        "colab": {
          "base_uri": "https://localhost:8080/"
        },
        "id": "Qh_hhnTWAYyQ",
        "outputId": "e2df67f0-7f58-47df-bd6f-319ff2af38ae"
      },
      "source": [
        "# Q10\n",
        "list=[]\n",
        "list1=[]\n",
        "\n",
        "num=int(input(\"Enter number of elements in list:\"))\n",
        "for i in range(1,num+1):\n",
        "    value=int(input(\"Please enter the Value of %d Element : \" %i))\n",
        "    list.append(value)\n",
        "print(list)\n",
        "list1=[i for i in list]\n",
        "print(list1)"
      ],
      "execution_count": 22,
      "outputs": [
        {
          "output_type": "stream",
          "text": [
            "Enter number of elements in list:6\n",
            "Please enter the Value of 1 Element : 1\n",
            "Please enter the Value of 2 Element : 2\n",
            "Please enter the Value of 3 Element : 3\n",
            "Please enter the Value of 4 Element : 4\n",
            "Please enter the Value of 5 Element : 5\n",
            "Please enter the Value of 6 Element : 6\n",
            "[1, 2, 3, 4, 5, 6]\n",
            "[1, 2, 3, 4, 5, 6]\n"
          ],
          "name": "stdout"
        }
      ]
    },
    {
      "cell_type": "code",
      "metadata": {
        "colab": {
          "base_uri": "https://localhost:8080/"
        },
        "id": "V24sbRfBVe7Z",
        "outputId": "55281a9d-f402-47ec-b9dd-adac4058ba29"
      },
      "source": [
        "# Q11\n",
        "list=[]\n",
        "count=0\n",
        "num=int(input(\"Enter number of elements in list:\"))\n",
        "for i in range(1,num+1):\n",
        "    value=int(input(\"Please enter the Value of %d Element : \" %i))\n",
        "    list.append(value)\n",
        "n=int(input(\"Enter the number u want to count: \"))\n",
        "for i in list:\n",
        "  if(i==n):\n",
        "    count=count+1\n",
        "print(count)\n"
      ],
      "execution_count": 23,
      "outputs": [
        {
          "output_type": "stream",
          "text": [
            "Enter number of elements in list:4\n",
            "Please enter the Value of 1 Element : 1\n",
            "Please enter the Value of 2 Element : 1\n",
            "Please enter the Value of 3 Element : 2\n",
            "Please enter the Value of 4 Element : 1\n",
            "Enter the number u want to count: 1\n",
            "3\n"
          ],
          "name": "stdout"
        }
      ]
    },
    {
      "cell_type": "code",
      "metadata": {
        "id": "q7nQwxAuVoWi"
      },
      "source": [
        "count = 0\n",
        "    for ele in lst:\n",
        "        if (ele == x):\n",
        "            count = count + 1"
      ],
      "execution_count": null,
      "outputs": []
    }
  ]
}