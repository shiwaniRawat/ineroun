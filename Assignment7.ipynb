{
  "nbformat": 4,
  "nbformat_minor": 0,
  "metadata": {
    "colab": {
      "name": "Assignment7.ipynb",
      "provenance": [],
      "authorship_tag": "ABX9TyP0gB8NVynjOdvcfwcsPwgu",
      "include_colab_link": true
    },
    "kernelspec": {
      "name": "python3",
      "display_name": "Python 3"
    },
    "language_info": {
      "name": "python"
    }
  },
  "cells": [
    {
      "cell_type": "markdown",
      "metadata": {
        "id": "view-in-github",
        "colab_type": "text"
      },
      "source": [
        "<a href=\"https://colab.research.google.com/github/shiwaniRawat/ineroun/blob/main/Assignment7.ipynb\" target=\"_parent\"><img src=\"https://colab.research.google.com/assets/colab-badge.svg\" alt=\"Open In Colab\"/></a>"
      ]
    },
    {
      "cell_type": "markdown",
      "metadata": {
        "id": "Bin_e3TBLdgS"
      },
      "source": [
        "1.What is the name of the feature responsible for generating Regex objects?"
      ]
    },
    {
      "cell_type": "markdown",
      "metadata": {
        "id": "K5LkxsCgLhOQ"
      },
      "source": [
        "re.compile()"
      ]
    },
    {
      "cell_type": "markdown",
      "metadata": {
        "id": "lUcAWC_bukWp"
      },
      "source": [
        "2.Why do raw strings often appear in Regex objects?"
      ]
    },
    {
      "cell_type": "markdown",
      "metadata": {
        "id": "0lZ00Gl9vz9G"
      },
      "source": [
        "raw strings are used so that backslashes do not have to be escaped."
      ]
    },
    {
      "cell_type": "markdown",
      "metadata": {
        "id": "cbGZbIPQ2ljH"
      },
      "source": [
        "3.What is the return value of the search() method?"
      ]
    },
    {
      "cell_type": "markdown",
      "metadata": {
        "id": "dCUybqZG2z1r"
      },
      "source": [
        "it returns Match objects"
      ]
    },
    {
      "cell_type": "markdown",
      "metadata": {
        "id": "2zTUcone24_f"
      },
      "source": [
        "4.From a Match item, how do you get the actual strings that match the pattern?"
      ]
    },
    {
      "cell_type": "markdown",
      "metadata": {
        "id": "b3CfveyC4TIA"
      },
      "source": [
        "group() method is used"
      ]
    },
    {
      "cell_type": "markdown",
      "metadata": {
        "id": "0XwlfFHV4aYs"
      },
      "source": [
        "5.In the regex which created from the r&#39;(\\d\\d\\d)-(\\d\\d\\d-\\d\\d\\d\\d)&#39;, what does group zero cover?\n",
        "Group 2? Group 1?"
      ]
    },
    {
      "cell_type": "markdown",
      "metadata": {
        "id": "qorNrqNb4gDO"
      },
      "source": [
        "Group 0 contain entire match group 1 have first set of parentheses group2 have second set of parentheses."
      ]
    },
    {
      "cell_type": "markdown",
      "metadata": {
        "id": "sSpQiRVt7hDv"
      },
      "source": [
        "6.In standard expression syntax, parentheses and intervals have distinct meanings. How can you tell a regex that you want it to fit real parentheses and periods?"
      ]
    },
    {
      "cell_type": "code",
      "metadata": {
        "id": "HkzEBD53LWmy"
      },
      "source": [
        "# by using backslash \\,\\(,and \\)"
      ],
      "execution_count": null,
      "outputs": []
    },
    {
      "cell_type": "markdown",
      "metadata": {
        "id": "xPRpNu2Twcb8"
      },
      "source": [
        "7.The findall() method returns a string list or a list of string tuples. What causes it to return one of\n",
        "the two options?"
      ]
    },
    {
      "cell_type": "markdown",
      "metadata": {
        "id": "cqLosz1NyuFo"
      },
      "source": [
        "findall() return all the match if their is group a list of tuples of string is returned.if their is no group the list of strings is returne."
      ]
    },
    {
      "cell_type": "markdown",
      "metadata": {
        "id": "7Y6Y73J9zxNp"
      },
      "source": [
        "8.In standard expressions, what does the | character mean?"
      ]
    },
    {
      "cell_type": "markdown",
      "metadata": {
        "id": "bPgzBeGC0Lxh"
      },
      "source": [
        "the | character mean either or\n",
        "\n"
      ]
    },
    {
      "cell_type": "markdown",
      "metadata": {
        "id": "ItxpufAt1WVf"
      },
      "source": [
        "9.In regular expressions, what does the character stand for?"
      ]
    },
    {
      "cell_type": "markdown",
      "metadata": {
        "id": "Bf-jXD3s2rZc"
      },
      "source": [
        "character stand for sequence of characters that defines a search pattern.example-:^a...s$"
      ]
    },
    {
      "cell_type": "markdown",
      "metadata": {
        "id": "GVpm-IuiwBIy"
      },
      "source": [
        "10.In regular expressions, what is the difference between the + and * characters?"
      ]
    },
    {
      "cell_type": "markdown",
      "metadata": {
        "id": "ZmE0SnAj2oTR"
      },
      "source": [
        "*(star symbol) matches zero or more occurences of the pattern left to it.\n",
        "\n",
        "+(plus symbol) matches one or more occurencesof the pattern left to it\n",
        "\n",
        "\n"
      ]
    },
    {
      "cell_type": "markdown",
      "metadata": {
        "id": "yB1YLzOm6qN1"
      },
      "source": [
        "11.What is the difference between {4} and {4,5} in regular expression?"
      ]
    },
    {
      "cell_type": "markdown",
      "metadata": {
        "id": "5hi6ls9C-7QH"
      },
      "source": [
        "{4} matches exactly four instances of the preceding group.{4,5} matches between four and five instances."
      ]
    },
    {
      "cell_type": "markdown",
      "metadata": {
        "id": "--XPHf4T_MAx"
      },
      "source": [
        "12.What do you mean by the \\d, \\w, and \\s shorthand character classes signify in regular\n",
        "expressions?"
      ]
    },
    {
      "cell_type": "markdown",
      "metadata": {
        "id": "C69UGVaiA4zC"
      },
      "source": [
        "\\d shorthand character that match a single digit.\n",
        "\n",
        "\\w word character is a letter,number,underscore[a-z A-Z 0-9]\n",
        "\n",
        "\\s matches a whitespace character"
      ]
    },
    {
      "cell_type": "markdown",
      "metadata": {
        "id": "4e7jRqYCGb8u"
      },
      "source": [
        "13.What do means by \\D, \\W, and \\S shorthand character classes signify in regular expressions?"
      ]
    },
    {
      "cell_type": "markdown",
      "metadata": {
        "id": "5kPjXb6xGjbc"
      },
      "source": [
        "\\S matches where a string contain any non-whitespace character.\n",
        "\n",
        "\\W matches any non-alphanumeric character.\n",
        "\n",
        "\\D matches any non-decimal digit"
      ]
    },
    {
      "cell_type": "markdown",
      "metadata": {
        "id": "uh7yUXo1HV_E"
      },
      "source": [
        "14. What is the difference between .*? and .*?"
      ]
    },
    {
      "cell_type": "markdown",
      "metadata": {
        "id": "u6J1Y06hIm5x"
      },
      "source": [
        ".(dot) performs a greedy match .? performs a nongreedy match."
      ]
    },
    {
      "cell_type": "markdown",
      "metadata": {
        "id": "GIfilHM6I5S8"
      },
      "source": [
        "15.What is the syntax for matching both numbers and lowercase letters with a character class?"
      ]
    },
    {
      "cell_type": "markdown",
      "metadata": {
        "id": "3hXSFLA9JwCx"
      },
      "source": [
        "[0-9a-z]or[a-z0-9]"
      ]
    },
    {
      "cell_type": "markdown",
      "metadata": {
        "id": "dgV4FxRoQthH"
      },
      "source": [
        "16.What is the procedure for making a normal expression in regax case insensitive?"
      ]
    },
    {
      "cell_type": "markdown",
      "metadata": {
        "id": "IV8X8vUoa9d_"
      },
      "source": [
        "Passing re.I or re.IGNORECASE as the second argument to re.compile() will make the matching case insensitive."
      ]
    },
    {
      "cell_type": "markdown",
      "metadata": {
        "id": "ZuMa89sfa_iX"
      },
      "source": [
        "17.What does the . character normally match? What does it match if re.DOTALL is passed as 2nd\n",
        "argument in re.compile()?"
      ]
    },
    {
      "cell_type": "markdown",
      "metadata": {
        "id": "eLd0UT9xbRSX"
      },
      "source": [
        "re.DOTALL is passed as the second argument to re.compile() then dot will also match newline characters .(dot) character matches any character except the newline character"
      ]
    },
    {
      "cell_type": "markdown",
      "metadata": {
        "id": "yPPt2eQQh70N"
      },
      "source": [
        "18.If numReg = re.compile(r&#39;\\d+&#39;), what will numRegex.sub(&#39;X&#39;, &#39;11 drummers, 10 pipers, five rings, 4\n",
        "hen&#39;) return?"
      ]
    },
    {
      "cell_type": "markdown",
      "metadata": {
        "id": "vIwHl14fh9jQ"
      },
      "source": [
        "X drummers,x popers five rings x hens"
      ]
    },
    {
      "cell_type": "markdown",
      "metadata": {
        "id": "-OV-dFQ5iWgr"
      },
      "source": [
        "19.What does passing re.VERBOSE as the 2nd argument to re.compile() allow to do?"
      ]
    },
    {
      "cell_type": "markdown",
      "metadata": {
        "id": "jv_LoKRnjLX5"
      },
      "source": [
        "it allows us to add whitespace and comments to the string passed to re.compile()"
      ]
    },
    {
      "cell_type": "markdown",
      "metadata": {
        "id": "oeG5tPVojU1v"
      },
      "source": [
        "# Q20\n"
      ]
    },
    {
      "cell_type": "markdown",
      "metadata": {
        "id": "QoCg4j2sjmyw"
      },
      "source": [
        "re.compile(r'^\\d{1,3}(,\\d{3})*$') will create this regex, but other regex strings can produce a similar regular expression."
      ]
    },
    {
      "cell_type": "markdown",
      "metadata": {
        "id": "voM2oEBcjy57"
      },
      "source": [
        "#Q21"
      ]
    },
    {
      "cell_type": "markdown",
      "metadata": {
        "id": "TiucEcJFj17W"
      },
      "source": [
        "re.compile(r'[A-Z][a-z]*\\sNakamoto')"
      ]
    },
    {
      "cell_type": "markdown",
      "metadata": {
        "id": "q3gGq0-okFge"
      },
      "source": [
        "#Q22"
      ]
    },
    {
      "cell_type": "markdown",
      "metadata": {
        "id": "DaTtIW3OkI4n"
      },
      "source": [
        "re.compile(r'(Alice|Bob|Carol)\\s(eats|pets|throws)\\s(apples|cats|baseballs)\\.', re.IGNORECASE)"
      ]
    },
    {
      "cell_type": "code",
      "metadata": {
        "id": "QRmWmWnXkH_3"
      },
      "source": [
        ""
      ],
      "execution_count": null,
      "outputs": []
    },
    {
      "cell_type": "code",
      "metadata": {
        "id": "J5mpbj7HytLE"
      },
      "source": [
        ""
      ],
      "execution_count": null,
      "outputs": []
    }
  ]
}