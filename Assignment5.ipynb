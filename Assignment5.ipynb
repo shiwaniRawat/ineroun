{
  "nbformat": 4,
  "nbformat_minor": 0,
  "metadata": {
    "colab": {
      "name": "Assignment5.ipynb",
      "provenance": [],
      "authorship_tag": "ABX9TyOH+mBQOea7difezYL4lqGT",
      "include_colab_link": true
    },
    "kernelspec": {
      "name": "python3",
      "display_name": "Python 3"
    },
    "language_info": {
      "name": "python"
    }
  },
  "cells": [
    {
      "cell_type": "markdown",
      "metadata": {
        "id": "view-in-github",
        "colab_type": "text"
      },
      "source": [
        "<a href=\"https://colab.research.google.com/github/shiwaniRawat/ineroun/blob/main/Assignment5.ipynb\" target=\"_parent\"><img src=\"https://colab.research.google.com/assets/colab-badge.svg\" alt=\"Open In Colab\"/></a>"
      ]
    },
    {
      "cell_type": "markdown",
      "metadata": {
        "id": "YdW4SpdYGaKw"
      },
      "source": [
        "1.What does an empty dictionary&#39;s code look like?"
      ]
    },
    {
      "cell_type": "code",
      "metadata": {
        "colab": {
          "base_uri": "https://localhost:8080/"
        },
        "id": "_uD0NN4FFUIZ",
        "outputId": "dd2ce8f8-c3be-4a58-ea5b-63acbcd0766b"
      },
      "source": [
        "dic={}\n",
        "print(dic)"
      ],
      "execution_count": 1,
      "outputs": [
        {
          "output_type": "stream",
          "text": [
            "{}\n"
          ],
          "name": "stdout"
        }
      ]
    },
    {
      "cell_type": "markdown",
      "metadata": {
        "id": "dPwOhpW8QNvM"
      },
      "source": [
        "2.What is the value of a dictionary value with the key &#39;foo&#39; and the value 42?"
      ]
    },
    {
      "cell_type": "code",
      "metadata": {
        "colab": {
          "base_uri": "https://localhost:8080/"
        },
        "id": "GC0MpppZQTzH",
        "outputId": "7025b535-f19a-43e0-9b3a-3aa3a37fd5f2"
      },
      "source": [
        "dic = {\"foo\":42}\n",
        "dic.values()"
      ],
      "execution_count": 2,
      "outputs": [
        {
          "output_type": "execute_result",
          "data": {
            "text/plain": [
              "dict_values([42])"
            ]
          },
          "metadata": {
            "tags": []
          },
          "execution_count": 2
        }
      ]
    },
    {
      "cell_type": "markdown",
      "metadata": {
        "id": "yjZ3-PzmQald"
      },
      "source": [
        "3.What is the most significant distinction between a dictionary and a list?"
      ]
    },
    {
      "cell_type": "markdown",
      "metadata": {
        "id": "82-3uFA-QiYN"
      },
      "source": [
        "A list is an ordered sequence of objects, whereas dictionaries are unordered sets.\n",
        "\n",
        "dic={\"a\":1}\n",
        "\n",
        "list=[1,2,3]"
      ]
    },
    {
      "cell_type": "markdown",
      "metadata": {
        "id": "kMbPTqG5aW0D"
      },
      "source": [
        "4.What happens if you try to access spam[&#39;foo&#39;] if spam is {&#39;bar&#39;: 100}?"
      ]
    },
    {
      "cell_type": "markdown",
      "metadata": {
        "id": "azLgMxH_ai64"
      },
      "source": [
        "\n",
        "spam = {'bar':100}\n",
        "\n",
        "spam['foo'] it will give error as it don't have any key of foo in the spam dictionary "
      ]
    },
    {
      "cell_type": "markdown",
      "metadata": {
        "id": "ywtDfMKCavP8"
      },
      "source": [
        "5.If a dictionary is stored in spam, what is the difference between the expressions &#39;cat&#39; in spam and\n",
        "&#39;cat&#39; in spam.keys()?"
      ]
    },
    {
      "cell_type": "markdown",
      "metadata": {
        "id": "4E4utVrca8MU"
      },
      "source": [
        "spam = {'cat':1}\n",
        "\n",
        "spam.keys()\n",
        "\n",
        "cat in the spam dictionary is key with value 1 and in spam.keys() we are able to find key."
      ]
    },
    {
      "cell_type": "markdown",
      "metadata": {
        "id": "p19b294Na8s-"
      },
      "source": [
        "6.If a dictionary is stored in spam, what is the difference between the expressions &#39;cat&#39; in spam and\n",
        "&#39;cat&#39; in spam.values()?"
      ]
    },
    {
      "cell_type": "markdown",
      "metadata": {
        "id": "KV5Xsg-1byzw"
      },
      "source": [
        "spam = {'cat':1}\n",
        "\n",
        "spam.values()\n",
        "\n",
        "cat in the spam dictionary is key with value 1 and in spam.values() we are able to find value."
      ]
    },
    {
      "cell_type": "markdown",
      "metadata": {
        "id": "_LK2BkeHcAK9"
      },
      "source": [
        "7.What is a shortcut for the following code?\n",
        "\n",
        "if &#39;color&#39; not in spam:\n",
        "\n",
        "spam[&#39;color&#39;] = &#39;black&#39;"
      ]
    },
    {
      "cell_type": "code",
      "metadata": {
        "colab": {
          "base_uri": "https://localhost:8080/"
        },
        "id": "HzATrIMdcf-x",
        "outputId": "43850711-bafe-4fee-c5a1-02f48475337e"
      },
      "source": [
        "spam = {'a':'red' , 'b':'blue', 'c':'white'}\n",
        "if 'color' not in spam.keys():\n",
        "    spam['color']='black'\n",
        "spam"
      ],
      "execution_count": 4,
      "outputs": [
        {
          "output_type": "execute_result",
          "data": {
            "text/plain": [
              "{'a': 'red', 'b': 'blue', 'c': 'white', 'color': 'black'}"
            ]
          },
          "metadata": {
            "tags": []
          },
          "execution_count": 4
        }
      ]
    },
    {
      "cell_type": "markdown",
      "metadata": {
        "id": "43F8Cvq3ct37"
      },
      "source": [
        "8.How do you &quot;pretty print&quot; dictionary values using which module and function?"
      ]
    },
    {
      "cell_type": "code",
      "metadata": {
        "colab": {
          "base_uri": "https://localhost:8080/"
        },
        "id": "BYVQOtpSc9xC",
        "outputId": "34920083-da13-41fc-87ba-72e7e08f6997"
      },
      "source": [
        "import pprint\n",
        "spam = [{'a':'red' , 'b':'blue', 'c':'white'}]\n",
        "\n",
        "spam"
      ],
      "execution_count": 10,
      "outputs": [
        {
          "output_type": "execute_result",
          "data": {
            "text/plain": [
              "[{'a': 'red', 'b': 'blue', 'c': 'white'}]"
            ]
          },
          "metadata": {
            "tags": []
          },
          "execution_count": 10
        }
      ]
    }
  ]
}