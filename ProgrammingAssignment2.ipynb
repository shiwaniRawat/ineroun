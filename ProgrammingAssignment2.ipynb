{
  "nbformat": 4,
  "nbformat_minor": 0,
  "metadata": {
    "colab": {
      "name": "ProgrammingAssignment2.ipynb",
      "provenance": [],
      "authorship_tag": "ABX9TyM+3vuX/mDf1eWImNvXe7u0",
      "include_colab_link": true
    },
    "kernelspec": {
      "name": "python3",
      "display_name": "Python 3"
    },
    "language_info": {
      "name": "python"
    }
  },
  "cells": [
    {
      "cell_type": "markdown",
      "metadata": {
        "id": "view-in-github",
        "colab_type": "text"
      },
      "source": [
        "<a href=\"https://colab.research.google.com/github/shiwaniRawat/ineroun/blob/main/ProgrammingAssignment2.ipynb\" target=\"_parent\"><img src=\"https://colab.research.google.com/assets/colab-badge.svg\" alt=\"Open In Colab\"/></a>"
      ]
    },
    {
      "cell_type": "code",
      "metadata": {
        "colab": {
          "base_uri": "https://localhost:8080/"
        },
        "id": "-07z9O5N6_9N",
        "outputId": "5cfa3a4d-b674-404e-aa2c-d5055a022b19"
      },
      "source": [
        "# Q1\n",
        "km = int(input(\"Enter Km: \"))\n",
        "mm = km*0.62\n",
        "print(\"Meters = \" , mm)"
      ],
      "execution_count": null,
      "outputs": [
        {
          "output_type": "stream",
          "text": [
            "Enter Km: 2\n",
            "Meters =  1.24\n"
          ],
          "name": "stdout"
        }
      ]
    },
    {
      "cell_type": "code",
      "metadata": {
        "id": "tSkvmgSi7tUO",
        "colab": {
          "base_uri": "https://localhost:8080/"
        },
        "outputId": "8f5aa17b-5499-4fdd-c3bf-e2e11adabb1d"
      },
      "source": [
        "# Q2\n",
        "celcius=float(input(\"Enter celcius: \"))\n",
        "fahrenheit=(celcius*1.8)+32\n",
        "print(fahrenheit)"
      ],
      "execution_count": 3,
      "outputs": [
        {
          "output_type": "stream",
          "text": [
            "Enter celcius: 25\n",
            "77.0\n"
          ],
          "name": "stdout"
        }
      ]
    },
    {
      "cell_type": "code",
      "metadata": {
        "colab": {
          "base_uri": "https://localhost:8080/"
        },
        "id": "QI0y8PqjUV2s",
        "outputId": "3f73a396-7643-4d37-9dc7-ca92e2511861"
      },
      "source": [
        "# Q3\n",
        "import calendar\n",
        "yy = int(input(\"Enter year = \"))\n",
        "mm = int(input(\"Enter month in number = \"))\n",
        "print(calendar.month(yy,mm))"
      ],
      "execution_count": 4,
      "outputs": [
        {
          "output_type": "stream",
          "text": [
            "Enter year = 2020\n",
            "Enter month in number = 2\n",
            "   February 2020\n",
            "Mo Tu We Th Fr Sa Su\n",
            "                1  2\n",
            " 3  4  5  6  7  8  9\n",
            "10 11 12 13 14 15 16\n",
            "17 18 19 20 21 22 23\n",
            "24 25 26 27 28 29\n",
            "\n"
          ],
          "name": "stdout"
        }
      ]
    },
    {
      "cell_type": "code",
      "metadata": {
        "colab": {
          "base_uri": "https://localhost:8080/"
        },
        "id": "Lgj51HKRVtRY",
        "outputId": "b41ef37d-3d40-4fb3-b8fa-013383150de4"
      },
      "source": [
        "# Q4\n",
        "import cmath\n",
        "a = float(input('Enter a: '))\n",
        "b = float(input('Enter b: '))\n",
        "c = float(input('Enter c: '))\n",
        "\n",
        "# discriminant\n",
        "d = (b**2) - (4*a*c)\n",
        "\n",
        "# find two solutions\n",
        "s1 = (-b-cmath.sqrt(d))/(2*a)\n",
        "s2 = (-b+cmath.sqrt(d))/(2*a)\n",
        "\n",
        "print(s1)\n",
        "print(s2)"
      ],
      "execution_count": 6,
      "outputs": [
        {
          "output_type": "stream",
          "text": [
            "Enter a: 1\n",
            "Enter b: 5\n",
            "Enter c: 6\n",
            "(-3+0j)\n",
            "(-2+0j)\n"
          ],
          "name": "stdout"
        }
      ]
    },
    {
      "cell_type": "code",
      "metadata": {
        "colab": {
          "base_uri": "https://localhost:8080/"
        },
        "id": "-Vc8GnCdYT-B",
        "outputId": "ba8b29a3-28e7-4f71-eb09-3d344c74179f"
      },
      "source": [
        "# Q5\n",
        "first_number=int(input(\"Enter the first number: \"))\n",
        "second_number=int(input(\"Enter the second number: \"))\n",
        "first_number, second_number = second_number,first_number\n",
        "print(\"After Swap :\\nfirst_number: {}\\nsecond_number: {} \".format(first_number , second_number))"
      ],
      "execution_count": 7,
      "outputs": [
        {
          "output_type": "stream",
          "text": [
            "Enter the first number: 2\n",
            "Enter the second number: 5\n",
            "After Swap :\n",
            "first_number: 5\n",
            "second_number: 2 \n"
          ],
          "name": "stdout"
        }
      ]
    }
  ]
}