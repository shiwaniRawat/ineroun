{
  "nbformat": 4,
  "nbformat_minor": 0,
  "metadata": {
    "colab": {
      "name": "ProgrammingAssignment6.ipynb",
      "provenance": [],
      "authorship_tag": "ABX9TyP5m12mRlOlK9QuaS8D6yyS",
      "include_colab_link": true
    },
    "kernelspec": {
      "name": "python3",
      "display_name": "Python 3"
    },
    "language_info": {
      "name": "python"
    }
  },
  "cells": [
    {
      "cell_type": "markdown",
      "metadata": {
        "id": "view-in-github",
        "colab_type": "text"
      },
      "source": [
        "<a href=\"https://colab.research.google.com/github/shiwaniRawat/ineroun/blob/main/ProgrammingAssignment6.ipynb\" target=\"_parent\"><img src=\"https://colab.research.google.com/assets/colab-badge.svg\" alt=\"Open In Colab\"/></a>"
      ]
    },
    {
      "cell_type": "code",
      "metadata": {
        "colab": {
          "base_uri": "https://localhost:8080/"
        },
        "id": "djnoUuvGV4XZ",
        "outputId": "5509771e-7a79-4018-9746-a10a7c5c1451"
      },
      "source": [
        "# Q1\n",
        "def fibonacci(num):\n",
        "  if(num<=1 or num==0):\n",
        "    return num\n",
        "  else:\n",
        "    return(fibonacci(num-1)+fibonacci(num-2))\n",
        "num=int(input(\"enter the number:\"))\n",
        "print(\"Fibonacci series\")\n",
        "for i in range(num):\n",
        "  print(fibonacci(i))"
      ],
      "execution_count": 2,
      "outputs": [
        {
          "output_type": "stream",
          "text": [
            "enter the number:8\n",
            "Fibonacci series\n",
            "0\n",
            "1\n",
            "1\n",
            "2\n",
            "3\n",
            "5\n",
            "8\n",
            "13\n"
          ],
          "name": "stdout"
        }
      ]
    },
    {
      "cell_type": "code",
      "metadata": {
        "colab": {
          "base_uri": "https://localhost:8080/"
        },
        "id": "7TFnmHCmS4Pf",
        "outputId": "586532a6-e0fe-4184-d0de-b0287f6da14b"
      },
      "source": [
        "# Q2\n",
        "def fact(num):\n",
        "  if num==1:\n",
        "    return 1\n",
        "  else:\n",
        "    return (num *fact(num-1))\n",
        "\n",
        "num=int(input(\"Enter the number: \"))\n",
        "print(\"the factor is: \",fact(num))"
      ],
      "execution_count": null,
      "outputs": [
        {
          "output_type": "stream",
          "text": [
            "Enter the number: 4\n",
            "the factor is:  24\n"
          ],
          "name": "stdout"
        }
      ]
    },
    {
      "cell_type": "code",
      "metadata": {
        "id": "aHOYq56UYthi",
        "colab": {
          "base_uri": "https://localhost:8080/"
        },
        "outputId": "4c77cc71-561b-4035-8f54-089eabd308ff"
      },
      "source": [
        "# Q3\n",
        "height=float(input(\"Enter the height: \"))\n",
        "weight=float(input(\"Enter the weight: \"))\n",
        "bmh=round(weight/(height*height),2)\n",
        "print(bmh)"
      ],
      "execution_count": 7,
      "outputs": [
        {
          "output_type": "stream",
          "text": [
            "Enter the height: 4\n",
            "Enter the weight: 54\n",
            "3.38\n"
          ],
          "name": "stdout"
        }
      ]
    },
    {
      "cell_type": "code",
      "metadata": {
        "colab": {
          "base_uri": "https://localhost:8080/"
        },
        "id": "Nuzf9p2k41_W",
        "outputId": "99feed90-f2fe-4b6a-ce75-139fbab869f2"
      },
      "source": [
        "# Q4\n",
        "import math\n",
        "num=float(input(\"enter the number for calculating log: \"))\n",
        "print(math.log(num))"
      ],
      "execution_count": 11,
      "outputs": [
        {
          "output_type": "stream",
          "text": [
            "enter the number for calculating log: 5\n",
            "1.6094379124341003\n"
          ],
          "name": "stdout"
        }
      ]
    },
    {
      "cell_type": "code",
      "metadata": {
        "colab": {
          "base_uri": "https://localhost:8080/"
        },
        "id": "-XkDZs6L7NZ6",
        "outputId": "84d0a9b3-f018-469c-f08a-4a82faeeb035"
      },
      "source": [
        "# Q5\n",
        "num=int(input(\"enter the number: \"))\n",
        "sum=0\n",
        "for i in range(1,num+1):\n",
        "  sum+=i**3\n",
        "print(sum)"
      ],
      "execution_count": 17,
      "outputs": [
        {
          "output_type": "stream",
          "text": [
            "enter the number: 3\n",
            "36\n"
          ],
          "name": "stdout"
        }
      ]
    }
  ]
}