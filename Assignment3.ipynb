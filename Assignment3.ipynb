{
  "nbformat": 4,
  "nbformat_minor": 0,
  "metadata": {
    "colab": {
      "name": "Assignment3.ipynb",
      "provenance": [],
      "authorship_tag": "ABX9TyMqmiGZaHFuNr5s/ZRRhmsl",
      "include_colab_link": true
    },
    "kernelspec": {
      "name": "python3",
      "display_name": "Python 3"
    },
    "language_info": {
      "name": "python"
    }
  },
  "cells": [
    {
      "cell_type": "markdown",
      "metadata": {
        "id": "view-in-github",
        "colab_type": "text"
      },
      "source": [
        "<a href=\"https://colab.research.google.com/github/shiwaniRawat/ineroun/blob/main/Assignment3.ipynb\" target=\"_parent\"><img src=\"https://colab.research.google.com/assets/colab-badge.svg\" alt=\"Open In Colab\"/></a>"
      ]
    },
    {
      "cell_type": "markdown",
      "metadata": {
        "id": "QpZXBZPyrQFm"
      },
      "source": [
        "1.Why are functions advantageous to have in your programs?\n",
        "\n",
        "\n",
        "\n"
      ]
    },
    {
      "cell_type": "markdown",
      "metadata": {
        "id": "1scT7T1trStu"
      },
      "source": [
        "function reduced the need for duplicate code.\n",
        "\n",
        "By using the function we can easily update our program\n",
        "\n",
        "It increase redability,easy to understand.\n",
        "\n",
        "We can reuse a pice of code again and again.\n",
        "\n",
        "\n"
      ]
    },
    {
      "cell_type": "markdown",
      "metadata": {
        "id": "8hOyUWbVuRTz"
      },
      "source": [
        "2.When does the code in a function run: when it&#39;s specified or when it&#39;s called?"
      ]
    },
    {
      "cell_type": "markdown",
      "metadata": {
        "id": "tHqJgsIWujkR"
      },
      "source": [
        "the code in a function run when it is called"
      ]
    },
    {
      "cell_type": "markdown",
      "metadata": {
        "id": "Qhgl5TKnusMT"
      },
      "source": [
        "3.What statement creates a function?"
      ]
    },
    {
      "cell_type": "markdown",
      "metadata": {
        "id": "aygSBPimu-IJ"
      },
      "source": [
        "The def statement is used to create a function\n",
        "\n",
        "eg-:def sum()"
      ]
    },
    {
      "cell_type": "markdown",
      "metadata": {
        "id": "2sEYtjGKvSZJ"
      },
      "source": [
        "4.What is the difference between a function and a function call?\n",
        "\n",
        "\n"
      ]
    },
    {
      "cell_type": "markdown",
      "metadata": {
        "id": "T7taF10HvYGp"
      },
      "source": [
        "function call means the function's return value.the code in functionis execut when function is call.\n",
        "\n",
        "function consists of the def statement and code in it.\n",
        "\n",
        "\n"
      ]
    },
    {
      "cell_type": "markdown",
      "metadata": {
        "id": "AtJ8HqTRwyOL"
      },
      "source": [
        "5.How many global scopes are there in a Python program? How many local scopes?"
      ]
    },
    {
      "cell_type": "markdown",
      "metadata": {
        "id": "58CnvaaOw9AV"
      },
      "source": [
        "one global scope and a local scope is there whenever a function is called."
      ]
    },
    {
      "cell_type": "markdown",
      "metadata": {
        "id": "UuhoxAyxxRJI"
      },
      "source": [
        "6.What happens to variables in a local scope when the function call returns?"
      ]
    },
    {
      "cell_type": "markdown",
      "metadata": {
        "id": "5CToxgaOxW07"
      },
      "source": [
        "when the function call returns variables in a local scope are destroyed ."
      ]
    },
    {
      "cell_type": "markdown",
      "metadata": {
        "id": "GEBVYcDox-u_"
      },
      "source": [
        "7.What is the concept of a return value? Is it possible to have a return value in an expression?"
      ]
    },
    {
      "cell_type": "markdown",
      "metadata": {
        "id": "R2BMDhVc-75f"
      },
      "source": [
        "\n",
        "\n",
        "\n",
        " function return value as per the need of the program,yes its possible to have return value in an expression. "
      ]
    },
    {
      "cell_type": "markdown",
      "metadata": {
        "id": "209tuVmlYVUc"
      },
      "source": [
        "8.If a function does not have a return statement, what is the return value of a call to that function?"
      ]
    },
    {
      "cell_type": "markdown",
      "metadata": {
        "id": "OInMmWCTYZZM"
      },
      "source": [
        "If a function does not have a return statement then it return value is none."
      ]
    },
    {
      "cell_type": "markdown",
      "metadata": {
        "id": "j14i7FK6cDDE"
      },
      "source": [
        "9.How do you make a function variable refer to the global variable?"
      ]
    },
    {
      "cell_type": "markdown",
      "metadata": {
        "id": "HXep_ui0txIO"
      },
      "source": [
        "GLOBAL keyword is used to make a function variable refer to the global variable"
      ]
    },
    {
      "cell_type": "markdown",
      "metadata": {
        "id": "Kj0siQRnxxvt"
      },
      "source": [
        "10.What is the data type of None?"
      ]
    },
    {
      "cell_type": "markdown",
      "metadata": {
        "id": "ltM_Owtgxzwq"
      },
      "source": [
        "NONETYPE is data type of none"
      ]
    },
    {
      "cell_type": "markdown",
      "metadata": {
        "id": "VhvmayWUx_e8"
      },
      "source": [
        "11.What does the sentence import areallyourpetsnamederic do?"
      ]
    },
    {
      "cell_type": "markdown",
      "metadata": {
        "id": "zbE8lJdAyGt8"
      },
      "source": [
        "import areallyourpetsnamederic import the  areallyourpetsnamederic in the particular program."
      ]
    },
    {
      "cell_type": "markdown",
      "metadata": {
        "id": "gfCa0dh5yrpS"
      },
      "source": [
        "12.If you had a bacon() feature in a spam module, what would you call it after importing spam?"
      ]
    },
    {
      "cell_type": "markdown",
      "metadata": {
        "id": "xRdpbV9HyzXL"
      },
      "source": [
        "spam. bacon() is called after import spam"
      ]
    },
    {
      "cell_type": "markdown",
      "metadata": {
        "id": "vtFytkZQzLGw"
      },
      "source": [
        "13.What can you do to save a programme from crashing if it encounters an error?"
      ]
    },
    {
      "cell_type": "markdown",
      "metadata": {
        "id": "7U8afeSszzKi"
      },
      "source": [
        "to save a program from crashing we can use try except."
      ]
    },
    {
      "cell_type": "markdown",
      "metadata": {
        "id": "n3DLSTv40dTH"
      },
      "source": [
        "14.What is the purpose of the try clause? What is the purpose of the except clause?"
      ]
    },
    {
      "cell_type": "markdown",
      "metadata": {
        "id": "xrNOeRnJ0wAl"
      },
      "source": [
        "try block lets us to test a block of code for errors .except block lets us to handle the error."
      ]
    },
    {
      "cell_type": "code",
      "metadata": {
        "id": "qJUwhDQV-1r4"
      },
      "source": [
        ""
      ],
      "execution_count": null,
      "outputs": []
    }
  ]
}