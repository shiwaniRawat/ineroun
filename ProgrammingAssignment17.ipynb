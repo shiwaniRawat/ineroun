{
  "nbformat": 4,
  "nbformat_minor": 0,
  "metadata": {
    "colab": {
      "name": "ProgrammingAssignment17.ipynb",
      "provenance": [],
      "authorship_tag": "ABX9TyNU5gpEnnZuuYND0wv63+mp",
      "include_colab_link": true
    },
    "kernelspec": {
      "name": "python3",
      "display_name": "Python 3"
    },
    "language_info": {
      "name": "python"
    }
  },
  "cells": [
    {
      "cell_type": "markdown",
      "metadata": {
        "id": "view-in-github",
        "colab_type": "text"
      },
      "source": [
        "<a href=\"https://colab.research.google.com/github/shiwaniRawat/ineroun/blob/main/ProgrammingAssignment17.ipynb\" target=\"_parent\"><img src=\"https://colab.research.google.com/assets/colab-badge.svg\" alt=\"Open In Colab\"/></a>"
      ]
    },
    {
      "cell_type": "code",
      "metadata": {
        "colab": {
          "base_uri": "https://localhost:8080/"
        },
        "id": "Z1ezmVSn_ssR",
        "outputId": "0667c2eb-e322-4afe-d554-74de8e7ff79b"
      },
      "source": [
        "# Q1\n",
        "def fun(a,b,c):\n",
        "    sum=0\n",
        "    for i in range(a,b+1):\n",
        "        if i%c==0:\n",
        "            sum+=i\n",
        "    return sum\n",
        "a=int(input(\"Enter a: \"))\n",
        "b=int(input(\"Enter b: \"))\n",
        "c=int(input(\"Enter c: \"))\n",
        "print(fun(a,b,c))"
      ],
      "execution_count": null,
      "outputs": [
        {
          "output_type": "stream",
          "text": [
            "Enter a: 1\n",
            "Enter b: 10\n",
            "Enter c: 2\n",
            "30\n"
          ],
          "name": "stdout"
        }
      ]
    },
    {
      "cell_type": "code",
      "metadata": {
        "colab": {
          "base_uri": "https://localhost:8080/"
        },
        "id": "GZDacBQJESp-",
        "outputId": "2e9c33f8-cbf3-48f9-a7b3-c5be6aded8c2"
      },
      "source": [
        "# Q2\n",
        "def correct_signs(a,b,c):\n",
        "  if(a < b and b< c):\n",
        "    return True\n",
        "  else:\n",
        "    return False\n",
        "a=int(input(\"Enter a: \"))\n",
        "b=int(input(\"Enter b: \"))\n",
        "c=int(input(\"Enter c: \"))\n",
        "print(correct_signs(a,b,c))\n"
      ],
      "execution_count": null,
      "outputs": [
        {
          "output_type": "stream",
          "text": [
            "Enter a: 13\n",
            "Enter b: 44\n",
            "Enter c: 33\n",
            "False\n"
          ],
          "name": "stdout"
        }
      ]
    },
    {
      "cell_type": "code",
      "metadata": {
        "colab": {
          "base_uri": "https://localhost:8080/"
        },
        "id": "9Ff8QBycFqDz",
        "outputId": "8a5ebf4d-4717-457c-88b7-81cc832c6cef"
      },
      "source": [
        "# Q3\n",
        "def replace_vowels(s,symbol):\n",
        "  for i in s:\n",
        "    if(i=='a' or i=='e' or i=='i' or i=='o' or i=='u' or i=='A' or i=='E' or i=='U' or i=='O' or i=='I'):\n",
        "      s=s.replace(i,symbol)\n",
        "  return(s)\n",
        "\n",
        "s=input(\"Enter ur choice: \")\n",
        "symbol=input()\n",
        "print(replace_vowels(s,symbol))\n"
      ],
      "execution_count": null,
      "outputs": [
        {
          "output_type": "stream",
          "text": [
            "Enter ur choice: the aardvark\n",
            "*\n",
            "th* **rdv*rk\n"
          ],
          "name": "stdout"
        }
      ]
    },
    {
      "cell_type": "code",
      "metadata": {
        "id": "pnIKBo2MLBIT",
        "colab": {
          "base_uri": "https://localhost:8080/"
        },
        "outputId": "21f24246-7a75-4f9d-813b-667d93cda990"
      },
      "source": [
        "# Q4\n",
        "def factorial(number):\n",
        "  if number==0 or number==1:\n",
        "    return 1\n",
        "  else:\n",
        "    return number*factorial(number-1)\n",
        "\n",
        "number=int(input(\"Enter the number you want to enter: \"))\n",
        "print(factorial(number))\n",
        "  "
      ],
      "execution_count": 2,
      "outputs": [
        {
          "output_type": "stream",
          "text": [
            "Enter the number you want to enter: 5\n",
            "120\n"
          ],
          "name": "stdout"
        }
      ]
    },
    {
      "cell_type": "code",
      "metadata": {
        "colab": {
          "base_uri": "https://localhost:8080/"
        },
        "id": "R4TtVQswJiwa",
        "outputId": "04aaee88-8bcf-44f6-a0f8-bbe68486be09"
      },
      "source": [
        "# Q5\n",
        "def hamming_distance(string1, string2): \n",
        "    dist = 0\n",
        "    L = len(string1)\n",
        "    for i in range(L):\n",
        "        if string1[i] != string2[i]:\n",
        "            dist += 1\n",
        "    return dist\n",
        "\n",
        "string1=input(\"Enter your first string: \")\n",
        "string2=input(\"Enter your second string: \")\n",
        "print(hamming_distance(string1,string2))"
      ],
      "execution_count": 3,
      "outputs": [
        {
          "output_type": "stream",
          "text": [
            "Enter your first string: abcde\n",
            "Enter your second string: bcdef\n",
            "5\n"
          ],
          "name": "stdout"
        }
      ]
    }
  ]
}