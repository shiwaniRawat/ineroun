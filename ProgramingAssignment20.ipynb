{
  "nbformat": 4,
  "nbformat_minor": 0,
  "metadata": {
    "colab": {
      "name": "ProgramingAssignment20.ipynb",
      "provenance": [],
      "authorship_tag": "ABX9TyMsL6X4PZBUjDCjCnpMNV1C",
      "include_colab_link": true
    },
    "kernelspec": {
      "name": "python3",
      "display_name": "Python 3"
    },
    "language_info": {
      "name": "python"
    }
  },
  "cells": [
    {
      "cell_type": "markdown",
      "metadata": {
        "id": "view-in-github",
        "colab_type": "text"
      },
      "source": [
        "<a href=\"https://colab.research.google.com/github/shiwaniRawat/ineroun/blob/main/ProgramingAssignment20.ipynb\" target=\"_parent\"><img src=\"https://colab.research.google.com/assets/colab-badge.svg\" alt=\"Open In Colab\"/></a>"
      ]
    },
    {
      "cell_type": "code",
      "metadata": {
        "colab": {
          "base_uri": "https://localhost:8080/",
          "height": 151
        },
        "id": "p8CY7nwznb_6",
        "outputId": "a95c1c82-fffa-483c-f692-1018bbd946dd"
      },
      "source": [
        "class list_tofilter:\n",
        "    \n",
        "    def display(self , tmp):\n",
        "        for i in range(len(tmp)):\n",
        "            print(tmp[i] , end=\" \")\n",
        "            \n",
        "    def fun(self , lst):\n",
        "        tmp=[]\n",
        "        for i in range(len(lst)):\n",
        "            if(lst[i].isdigit()):\n",
        "                tmp.append(int(lst[i]))\n",
        "        display(tmp)\n",
        "    \n",
        "    def __str__(self):\n",
        "        return \"Class Created\"\n",
        "    \n",
        "\n",
        "    \n",
        "ob = list_tofilter()\n",
        "lst = []\n",
        "n = int(input(\"enter the length of list: \"))\n",
        "for i in range(n):\n",
        "    lst.append(input())\n",
        "ob.fun(lst)"
      ],
      "execution_count": null,
      "outputs": [
        {
          "output_type": "stream",
          "text": [
            "enter the length of list: 6\n",
            "4\n",
            "a\n",
            "8\n",
            "e\n",
            "5\n",
            "8\n"
          ],
          "name": "stdout"
        },
        {
          "output_type": "display_data",
          "data": {
            "text/plain": [
              "[4, 8, 5, 8]"
            ]
          },
          "metadata": {
            "tags": []
          }
        }
      ]
    },
    {
      "cell_type": "code",
      "metadata": {
        "colab": {
          "base_uri": "https://localhost:8080/"
        },
        "id": "WM4gO32GLQP_",
        "outputId": "24e5da27-8a4f-46c5-df80-3ad6486fd1f8"
      },
      "source": [
        "# Q2\n",
        "def indexs(lst):\n",
        "    for i in range(len(lst)):\n",
        "        lst[i]+=i\n",
        "    return(lst)\n",
        "\n",
        "\n",
        "lst=[]\n",
        "n = int(input())\n",
        "for i in range(n):\n",
        "    lst.append(int(input()))\n",
        "indexs(lst)"
      ],
      "execution_count": null,
      "outputs": [
        {
          "output_type": "stream",
          "text": [
            "5\n",
            "5\n",
            "4\n",
            "3\n",
            "2\n",
            "1\n"
          ],
          "name": "stdout"
        },
        {
          "output_type": "execute_result",
          "data": {
            "text/plain": [
              "[5, 5, 5, 5, 5]"
            ]
          },
          "metadata": {
            "tags": []
          },
          "execution_count": 4
        }
      ]
    },
    {
      "cell_type": "code",
      "metadata": {
        "id": "SCoRl58TzkQ9",
        "colab": {
          "base_uri": "https://localhost:8080/"
        },
        "outputId": "0310fc0e-9e35-4af3-89f2-8220a51f9dc0"
      },
      "source": [
        "# Q3\n",
        "def volume(radius,height):\n",
        "  pie=3.14285714286  \n",
        "  return (pie*(radius**2)*height/3 )\n",
        "\n",
        "radius=int(input(\"enter radius: \"))\n",
        "height=int(input(\"enter height: \")) \n",
        "v=volume(radius,height)\n",
        "print(\"volume of the cone=\",v)  "
      ],
      "execution_count": null,
      "outputs": [
        {
          "output_type": "stream",
          "text": [
            "enter radius: 3\n",
            "enter height: 2\n",
            "volume of the cone= 18.85714285716\n"
          ],
          "name": "stdout"
        }
      ]
    },
    {
      "cell_type": "code",
      "metadata": {
        "colab": {
          "base_uri": "https://localhost:8080/"
        },
        "id": "YD2u6p1HjdAT",
        "outputId": "816d6a4c-9f6b-4e05-fc7e-8128e38cda8a"
      },
      "source": [
        "# Q4\n",
        "def triangle(n):\n",
        "    f=1\n",
        "    lst=[1]\n",
        "    tmp=2\n",
        "    for i in range(1,n):\n",
        "        f+=tmp\n",
        "        lst.append(f)\n",
        "        tmp+=1\n",
        "    return lst[n-1]\n",
        "\n",
        "n=int(input(\"Enter the number: \"))\n",
        "a=triangle(n)\n",
        "print(\"Triangular Number Sequence is: \",a)"
      ],
      "execution_count": null,
      "outputs": [
        {
          "output_type": "stream",
          "text": [
            "Enter the number: 215\n",
            "Triangular Number Sequence is:  23220\n"
          ],
          "name": "stdout"
        }
      ]
    },
    {
      "cell_type": "code",
      "metadata": {
        "colab": {
          "base_uri": "https://localhost:8080/"
        },
        "id": "jGeQy6Zllkcn",
        "outputId": "f5cb81a9-036d-40b3-fed1-3cae155e7526"
      },
      "source": [
        "\n",
        "# Q5\n",
        "def missing_num(l):\n",
        "    for ele in range(1, max(l) + 1):\n",
        "        if ele not in l:\n",
        "            return ele\n",
        "l = []\n",
        "n = int(input(\"enter the length of list: \"))\n",
        "for i in range(n):\n",
        "    l.append(int(input()))\n",
        "a=missing_num(l)\n",
        "print(\"the missing number is: \",a)"
      ],
      "execution_count": null,
      "outputs": [
        {
          "output_type": "stream",
          "text": [
            "enter the length of list: 8\n",
            "1\n",
            "2\n",
            "3\n",
            "4\n",
            "6\n",
            "5\n",
            "8\n",
            "9\n",
            "the missing number is:  7\n"
          ],
          "name": "stdout"
        }
      ]
    }
  ]
}