{
  "nbformat": 4,
  "nbformat_minor": 0,
  "metadata": {
    "colab": {
      "name": "ProgrammingAssignment5.ipynb",
      "provenance": [],
      "authorship_tag": "ABX9TyN8PHj/m3IJzTkH1ZTlHMGo",
      "include_colab_link": true
    },
    "kernelspec": {
      "name": "python3",
      "display_name": "Python 3"
    },
    "language_info": {
      "name": "python"
    }
  },
  "cells": [
    {
      "cell_type": "markdown",
      "metadata": {
        "id": "view-in-github",
        "colab_type": "text"
      },
      "source": [
        "<a href=\"https://colab.research.google.com/github/shiwaniRawat/ineroun/blob/main/ProgrammingAssignment5.ipynb\" target=\"_parent\"><img src=\"https://colab.research.google.com/assets/colab-badge.svg\" alt=\"Open In Colab\"/></a>"
      ]
    },
    {
      "cell_type": "code",
      "metadata": {
        "id": "ltStm8lyYe26",
        "colab": {
          "base_uri": "https://localhost:8080/"
        },
        "outputId": "e0306a12-b0fd-4cce-92eb-7461288f1890"
      },
      "source": [
        "# Q1\n",
        "num1=int(input(\"Enter the first number: \"))\n",
        "num2=int(input(\"Enter the second number: \"))\n",
        "\n",
        "if num1>num2:\n",
        "  g=num1\n",
        "else:\n",
        "  g=num2\n",
        "while(True):\n",
        "  if((g%num1==0) and (g%num2==0)):\n",
        "    print(g)\n",
        "    break\n",
        "  g=g+1\n"
      ],
      "execution_count": null,
      "outputs": [
        {
          "output_type": "stream",
          "text": [
            "Enter the first number: 5\n",
            "Enter the second number: 3\n",
            "15\n"
          ],
          "name": "stdout"
        }
      ]
    },
    {
      "cell_type": "code",
      "metadata": {
        "colab": {
          "base_uri": "https://localhost:8080/"
        },
        "id": "MpbVdZ5JvqEA",
        "outputId": "5d6aedcb-ae17-4329-d9bd-e844830e8a5f"
      },
      "source": [
        "# Q2\n",
        "num1=int(input(\"Enter the first number: \"))\n",
        "num2=int(input(\"Enter the second number: \"))\n",
        "while(num1%num2 !=0):\n",
        "  a=num1%num2\n",
        "  num1=num2\n",
        "  num2=a\n",
        "print(num2)"
      ],
      "execution_count": 12,
      "outputs": [
        {
          "output_type": "stream",
          "text": [
            "Enter the first number: 50\n",
            "Enter the second number: 20\n",
            "10\n"
          ],
          "name": "stdout"
        }
      ]
    },
    {
      "cell_type": "code",
      "metadata": {
        "colab": {
          "base_uri": "https://localhost:8080/"
        },
        "id": "t14P4swk4Nkc",
        "outputId": "b7fdf5e6-9aa5-41c9-b66b-7219f4bc014e"
      },
      "source": [
        "# Q3\n",
        "decimal = int(input(\"Enter a number: \"))\n",
        "print(\"The decimal value of\",decimal,\"is:\")\n",
        "print(bin(decimal),\"in binary.\")\n",
        "print(oct(decimal),\"in octal.\")\n",
        "print(hex(decimal),\"in hexadecimal.\")"
      ],
      "execution_count": 6,
      "outputs": [
        {
          "output_type": "stream",
          "text": [
            "Enter a number: 645\n",
            "The decimal value of 645 is:\n",
            "0b1010000101 in binary.\n",
            "0o1205 in octal.\n",
            "0x285 in hexadecimal.\n"
          ],
          "name": "stdout"
        }
      ]
    },
    {
      "cell_type": "code",
      "metadata": {
        "colab": {
          "base_uri": "https://localhost:8080/"
        },
        "id": "ZxN6wJOT76yT",
        "outputId": "2554262e-ccfe-496f-c2ba-8c308a02046f"
      },
      "source": [
        "# Q4\n",
        "\n",
        "character = input(\"Enter the character: \")\n",
        "print(\"The ASCII value of '\" + character + \"' is\", ord(character))"
      ],
      "execution_count": 7,
      "outputs": [
        {
          "output_type": "stream",
          "text": [
            "Enter the character: p\n",
            "The ASCII value of 'p' is 112\n"
          ],
          "name": "stdout"
        }
      ]
    },
    {
      "cell_type": "code",
      "metadata": {
        "colab": {
          "base_uri": "https://localhost:8080/"
        },
        "id": "wvk6hNSEFyjV",
        "outputId": "a4d902d9-8749-4a7e-cde6-8afb6a957bed"
      },
      "source": [
        "# Q5\n",
        "def add(num1,num2):\n",
        "  return num1+num2\n",
        "def subtract(num1,num2):\n",
        "  return num1-num2\n",
        "def multiply(num1,num2):\n",
        "  return num1*num2\n",
        "def divide(num1,num2):\n",
        "  return num1/num2\n",
        "print(\"Select operation.\")\n",
        "print(\"1.Add\")\n",
        "print(\"2.Subtract\")\n",
        "print(\"3.Multiply\")\n",
        "print(\"4.Divide\")\n",
        "\n",
        "choice = input(\"Enter choice: \")\n",
        "\n",
        "num1 = int(input(\"Enter first number: \"))\n",
        "num2 = int(input(\"Enter second number: \"))\n",
        "\n",
        "if choice == '1':\n",
        "   print(num1,\"+\",num2,\"=\", add(num1,num2))\n",
        "\n",
        "elif choice == '2':\n",
        "   print(num1,\"-\",num2,\"=\", subtract(num1,num2))\n",
        "\n",
        "elif choice == '3':\n",
        "   print(num1,\"*\",num2,\"=\", multiply(num1,num2))\n",
        "\n",
        "elif choice == '4':\n",
        "   print(num1,\"/\",num2,\"=\", divide(num1,num2))\n",
        "else:\n",
        "   print(\"Invalid2\n",
        "   \")  "
      ],
      "execution_count": 9,
      "outputs": [
        {
          "output_type": "stream",
          "text": [
            "Select operation.\n",
            "1.Add\n",
            "2.Subtract\n",
            "3.Multiply\n",
            "4.Divide\n",
            "Enter choice: 2\n",
            "Enter first number: 2\n",
            "Enter second number: 2\n",
            "2 - 2 = 0\n"
          ],
          "name": "stdout"
        }
      ]
    }
  ]
}