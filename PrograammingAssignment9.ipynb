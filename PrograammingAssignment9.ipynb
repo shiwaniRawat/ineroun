{
  "nbformat": 4,
  "nbformat_minor": 0,
  "metadata": {
    "colab": {
      "name": "PrograammingAssignment9.ipynb",
      "provenance": [],
      "authorship_tag": "ABX9TyNopTbEQeiZVKY9byeluCHf",
      "include_colab_link": true
    },
    "kernelspec": {
      "name": "python3",
      "display_name": "Python 3"
    },
    "language_info": {
      "name": "python"
    }
  },
  "cells": [
    {
      "cell_type": "markdown",
      "metadata": {
        "id": "view-in-github",
        "colab_type": "text"
      },
      "source": [
        "<a href=\"https://colab.research.google.com/github/shiwaniRawat/ineroun/blob/main/PrograammingAssignment9.ipynb\" target=\"_parent\"><img src=\"https://colab.research.google.com/assets/colab-badge.svg\" alt=\"Open In Colab\"/></a>"
      ]
    },
    {
      "cell_type": "code",
      "metadata": {
        "id": "qOlvcXjjNtEv",
        "colab": {
          "base_uri": "https://localhost:8080/"
        },
        "outputId": "cc1efa14-a968-495f-9bd0-790ae4cacf34"
      },
      "source": [
        "# Q1\n",
        "number = int(input(\"Enter the number: \"))\n",
        "count = 0\n",
        "temp=number\n",
        "while(temp>0):\n",
        "    reminder = temp%10\n",
        "    count=count+1\n",
        "    temp//=10  \n",
        "length =  count\n",
        "res = 0\n",
        "power=length\n",
        "temp1=number\n",
        "for i in range(1,length+1):\n",
        "    reminder = temp1%10\n",
        "    res+=(reminder**power)\n",
        "    power-=1\n",
        "    temp1//=10\n",
        "if(res == number):\n",
        "    print(\"{} is Disarium Number\".format(number))\n",
        "else:\n",
        "    print(\"{} is Not a Disarium Number\".format(number))"
      ],
      "execution_count": 4,
      "outputs": [
        {
          "output_type": "stream",
          "text": [
            "Enter the number: 158\n",
            "158 is Not a Disarium Number\n"
          ],
          "name": "stdout"
        }
      ]
    },
    {
      "cell_type": "code",
      "metadata": {
        "colab": {
          "base_uri": "https://localhost:8080/"
        },
        "id": "lSWC_HIPvf-F",
        "outputId": "11f2b4b9-e513-4da1-a36a-b925e2222a5d"
      },
      "source": [
        "#Q2\n",
        "number=int(input(\"Enter the number\"))\n",
        "number1=int(input(\"Enter the number\"))\n",
        "for number in range(number,number1+1):\n",
        "    count = 0\n",
        "    temp=number\n",
        "    while(temp>0):\n",
        "        reminder = temp%10\n",
        "        count=count+1\n",
        "        temp//=10  \n",
        "    length =  count\n",
        "    res = 0\n",
        "    power=length\n",
        "    temp1=number\n",
        "    for i in range(1,length+1):\n",
        "        reminder = temp1%10\n",
        "        res+=(reminder**power)\n",
        "        power-=1\n",
        "        temp1//=10\n",
        "    if(res == number):\n",
        "        print(\"{} is Disarium Number\".format(number))"
      ],
      "execution_count": 6,
      "outputs": [
        {
          "output_type": "stream",
          "text": [
            "Enter the number1\n",
            "Enter the number100\n",
            "1 is Disarium Number\n",
            "2 is Disarium Number\n",
            "3 is Disarium Number\n",
            "4 is Disarium Number\n",
            "5 is Disarium Number\n",
            "6 is Disarium Number\n",
            "7 is Disarium Number\n",
            "8 is Disarium Number\n",
            "9 is Disarium Number\n",
            "89 is Disarium Number\n"
          ],
          "name": "stdout"
        }
      ]
    },
    {
      "cell_type": "code",
      "metadata": {
        "id": "A9ppLgrCxAtq"
      },
      "source": [
        "# Q3\n",
        "def Happy_Number(num):\n",
        "    rem = my_sum = 0\n",
        "    while(num > 0):\n",
        "        rem = num%10\n",
        "        my_sum = my_sum + (rem*rem)\n",
        "        num//=10\n",
        "    return my_sum\n",
        "num = int(input(\"Enter the number: \"))\n",
        "result = num\n",
        "while(result != 1 and result != 4):    \n",
        "    result = Happy_Number(result)\n",
        "if(result == 1):\n",
        "    print(\"Happy Number\")\n",
        "else:\n",
        "    print(\"Not a Happy Number\")"
      ],
      "execution_count": null,
      "outputs": []
    },
    {
      "cell_type": "code",
      "metadata": {
        "colab": {
          "base_uri": "https://localhost:8080/"
        },
        "id": "H6HIgPkW0zs8",
        "outputId": "653b6b83-24cb-43f0-c2d6-ef45725aa379"
      },
      "source": [
        "# Q3\n",
        "def number(num):\n",
        "    reminder =0 \n",
        "    sum = 0\n",
        "    while(num > 0):\n",
        "        reminder = num%10\n",
        "        sum = sum + (reminder*reminder)\n",
        "        num//=10\n",
        "    return sum\n",
        "num = int(input(\"Enter the number: \"))\n",
        "result = num\n",
        "while(result != 1 and result != 4):    \n",
        "    result = number(result)\n",
        "if(result == 1):\n",
        "    print(\"Happy Number\")\n",
        "else:\n",
        "    print(\"Not a Happy Number\")"
      ],
      "execution_count": 15,
      "outputs": [
        {
          "output_type": "stream",
          "text": [
            "Enter the number: 19\n",
            "Happy Number\n"
          ],
          "name": "stdout"
        }
      ]
    },
    {
      "cell_type": "code",
      "metadata": {
        "colab": {
          "base_uri": "https://localhost:8080/"
        },
        "id": "B8stP0ZA2eRB",
        "outputId": "d1d95518-2dfb-4b03-ce03-fe7797ad9c14"
      },
      "source": [
        "# Q4\n",
        "def number(num):\n",
        "    reminder = 0\n",
        "    sum = 0\n",
        "    while(num > 0):\n",
        "        reminder = num%10\n",
        "        sum = sum + (reminder*reminder)\n",
        "        num//=10\n",
        "    return sum\n",
        "num=int(input(\"enter the number: \"))\n",
        "num2=int(input(\"enter the 2nd number: \"))\n",
        "for i in range(num,num2+1):\n",
        "    result = i\n",
        "    while(result != 1 and result != 4):    \n",
        "        result = number(result)\n",
        "    if(result == 1):\n",
        "        print(i)"
      ],
      "execution_count": 17,
      "outputs": [
        {
          "output_type": "stream",
          "text": [
            "enter the number: 1\n",
            "enter the 2nd number: 100\n",
            "1\n",
            "7\n",
            "10\n",
            "13\n",
            "19\n",
            "23\n",
            "28\n",
            "31\n",
            "32\n",
            "44\n",
            "49\n",
            "68\n",
            "70\n",
            "79\n",
            "82\n",
            "86\n",
            "91\n",
            "94\n",
            "97\n",
            "100\n"
          ],
          "name": "stdout"
        }
      ]
    },
    {
      "cell_type": "code",
      "metadata": {
        "colab": {
          "base_uri": "https://localhost:8080/"
        },
        "id": "wZW5zLpI4reQ",
        "outputId": "08c500a6-486f-431c-e172-22a0b32ebb9f"
      },
      "source": [
        "# Q5\n",
        "def harsed(num):\n",
        "    rem = my_sum = 0\n",
        "    temp = num\n",
        "    while(temp>0):\n",
        "        rem =temp%10\n",
        "        my_sum+=rem\n",
        "        temp//=10\n",
        "    if(num%my_sum==0):\n",
        "        print(\"Harshad Number\")\n",
        "    else:\n",
        "        print(\"Not a Harshad Number\")\n",
        "\n",
        "    \n",
        "num=int(input(\"Enter the number: \"))\n",
        "harsed(num)"
      ],
      "execution_count": 22,
      "outputs": [
        {
          "output_type": "stream",
          "text": [
            "Enter the number: 155\n",
            "Not a Harshad Number\n"
          ],
          "name": "stdout"
        }
      ]
    },
    {
      "cell_type": "code",
      "metadata": {
        "colab": {
          "base_uri": "https://localhost:8080/"
        },
        "id": "y1-n3fh4XemT",
        "outputId": "3b78adf2-d15d-4b2e-c3d9-92a06c368071"
      },
      "source": [
        "# Q6\n",
        "def function(num):    \n",
        "    flag = False;    \n",
        "        \n",
        "    for j in range(1, num+1):    \n",
        "        if((j*(j+1)) == num):    \n",
        "            flag = True;    \n",
        "            break;    \n",
        "    return flag;    \n",
        "\n",
        "num=int(input(\"Enter the number: \"))\n",
        "num2=int(input(\"Enter the 2nd number\"))    \n",
        "for i in range(num, num2+1):    \n",
        "    if(function(i)):    \n",
        "        print(i, end=\" \")    \n",
        "        "
      ],
      "execution_count": 33,
      "outputs": [
        {
          "output_type": "stream",
          "text": [
            "Enter the number: 1\n",
            "Enter the 2nd number100\n",
            "2 6 12 20 30 42 56 72 90 "
          ],
          "name": "stdout"
        }
      ]
    }
  ]
}