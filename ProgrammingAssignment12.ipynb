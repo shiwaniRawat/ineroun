{
  "nbformat": 4,
  "nbformat_minor": 0,
  "metadata": {
    "colab": {
      "name": "ProgrammingAssignment12.ipynb",
      "provenance": [],
      "authorship_tag": "ABX9TyOqMaUpgGIM5pr/BfkHUBG9",
      "include_colab_link": true
    },
    "kernelspec": {
      "name": "python3",
      "display_name": "Python 3"
    },
    "language_info": {
      "name": "python"
    }
  },
  "cells": [
    {
      "cell_type": "markdown",
      "metadata": {
        "id": "view-in-github",
        "colab_type": "text"
      },
      "source": [
        "<a href=\"https://colab.research.google.com/github/shiwaniRawat/ineroun/blob/main/ProgrammingAssignment12.ipynb\" target=\"_parent\"><img src=\"https://colab.research.google.com/assets/colab-badge.svg\" alt=\"Open In Colab\"/></a>"
      ]
    },
    {
      "cell_type": "code",
      "metadata": {
        "colab": {
          "base_uri": "https://localhost:8080/"
        },
        "id": "HzKMW0jW77mN",
        "outputId": "05e6bde1-d6a1-479e-efac-9834c886de0e"
      },
      "source": [
        "# Q1\n",
        "dict = {'a': 2, 'b': 'a', 'c': 'delhi', 'd': 2, 'e': 4}\n",
        "number = list({i for i in dict.values() })\n",
        "  \n",
        "print(\"Dictionary = \", end = \" \")\n",
        "print(dict)\n",
        "print(\"Unique Values = \", end = \" \")\n",
        "print(number)"
      ],
      "execution_count": null,
      "outputs": [
        {
          "output_type": "stream",
          "text": [
            "Dictionary =  {'a': 2, 'b': 'a', 'c': 'delhi', 'd': 2, 'e': 4}\n",
            "Unique Values =  ['delhi', 2, 4, 'a']\n"
          ],
          "name": "stdout"
        }
      ]
    },
    {
      "cell_type": "code",
      "metadata": {
        "colab": {
          "base_uri": "https://localhost:8080/"
        },
        "id": "G3Yq5QseAWFr",
        "outputId": "92dde4cc-892c-4dd6-947b-0860ac675bf8"
      },
      "source": [
        "# Q2\n",
        "dict = {'a': 2, 'b': 20, 'c': 10, 'd': 2, 'e': 4}\n",
        "sum=0\n",
        "for i in dict:\n",
        "  sum=sum+dict[i]\n",
        "print(sum)"
      ],
      "execution_count": null,
      "outputs": [
        {
          "output_type": "stream",
          "text": [
            "38\n"
          ],
          "name": "stdout"
        }
      ]
    },
    {
      "cell_type": "code",
      "metadata": {
        "id": "iUKceoQmixg4",
        "colab": {
          "base_uri": "https://localhost:8080/"
        },
        "outputId": "b773fb78-2be6-4393-b13d-9164fb166df5"
      },
      "source": [
        "# Q3\n",
        "dict1={1:2,2:3,3:4,4:5}\n",
        "dict2={\"a\":\"Apple\",\"b\":\"Cat\"}\n",
        "d = dict2.copy()\n",
        "d.update(dict1)\n",
        "print(d)"
      ],
      "execution_count": 3,
      "outputs": [
        {
          "output_type": "stream",
          "text": [
            "{'a': 'Apple', 'b': 'Cat', 1: 2, 2: 3, 3: 4, 4: 5}\n"
          ],
          "name": "stdout"
        }
      ]
    },
    {
      "cell_type": "code",
      "metadata": {
        "colab": {
          "base_uri": "https://localhost:8080/"
        },
        "id": "V9po7TNDarBc",
        "outputId": "bd4625a0-be32-4b42-9329-cd99d178e9e6"
      },
      "source": [
        "# Q4\n",
        "dictt = {'marks' : [91, 28, 30, 48], 'name_of_students' : ['Ram', 'Rahul', 'Lio', 'Jam']}\n",
        "f = zip(dictt['marks'] , dictt['name_of_students'])\n",
        "dict(f)"
      ],
      "execution_count": 5,
      "outputs": [
        {
          "output_type": "execute_result",
          "data": {
            "text/plain": [
              "{28: 'Rahul', 30: 'Lio', 48: 'Jam', 91: 'Ram'}"
            ]
          },
          "metadata": {
            "tags": []
          },
          "execution_count": 5
        }
      ]
    },
    {
      "cell_type": "code",
      "metadata": {
        "colab": {
          "base_uri": "https://localhost:8080/"
        },
        "id": "869nx0K_cYrM",
        "outputId": "24bd4df5-b38b-4fe5-b020-287591778bd5"
      },
      "source": [
        "# Q5\n",
        "from collections import OrderedDict\n",
        "fruit = OrderedDict([('fruit1', 'Amla'), ('fruit2', 'Guava'), ('fruit3', 'Pear')]) \n",
        "\n",
        "print(fruit)\n",
        "fruit.update({'fruit4':'Orange'})\n",
        "fruit.move_to_end('fruit4', last = False)\n",
        "print(fruit)"
      ],
      "execution_count": 6,
      "outputs": [
        {
          "output_type": "stream",
          "text": [
            "Original OrderedDict:\n",
            "OrderedDict([('fruit1', 'Amla'), ('fruit2', 'Guava'), ('fruit3', 'Pear')])\n",
            "Insert an element at the beginning of the said OrderedDict:\n",
            "\n",
            "Updated OrderedDict:\n",
            "OrderedDict([('fruit4', 'Orange'), ('fruit1', 'Amla'), ('fruit2', 'Guava'), ('fruit3', 'Pear')])\n"
          ],
          "name": "stdout"
        }
      ]
    },
    {
      "cell_type": "code",
      "metadata": {
        "colab": {
          "base_uri": "https://localhost:8080/"
        },
        "id": "qAOofsdtwuzr",
        "outputId": "a2cad30f-cae1-4d45-dd0b-0a0c90b23ca9"
      },
      "source": [
        "# Q6\n",
        "from collections import OrderedDict \n",
        "def checkOrder(input, pattern): \n",
        "    dict = OrderedDict.fromkeys(input) \n",
        "    ptrlen = 0\n",
        "    for key,value in dict.items(): \n",
        "        if (key == pattern[ptrlen]): \n",
        "            ptrlen = ptrlen + 1\n",
        "        if (ptrlen == (len(pattern))): \n",
        "            return 'true'\n",
        "    return 'false'\n",
        "  \n",
        "if __name__ == \"__main__\": \n",
        "    input = 'mountainous '\n",
        "    pattern = 'us'\n",
        "    print (checkOrder(input,pattern))"
      ],
      "execution_count": 7,
      "outputs": [
        {
          "output_type": "stream",
          "text": [
            "true\n"
          ],
          "name": "stdout"
        }
      ]
    },
    {
      "cell_type": "code",
      "metadata": {
        "colab": {
          "base_uri": "https://localhost:8080/"
        },
        "id": "BzFLfv_y2sGN",
        "outputId": "c151dedc-5726-4d80-ee47-0beaa4c117a8"
      },
      "source": [
        "# Q7\n",
        "dictt={1:\"z\",2:\"a\",3:\"b\"}\n",
        "print(\"Sorted key\")\n",
        "for i in sorted(dictt.values()):\n",
        "  print(i,end=\" \")"
      ],
      "execution_count": 12,
      "outputs": [
        {
          "output_type": "stream",
          "text": [
            "Sorted key\n",
            "a b z "
          ],
          "name": "stdout"
        }
      ]
    }
  ]
}