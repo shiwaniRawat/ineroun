{
  "nbformat": 4,
  "nbformat_minor": 0,
  "metadata": {
    "colab": {
      "name": "ProgrammingAssignment15.ipynb",
      "provenance": [],
      "authorship_tag": "ABX9TyN3452J5ByKG+UpQIMqfPUr",
      "include_colab_link": true
    },
    "kernelspec": {
      "name": "python3",
      "display_name": "Python 3"
    },
    "language_info": {
      "name": "python"
    }
  },
  "cells": [
    {
      "cell_type": "markdown",
      "metadata": {
        "id": "view-in-github",
        "colab_type": "text"
      },
      "source": [
        "<a href=\"https://colab.research.google.com/github/shiwaniRawat/ineroun/blob/main/ProgrammingAssignment15.ipynb\" target=\"_parent\"><img src=\"https://colab.research.google.com/assets/colab-badge.svg\" alt=\"Open In Colab\"/></a>"
      ]
    },
    {
      "cell_type": "code",
      "metadata": {
        "id": "QoPO78QD-Pqz",
        "colab": {
          "base_uri": "https://localhost:8080/"
        },
        "outputId": "ba365a05-75ec-4551-fd69-a08084483dcc"
      },
      "source": [
        "# Q1\n",
        "num=int(input(\"Enter the number: \"))\n",
        "for i in range(num):\n",
        "  if(i%7==0 and i%5==0):\n",
        "    print(i,end=\" \")"
      ],
      "execution_count": null,
      "outputs": [
        {
          "output_type": "stream",
          "text": [
            "Enter the number: 100\n",
            "0 35 70 "
          ],
          "name": "stdout"
        }
      ]
    },
    {
      "cell_type": "code",
      "metadata": {
        "colab": {
          "base_uri": "https://localhost:8080/"
        },
        "id": "JQ7zJC2rHHDb",
        "outputId": "7f2b013d-2e50-459f-9f17-1a3805f15627"
      },
      "source": [
        "# Q2\n",
        "num=int(input(\"Enter the number: \"))\n",
        "for i in range(num):\n",
        "  if(i%2==0):\n",
        "    print(i,end=\" \")\n"
      ],
      "execution_count": null,
      "outputs": [
        {
          "output_type": "stream",
          "text": [
            "Enter the number: 10\n",
            "0 2 4 6 8 "
          ],
          "name": "stdout"
        }
      ]
    },
    {
      "cell_type": "code",
      "metadata": {
        "colab": {
          "base_uri": "https://localhost:8080/"
        },
        "id": "jYCykrjEPy8z",
        "outputId": "40362c73-6a33-4526-ff52-176c252e3f6d"
      },
      "source": [
        "# Q3\n",
        "def fib(n):\n",
        "  listt=[0,1]\n",
        "  [listt.append(listt[-2]+listt[-1]) for n in range(n-1)]\n",
        "  print(listt)\n",
        "\n",
        "n=int(input(\"enter the number : \"))\n",
        "res=fib(n)\n",
        "print(res)"
      ],
      "execution_count": 2,
      "outputs": [
        {
          "output_type": "stream",
          "text": [
            "enter the number : 7\n",
            "[0, 1, 1, 2, 3, 5, 8, 13]\n",
            "None\n"
          ],
          "name": "stdout"
        }
      ]
    },
    {
      "cell_type": "code",
      "metadata": {
        "colab": {
          "base_uri": "https://localhost:8080/"
        },
        "id": "U3N3vrDAHW3g",
        "outputId": "3ec2929b-4e86-4a78-d257-90b7c19f1722"
      },
      "source": [
        "# Q4\n",
        "string=input(\"Enter email: \")\n",
        "for i in string:\n",
        "  if i=='@':\n",
        "    break\n",
        "  print(i,end=\"\")"
      ],
      "execution_count": 4,
      "outputs": [
        {
          "output_type": "stream",
          "text": [
            "Enter email: john@google.com\n",
            "john"
          ],
          "name": "stdout"
        }
      ]
    },
    {
      "cell_type": "code",
      "metadata": {
        "colab": {
          "base_uri": "https://localhost:8080/"
        },
        "id": "lxmOOBmALOqy",
        "outputId": "a4f2051b-348d-40fa-e8fd-e7064bf93e9e"
      },
      "source": [
        "# Q5\n",
        "class Shape():\n",
        "    def __init__(self):\n",
        "        pass\n",
        "\n",
        "    def area(self):\n",
        "        return 0\n",
        "\n",
        "class Square(Shape):\n",
        "    def __init__(self,length = 0):\n",
        "        Shape.__init__(self)\n",
        "        self.length = length\n",
        "\n",
        "    def area(self):\n",
        "        return self.length*self.length\n",
        "a=int(input(\"Enter the length: \"))\n",
        "Asqr = Square(a)\n",
        "print(\"the area is:\",Asqr.area())     \n",
        "\n"
      ],
      "execution_count": 14,
      "outputs": [
        {
          "output_type": "stream",
          "text": [
            "Enter the length: 5\n",
            "the area is: 25\n"
          ],
          "name": "stdout"
        }
      ]
    }
  ]
}