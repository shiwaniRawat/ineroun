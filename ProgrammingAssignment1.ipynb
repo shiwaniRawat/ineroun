{
  "nbformat": 4,
  "nbformat_minor": 0,
  "metadata": {
    "colab": {
      "name": "ProgrammingAssignment1.ipynb",
      "provenance": [],
      "authorship_tag": "ABX9TyOMda9d0WcoTjbEmND9Ay4D",
      "include_colab_link": true
    },
    "kernelspec": {
      "name": "python3",
      "display_name": "Python 3"
    },
    "language_info": {
      "name": "python"
    }
  },
  "cells": [
    {
      "cell_type": "markdown",
      "metadata": {
        "id": "view-in-github",
        "colab_type": "text"
      },
      "source": [
        "<a href=\"https://colab.research.google.com/github/shiwaniRawat/ineroun/blob/main/ProgrammingAssignment1.ipynb\" target=\"_parent\"><img src=\"https://colab.research.google.com/assets/colab-badge.svg\" alt=\"Open In Colab\"/></a>"
      ]
    },
    {
      "cell_type": "code",
      "metadata": {
        "id": "mscJzX3o3HAf",
        "colab": {
          "base_uri": "https://localhost:8080/"
        },
        "outputId": "c1988e48-cd60-42a0-e13e-db0fbe111c67"
      },
      "source": [
        "# Q1\n",
        "print(\"Hello Python\")"
      ],
      "execution_count": null,
      "outputs": [
        {
          "output_type": "stream",
          "text": [
            "Hello Python\n"
          ],
          "name": "stdout"
        }
      ]
    },
    {
      "cell_type": "code",
      "metadata": {
        "colab": {
          "base_uri": "https://localhost:8080/"
        },
        "id": "nyrBS0UafDgR",
        "outputId": "10ec7ddd-68ee-413c-88d6-02f2fb9987be"
      },
      "source": [
        "# Q2\n",
        "a=int(input(\"Enter ur first number: \"))\n",
        "b=int(input(\"Enter the second number: \"))\n",
        "sum=a+b;\n",
        "div=a//b;\n",
        "print(\"sum of the number is: \",sum)\n",
        "print(\" Division of the number is: \" ,div)\n"
      ],
      "execution_count": 1,
      "outputs": [
        {
          "output_type": "stream",
          "text": [
            "Enter ur first number: 2\n",
            "Enter the second number: 2\n",
            "sum of the number is:  4\n",
            " Division of the number is:  1\n"
          ],
          "name": "stdout"
        }
      ]
    },
    {
      "cell_type": "code",
      "metadata": {
        "colab": {
          "base_uri": "https://localhost:8080/"
        },
        "id": "mQ7G_6Oi1tTK",
        "outputId": "4704df98-50e0-44bb-e3b7-53063e5f7a80"
      },
      "source": [
        "# Q3\n",
        "base=int(input(\"Enter base: \"))\n",
        "height=int(input(\"Enter the height: \"))\n",
        "area=(base*height)/2\n",
        "print(\"Area of triangle: \",area)\n"
      ],
      "execution_count": null,
      "outputs": [
        {
          "output_type": "stream",
          "text": [
            "Enter base: 3\n",
            "Enter the height: 2\n",
            "Area of triangle:  3.0\n"
          ],
          "name": "stdout"
        }
      ]
    },
    {
      "cell_type": "code",
      "metadata": {
        "colab": {
          "base_uri": "https://localhost:8080/"
        },
        "id": "ZKhO1bp12je9",
        "outputId": "6bc64f9f-cbb6-4207-9508-e2ebdc10ebab"
      },
      "source": [
        "# Q4\n",
        "first_number=int(input(\"Enter the first number: \"))\n",
        "second_number=int(input(\"Enter the second number: \"))\n",
        "first_number, second_number = second_number,first_number\n",
        "print(\"After Swap :\\nfirst_number: {}\\nsecond_number: {} \".format(first_number , second_number))"
      ],
      "execution_count": null,
      "outputs": [
        {
          "output_type": "stream",
          "text": [
            "Enter the first number: 3\n",
            "Enter the second number: 6\n",
            "After Swap :\n",
            "first_number: 6\n",
            "second_number: 3 \n"
          ],
          "name": "stdout"
        }
      ]
    },
    {
      "cell_type": "code",
      "metadata": {
        "colab": {
          "base_uri": "https://localhost:8080/"
        },
        "id": "06yzPwTo6ASP",
        "outputId": "32530a33-0ad9-4252-ebac-3fd215c625d5"
      },
      "source": [
        "# Q5\n",
        "import random\n",
        "a=int(input(\"Enter Min number : \"))\n",
        "b=int(input(\"Enter Max number : \"))\n",
        "print(random.randint(a,b))"
      ],
      "execution_count": null,
      "outputs": [
        {
          "output_type": "stream",
          "text": [
            "Enter Min number : 90\n",
            "Enter Max number : 1000\n",
            "462\n"
          ],
          "name": "stdout"
        }
      ]
    }
  ]
}