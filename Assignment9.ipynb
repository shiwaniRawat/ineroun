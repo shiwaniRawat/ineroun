{
  "nbformat": 4,
  "nbformat_minor": 0,
  "metadata": {
    "colab": {
      "name": "Assignment9.ipynb",
      "provenance": [],
      "authorship_tag": "ABX9TyNnBOruUFaolwO7bieJSUpH",
      "include_colab_link": true
    },
    "kernelspec": {
      "name": "python3",
      "display_name": "Python 3"
    },
    "language_info": {
      "name": "python"
    }
  },
  "cells": [
    {
      "cell_type": "markdown",
      "metadata": {
        "id": "view-in-github",
        "colab_type": "text"
      },
      "source": [
        "<a href=\"https://colab.research.google.com/github/shiwaniRawat/ineroun/blob/main/Assignment9.ipynb\" target=\"_parent\"><img src=\"https://colab.research.google.com/assets/colab-badge.svg\" alt=\"Open In Colab\"/></a>"
      ]
    },
    {
      "cell_type": "markdown",
      "metadata": {
        "id": "NFI9euWKVhGE"
      },
      "source": [
        "1.To what does a relative path refer?"
      ]
    },
    {
      "cell_type": "markdown",
      "metadata": {
        "id": "h5rfNLf7Vly5"
      },
      "source": [
        "relative path tell the location that is relative to a current directory.relative paths make use of two special symbols .(dot) and ..(double dot) which tell current directory and the parent directory"
      ]
    },
    {
      "cell_type": "markdown",
      "metadata": {
        "id": "2w14ygo1WW4S"
      },
      "source": [
        "2.What does an absolute path start with your operating system?"
      ]
    },
    {
      "cell_type": "markdown",
      "metadata": {
        "id": "QUSmT4aPrNqC"
      },
      "source": [
        "An absolute path is defined as the specifying the location of a file or directory from the root directory(/)."
      ]
    },
    {
      "cell_type": "markdown",
      "metadata": {
        "id": "0-ecAotZrsTj"
      },
      "source": [
        "3.What do the functions os.getcwd() and os.chdir() do?"
      ]
    },
    {
      "cell_type": "markdown",
      "metadata": {
        "id": "xhwp1QVOH7PX"
      },
      "source": [
        "getcwd() function allows us to see what current directory is.chdir() change the current working directory to specified path take only single argument as new directory path."
      ]
    },
    {
      "cell_type": "markdown",
      "metadata": {
        "id": "j5f9-5FWJBVx"
      },
      "source": [
        "4.What are the . and .. folders?"
      ]
    },
    {
      "cell_type": "markdown",
      "metadata": {
        "id": "5nPOnWoGJxUb"
      },
      "source": [
        ".folder is the current floder .. is the parent folder."
      ]
    },
    {
      "cell_type": "markdown",
      "metadata": {
        "id": "vFTdx_skJ65r"
      },
      "source": [
        "5.In C:\\bacon\\eggs\\spam.txt, which part is the dir name, and which part is the base name?"
      ]
    },
    {
      "cell_type": "markdown",
      "metadata": {
        "id": "v7WmMFkPKEpt"
      },
      "source": [
        "C:\\bacon\\eggs is the dir name, while spam.txt is the base name."
      ]
    },
    {
      "cell_type": "markdown",
      "metadata": {
        "id": "bO8c4dCWKKrm"
      },
      "source": [
        "6.What are the three “mode” arguments that can be passed to the open() function?"
      ]
    },
    {
      "cell_type": "markdown",
      "metadata": {
        "id": "3E1Qpe_7KPgc"
      },
      "source": [
        "r-:read mode\n",
        "\n",
        "w-:for write mode\n",
        "\n",
        "a-: for append mode"
      ]
    },
    {
      "cell_type": "markdown",
      "metadata": {
        "id": "A4rXQUl_Kcma"
      },
      "source": [
        "7.What happens if an existing file is opened in write mode?"
      ]
    },
    {
      "cell_type": "markdown",
      "metadata": {
        "id": "HN5OGS8AK62r"
      },
      "source": [
        "an existing file is opened in write mode is erased and completely overwritten."
      ]
    },
    {
      "cell_type": "markdown",
      "metadata": {
        "id": "bAbZ4Vn_LKBo"
      },
      "source": [
        "8.How do you tell the difference between read() and readlines()?"
      ]
    },
    {
      "cell_type": "markdown",
      "metadata": {
        "id": "O76DpwzULTLC"
      },
      "source": [
        "read() method returns the file's entire contents as a single string value.readlines()method returns a list of string where each string is a line from the flie contents."
      ]
    },
    {
      "cell_type": "markdown",
      "metadata": {
        "id": "pBr_sXwXMXE3"
      },
      "source": [
        "9.What data structure does a shelf value resemble?"
      ]
    },
    {
      "cell_type": "markdown",
      "metadata": {
        "id": "weoygQpYMylL"
      },
      "source": [
        "shelf value resembles a dictionary value it has keys and values with key()and values() methods work same to the dictionary methods of the same names."
      ]
    },
    {
      "cell_type": "code",
      "metadata": {
        "id": "K9V3oSY6JAHo"
      },
      "source": [
        ""
      ],
      "execution_count": null,
      "outputs": []
    },
    {
      "cell_type": "code",
      "metadata": {
        "id": "ZAaybMQNT9GP"
      },
      "source": [
        ""
      ],
      "execution_count": null,
      "outputs": []
    }
  ]
}