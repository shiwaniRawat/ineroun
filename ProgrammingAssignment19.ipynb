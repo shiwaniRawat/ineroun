{
  "nbformat": 4,
  "nbformat_minor": 0,
  "metadata": {
    "colab": {
      "name": "ProgrammingAssignment19.ipynb",
      "provenance": [],
      "authorship_tag": "ABX9TyObREx8Kyb9T+999y/Zko+Q",
      "include_colab_link": true
    },
    "kernelspec": {
      "name": "python3",
      "display_name": "Python 3"
    },
    "language_info": {
      "name": "python"
    }
  },
  "cells": [
    {
      "cell_type": "markdown",
      "metadata": {
        "id": "view-in-github",
        "colab_type": "text"
      },
      "source": [
        "<a href=\"https://colab.research.google.com/github/shiwaniRawat/ineroun/blob/main/ProgrammingAssignment19.ipynb\" target=\"_parent\"><img src=\"https://colab.research.google.com/assets/colab-badge.svg\" alt=\"Open In Colab\"/></a>"
      ]
    },
    {
      "cell_type": "code",
      "metadata": {
        "colab": {
          "base_uri": "https://localhost:8080/"
        },
        "id": "cHY4QkmOYige",
        "outputId": "9ec9af69-0bd0-4478-dd46-8715c5b8500d"
      },
      "source": [
        "# Q1\n",
        "def multichar(text, n):\n",
        "    return ''.join([x * n for x in text])\n",
        "text=input(\"Enter ur string: \")\n",
        "n=2\n",
        "print(multichar(text,n))"
      ],
      "execution_count": null,
      "outputs": [
        {
          "output_type": "stream",
          "text": [
            "Enter ur string: 1234\n",
            "11223344\n"
          ],
          "name": "stdout"
        }
      ]
    },
    {
      "cell_type": "code",
      "metadata": {
        "colab": {
          "base_uri": "https://localhost:8080/"
        },
        "id": "HO6mu19KZDmm",
        "outputId": "ced16326-185d-460f-c775-815dca4934d1"
      },
      "source": [
        "# Q3\n",
        "def fn(a):\n",
        "    res = 0.5\n",
        "    for _ in range(a):\n",
        "        res *= 2\n",
        "    # return res for mm\n",
        "    return res / 1000 \n",
        "a=int(input(\"enter the number: \"))\n",
        "print(fn(a))"
      ],
      "execution_count": null,
      "outputs": [
        {
          "output_type": "stream",
          "text": [
            "enter the number: 4\n",
            "0.008\n"
          ],
          "name": "stdout"
        }
      ]
    },
    {
      "cell_type": "code",
      "metadata": {
        "colab": {
          "base_uri": "https://localhost:8080/"
        },
        "id": "Ul_7C0zw7WhO",
        "outputId": "6df34074-f600-4328-aeb9-b6cd5302db53"
      },
      "source": [
        "# Q4\n",
        "def fn(s):\n",
        "  res= [i for i in range(len(s)) if s[i].isupper()]\n",
        "  return res\n",
        "s=input(\"enter the string: \")\n",
        "print(fn(s))"
      ],
      "execution_count": null,
      "outputs": [
        {
          "output_type": "stream",
          "text": [
            "enter the string: StRiNg\n",
            "[0, 2, 4]\n"
          ],
          "name": "stdout"
        }
      ]
    },
    {
      "cell_type": "code",
      "metadata": {
        "colab": {
          "base_uri": "https://localhost:8080/"
        },
        "id": "9Egz763WATma",
        "outputId": "2d97d57c-bb6a-4d16-c762-a14735bc0ee1"
      },
      "source": [
        "# Q5\n",
        "def even(n):\n",
        "  even_num=[]\n",
        "  for i in range(n):\n",
        "    if i%2 ==0:\n",
        "      even_num.append(i)\n",
        "  return even_num\n",
        "n=int(input(\"Enter the number: \"))\n",
        "print(even(n))"
      ],
      "execution_count": null,
      "outputs": [
        {
          "output_type": "stream",
          "text": [
            "Enter the number: 4\n",
            "[0, 2]\n"
          ],
          "name": "stdout"
        }
      ]
    }
  ]
}