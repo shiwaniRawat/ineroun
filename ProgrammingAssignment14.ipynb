{
  "nbformat": 4,
  "nbformat_minor": 0,
  "metadata": {
    "colab": {
      "name": "ProgrammingAssignment14.ipynb",
      "provenance": [],
      "authorship_tag": "ABX9TyN8MnVWu614H2dBRtQvaqWX",
      "include_colab_link": true
    },
    "kernelspec": {
      "name": "python3",
      "display_name": "Python 3"
    },
    "language_info": {
      "name": "python"
    }
  },
  "cells": [
    {
      "cell_type": "markdown",
      "metadata": {
        "id": "view-in-github",
        "colab_type": "text"
      },
      "source": [
        "<a href=\"https://colab.research.google.com/github/shiwaniRawat/ineroun/blob/main/ProgrammingAssignment14.ipynb\" target=\"_parent\"><img src=\"https://colab.research.google.com/assets/colab-badge.svg\" alt=\"Open In Colab\"/></a>"
      ]
    },
    {
      "cell_type": "code",
      "metadata": {
        "colab": {
          "base_uri": "https://localhost:8080/"
        },
        "id": "RQxip2h5WKHu",
        "outputId": "26529fc0-0b9c-4fa5-a7f9-b13659ad9514"
      },
      "source": [
        "# Q1\n",
        "def divide(num):\n",
        "    i=0\n",
        "    while(i<=num):\n",
        "        if(i%7==0):\n",
        "            yield i\n",
        "        i+=1\n",
        "\n",
        "num=int(input(\"Enter Number: \"))\n",
        "for i in divide(num):\n",
        "    print(i)"
      ],
      "execution_count": null,
      "outputs": [
        {
          "output_type": "stream",
          "text": [
            "Enter Number: 21\n",
            "0\n",
            "7\n",
            "14\n",
            "21\n"
          ],
          "name": "stdout"
        }
      ]
    },
    {
      "cell_type": "code",
      "metadata": {
        "colab": {
          "base_uri": "https://localhost:8080/"
        },
        "id": "nIC5INQnWquH",
        "outputId": "eaaaef19-5057-4d6c-f0ce-d528415ba4ee"
      },
      "source": [
        "# Q2\n",
        "num= input()\n",
        "list = num.split(\" \")\n",
        "dictionary = {i:list.count(i) for i in list}\n",
        "for key,values in sorted(dictionary.items()):\n",
        "    print(key,\":\",values)"
      ],
      "execution_count": null,
      "outputs": [
        {
          "output_type": "stream",
          "text": [
            "New to Python or choosing between Python 2 and Python 3? Read Python 2 or Python 3\n",
            "2 : 2\n",
            "3 : 1\n",
            "3? : 1\n",
            "New : 1\n",
            "Python : 5\n",
            "Read : 1\n",
            "and : 1\n",
            "between : 1\n",
            "choosing : 1\n",
            "or : 2\n",
            "to : 1\n"
          ],
          "name": "stdout"
        }
      ]
    },
    {
      "cell_type": "code",
      "metadata": {
        "colab": {
          "base_uri": "https://localhost:8080/"
        },
        "id": "2YHP57RlXxoK",
        "outputId": "e67a9afb-30be-40ee-ba82-ea67dc6fdda3"
      },
      "source": [
        "# Q3\n",
        "class Person:\n",
        "    def __str__(self):\n",
        "        return \"Person Class\"\n",
        "    \n",
        "class Male(Person):\n",
        "    def getGender(self):\n",
        "            return \"Male\"\n",
        "        \n",
        "    def __str__(self):\n",
        "        return \"Male Class\"\n",
        "    \n",
        "class Female(Person):\n",
        "    def getGender(self):\n",
        "            return \"Female\"\n",
        "    def __str__(self):\n",
        "        return \"Female Class\"\n",
        "\n",
        "male=Male()\n",
        "female=Female()\n",
        "print(male.getGender())\n",
        "print(female.getGender())"
      ],
      "execution_count": null,
      "outputs": [
        {
          "output_type": "stream",
          "text": [
            "Male\n",
            "Female\n"
          ],
          "name": "stdout"
        }
      ]
    },
    {
      "cell_type": "code",
      "metadata": {
        "colab": {
          "base_uri": "https://localhost:8080/"
        },
        "id": "naWQWCTFYJB3",
        "outputId": "5e4dcb6b-11e1-4473-d46e-f0910c0228e2"
      },
      "source": [
        "# Q4\n",
        "subject=[\"I\", \"You\"]\n",
        "verb=[\"Play\", \"Love\"]\n",
        "obj=[\"Hockey\",\"Football\"]\n",
        "sen_list = [(sub+\" \"+ vb + \" \" + ob) for sub in subject for vb in verb for ob in obj]\n",
        "for sentence in sen_list:\n",
        "    print (sentence)"
      ],
      "execution_count": null,
      "outputs": [
        {
          "output_type": "stream",
          "text": [
            "I Play Hockey\n",
            "I Play Football\n",
            "I Love Hockey\n",
            "I Love Football\n",
            "You Play Hockey\n",
            "You Play Football\n",
            "You Love Hockey\n",
            "You Love Football\n"
          ],
          "name": "stdout"
        }
      ]
    },
    {
      "cell_type": "code",
      "metadata": {
        "colab": {
          "base_uri": "https://localhost:8080/"
        },
        "id": "BKPOZmnEZttr",
        "outputId": "26bd4cbf-64be-40c8-f1dd-d9acb2e31068"
      },
      "source": [
        "# Q5\n",
        "string = \"hello world!hello world!hello world!hello world!\"\n",
        "list = string.split(\" \")\n",
        "dictionary = {i:list.count(i) for i in list}\n",
        "temp = \"\"\n",
        "for key,values in sorted(dictionary.items()):\n",
        "    temp = temp + str(key) + str(values)\n",
        "print(\"Compressed String: \" , temp)"
      ],
      "execution_count": null,
      "outputs": [
        {
          "output_type": "stream",
          "text": [
            "Compressed String:  hello1world!1world!hello3\n"
          ],
          "name": "stdout"
        }
      ]
    },
    {
      "cell_type": "code",
      "metadata": {
        "id": "eUgBeFZYK6bh",
        "colab": {
          "base_uri": "https://localhost:8080/"
        },
        "outputId": "33661500-7f54-4d5a-f415-f2d3555eff03"
      },
      "source": [
        "\n",
        "\n",
        "def BinarySearch(key):\n",
        "  flag=0\n",
        "  for i in range(len(a)):\n",
        "    if(a[i]==key):\n",
        "      return i\n",
        "  if(flag==0):\n",
        "    return \"not found\"\n",
        "\n",
        "n = int(input(\"Enter length of list: \"))\n",
        "print(\"Please Enter {} Elements: \".format(n))\n",
        "a=[]\n",
        "for i in range(1,n+1):\n",
        "  print(\"Enter {} Element: \".format(i))\n",
        "  num = int(input())\n",
        "  a.append(num)\n",
        "print(\"Enter Key you want to search: \")\n",
        "key = int(input())\n",
        "res = BinarySearch(key)\n",
        "print(res)\n"
      ],
      "execution_count": 7,
      "outputs": [
        {
          "output_type": "stream",
          "text": [
            "Enter length of list: 3\n",
            "Please Enter 3 Elements: \n",
            "Enter 1 Element: \n",
            "10\n",
            "Enter 2 Element: \n",
            "20\n",
            "Enter 3 Element: \n",
            "50\n",
            "Enter Key you want to search: \n",
            "20\n",
            "1\n"
          ],
          "name": "stdout"
        }
      ]
    }
  ]
}