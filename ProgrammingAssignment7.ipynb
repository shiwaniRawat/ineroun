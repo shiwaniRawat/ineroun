{
  "nbformat": 4,
  "nbformat_minor": 0,
  "metadata": {
    "colab": {
      "name": "ProgrammingAssignment7.ipynb",
      "provenance": [],
      "authorship_tag": "ABX9TyNXUncw5iVT6s+T/Q2a++UM",
      "include_colab_link": true
    },
    "kernelspec": {
      "name": "python3",
      "display_name": "Python 3"
    },
    "language_info": {
      "name": "python"
    }
  },
  "cells": [
    {
      "cell_type": "markdown",
      "metadata": {
        "id": "view-in-github",
        "colab_type": "text"
      },
      "source": [
        "<a href=\"https://colab.research.google.com/github/shiwaniRawat/ineroun/blob/main/ProgrammingAssignment7.ipynb\" target=\"_parent\"><img src=\"https://colab.research.google.com/assets/colab-badge.svg\" alt=\"Open In Colab\"/></a>"
      ]
    },
    {
      "cell_type": "code",
      "metadata": {
        "id": "yxhTnEbMLH8s",
        "colab": {
          "base_uri": "https://localhost:8080/"
        },
        "outputId": "9b59788b-7661-4a08-81e2-6f2a71ccb91b"
      },
      "source": [
        "# Q1\n",
        "list=[]\n",
        "num=int(input(\"Enter the array size: \"))\n",
        "\n",
        "for i in range(num):\n",
        "  n = int(input(\"Enter {} number:\".format(i)))\n",
        "  \n",
        "  list.append(n)\n",
        "print(\"The sum is: \",sum(list))"
      ],
      "execution_count": null,
      "outputs": [
        {
          "output_type": "stream",
          "text": [
            "Enter the array size: 5\n",
            "Enter 0 number:1\n",
            "Enter 1 number:5\n",
            "Enter 2 number:8\n",
            "Enter 3 number:7\n",
            "Enter 4 number:1\n",
            "The sum is:  22\n"
          ],
          "name": "stdout"
        }
      ]
    },
    {
      "cell_type": "code",
      "metadata": {
        "colab": {
          "base_uri": "https://localhost:8080/"
        },
        "id": "Zjpr38PooWdT",
        "outputId": "3bb54ee8-faca-4f19-c630-3ae0a15692e0"
      },
      "source": [
        "# Q2\n",
        "list = []\n",
        "num = int(input(\"size of element: \"))\n",
        "for i in range(1, num + 1):\n",
        "    v = int(input(\"Enter {} number:\".format(i)))\n",
        "    list.append(v)\n",
        "\n",
        "print(\"The Largest Element in this List is : \", max(list))"
      ],
      "execution_count": null,
      "outputs": [
        {
          "output_type": "stream",
          "text": [
            "size of element: 2\n",
            "Enter 1 number:12\n",
            "Enter 2 number:1\n",
            "The Largest Element in this List is :  12\n"
          ],
          "name": "stdout"
        }
      ]
    },
    {
      "cell_type": "code",
      "metadata": {
        "id": "ybhw_LV_f6i1",
        "colab": {
          "base_uri": "https://localhost:8080/"
        },
        "outputId": "2952e36f-c1f5-47a2-c9ab-d8f2498ab85b"
      },
      "source": [
        "def reverse(a,n,p):\n",
        "  i=0\n",
        "  while(i<n):\n",
        "    left=i\n",
        "    right=min(i+p-1,n-1)\n",
        "    while(left<right):\n",
        "      a[left],a[right]=a[right],a[left]\n",
        "      left+=1\n",
        "      right-+1\n",
        "    i+=p\n",
        "a=list()\n",
        "n=int(input(\"Enter the size of the array: \"))\n",
        "print(\"enter the number: \")\n",
        "for i in range(int(n)):\n",
        "  num=int(input(\"\"))\n",
        "  a.append(int(num))\n",
        "p=int(input(\"enter the group \"))\n",
        "reverse(a,n,p)\n",
        "for i in range(0,n):\n",
        "  print(a[i],end=\" \")\n"
      ],
      "execution_count": 7,
      "outputs": [
        {
          "output_type": "stream",
          "text": [
            "Enter the size of the array: 3\n",
            "enter the number: \n",
            "1\n",
            "2\n",
            "3\n",
            "enter the group 55\n",
            "3 1 2 "
          ],
          "name": "stdout"
        }
      ]
    },
    {
      "cell_type": "code",
      "metadata": {
        "colab": {
          "base_uri": "https://localhost:8080/"
        },
        "id": "kPUZuFY6En0H",
        "outputId": "5f4ba553-abb3-4326-d5e7-137d7c859c47"
      },
      "source": [
        "# Q3\n",
        "list = []\n",
        "num = int(input(\"size of element: \"))\n",
        "for i in range(1, num + 1):\n",
        "    v = int(input(\"Enter number:\")\n",
        "    list.append(v)\n",
        "    w=list[::-1]\n",
        "    print(w)"
      ],
      "execution_count": 10,
      "outputs": [
        {
          "output_type": "stream",
          "text": [
            "size of element: 3\n",
            "Enter 1 number:1\n",
            "[1]\n",
            "Enter 2 number:2\n",
            "[2, 1]\n",
            "Enter 3 number:3\n",
            "[3, 2, 1]\n"
          ],
          "name": "stdout"
        }
      ]
    },
    {
      "cell_type": "code",
      "metadata": {
        "colab": {
          "base_uri": "https://localhost:8080/"
        },
        "id": "TGlnD5FTL5Wj",
        "outputId": "3cd9ec95-855c-4200-abb6-6e50bddc1b77"
      },
      "source": [
        "# Q4\n",
        "def split(n):\n",
        "  li=[]\n",
        "  for i in range(1,n+1):\n",
        "    num=int(input(\"Enter the number: \"))\n",
        "    li.append(num)\n",
        "  temp=li[0]\n",
        "  li[0]=li[len(li)-1]\n",
        "  li[len(li)-1]=temp\n",
        "  for i in enumerate(li):\n",
        "    print(i)\n",
        "n=int(input(\"enter the size of array: \"))\n",
        "split(n)"
      ],
      "execution_count": 20,
      "outputs": [
        {
          "output_type": "stream",
          "text": [
            "enter the size of array: 5\n",
            "Enter the number: 1\n",
            "Enter the number: 2\n",
            "Enter the number: 3\n",
            "Enter the number: 4\n",
            "Enter the number: 5\n",
            "(0, 5)\n",
            "(1, 2)\n",
            "(2, 3)\n",
            "(3, 4)\n",
            "(4, 1)\n"
          ],
          "name": "stdout"
        }
      ]
    },
    {
      "cell_type": "code",
      "metadata": {
        "colab": {
          "base_uri": "https://localhost:8080/"
        },
        "id": "LacLM9niTZJs",
        "outputId": "65671fdf-de31-4fa3-fcfa-96f28db9b341"
      },
      "source": [
        "# Q5\n",
        "def fun(n):\n",
        "  li=[]\n",
        "  for i in range(1,n+1):\n",
        "    num=int(input(\"Enter the element: \"))\n",
        "    li.append(num)\n",
        "  temp=0\n",
        "  result=True\n",
        "  for i in range(len(li)-1):\n",
        "    if(li[i]>=li[i+1]):\n",
        "      if(temp==1):\n",
        "        result=False\n",
        "        break\n",
        "      else:\n",
        "        temp=0\n",
        "        continue\n",
        "    elif(li[i]<=li[i+1]):\n",
        "      if(i!=0 and temp==0):\n",
        "        result=False\n",
        "        break\n",
        "      else:\n",
        "        temp=1\n",
        "        continue\n",
        "    return result\n",
        "\n",
        "n=int(input(\"enter the size: \"))\n",
        "if(fun(n)==True):\n",
        "  print(\"Monotonic Array\")\n",
        "else:\n",
        "  print(\"not monotonic\")"
      ],
      "execution_count": 23,
      "outputs": [
        {
          "output_type": "stream",
          "text": [
            "enter the size: 6\n",
            "Enter the element: 5\n",
            "Enter the element: 4\n",
            "Enter the element: 7\n",
            "Enter the element: 8\n",
            "Enter the element: 9\n",
            "Enter the element: 4\n",
            "not monotonic\n"
          ],
          "name": "stdout"
        }
      ]
    },
    {
      "cell_type": "code",
      "metadata": {
        "id": "EIqJAazdYcgH"
      },
      "source": [
        ""
      ],
      "execution_count": null,
      "outputs": []
    },
    {
      "cell_type": "code",
      "metadata": {
        "id": "d6LDetYPNrpc"
      },
      "source": [
        ""
      ],
      "execution_count": null,
      "outputs": []
    }
  ]
}