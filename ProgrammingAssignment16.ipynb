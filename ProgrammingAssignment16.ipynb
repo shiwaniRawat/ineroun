{
  "nbformat": 4,
  "nbformat_minor": 0,
  "metadata": {
    "colab": {
      "name": "ProgrammingAssignment16.ipynb",
      "provenance": [],
      "authorship_tag": "ABX9TyOCnvxQxomiF+TFmgh2A5qe",
      "include_colab_link": true
    },
    "kernelspec": {
      "name": "python3",
      "display_name": "Python 3"
    },
    "language_info": {
      "name": "python"
    }
  },
  "cells": [
    {
      "cell_type": "markdown",
      "metadata": {
        "id": "view-in-github",
        "colab_type": "text"
      },
      "source": [
        "<a href=\"https://colab.research.google.com/github/shiwaniRawat/ineroun/blob/main/ProgrammingAssignment16.ipynb\" target=\"_parent\"><img src=\"https://colab.research.google.com/assets/colab-badge.svg\" alt=\"Open In Colab\"/></a>"
      ]
    },
    {
      "cell_type": "code",
      "metadata": {
        "colab": {
          "base_uri": "https://localhost:8080/"
        },
        "id": "iYMcrvU8Mxnp",
        "outputId": "091a1588-5307-4f43-ce80-df7bcd112ab2"
      },
      "source": [
        "# Q1\n",
        "def shutters(string):\n",
        "  if(len(string)>2):\n",
        "    print(string[0]+string[1]+\"...\"+\" \"+string[0]+string[1]+\"...\"+\" \"+string+\"?\")\n",
        "  else:\n",
        "    print(\"String Length is less than 2 \") \n",
        "\n",
        "string=input(\"Enter ur choice: \")\n",
        "shutters(string)"
      ],
      "execution_count": 1,
      "outputs": [
        {
          "output_type": "stream",
          "text": [
            "Enter ur choice: incredible\n",
            "in... in... incredible?\n"
          ],
          "name": "stdout"
        }
      ]
    },
    {
      "cell_type": "code",
      "metadata": {
        "colab": {
          "base_uri": "https://localhost:8080/"
        },
        "id": "s7_iffWapl8G",
        "outputId": "576c2fc9-92dc-4076-b49a-7e4497092677"
      },
      "source": [
        "# Q2\n",
        "def fun(num):\n",
        "  res=round(num*(180*7)/22,2)\n",
        "  return res\n",
        "num=int(input(\"Enter the number: \"))\n",
        "print(fun(num))"
      ],
      "execution_count": 6,
      "outputs": [
        {
          "output_type": "stream",
          "text": [
            "Enter the number: 20\n",
            "1145.45\n"
          ],
          "name": "stdout"
        }
      ]
    },
    {
      "cell_type": "code",
      "metadata": {
        "colab": {
          "base_uri": "https://localhost:8080/"
        },
        "id": "DMTAaLLWq3m3",
        "outputId": "ddb095b6-80c8-4b7c-bed6-646b9f851684"
      },
      "source": [
        "# Q3\n",
        "def curzon_number(num):\n",
        "  a=((2**num)+1)\n",
        "  b=((2*num)+1)\n",
        "  if(a%b==0):\n",
        "    return True\n",
        "  else:\n",
        "    return False\n",
        "num=int(input(\"Enter the number: \"))\n",
        "print(curzon_number(num))"
      ],
      "execution_count": 10,
      "outputs": [
        {
          "output_type": "stream",
          "text": [
            "Enter the number: 10\n",
            "False\n"
          ],
          "name": "stdout"
        }
      ]
    },
    {
      "cell_type": "code",
      "metadata": {
        "colab": {
          "base_uri": "https://localhost:8080/"
        },
        "id": "zt3MsNxTzwjP",
        "outputId": "46b3d247-e9dd-4751-9faf-9d3646aa9730"
      },
      "source": [
        "# Q4\n",
        "import math\n",
        "def fun(num):\n",
        "  area=((3*math.sqrt(3))/2)*num*num\n",
        "  return(round(area,2))\n",
        "\n",
        "num=int(input(\"Enter the number: \"))\n",
        "print(fun(num))"
      ],
      "execution_count": 12,
      "outputs": [
        {
          "output_type": "stream",
          "text": [
            "Enter the number: 3\n",
            "23.38\n"
          ],
          "name": "stdout"
        }
      ]
    },
    {
      "cell_type": "code",
      "metadata": {
        "colab": {
          "base_uri": "https://localhost:8080/"
        },
        "id": "Knnc4qTx3gg1",
        "outputId": "71762f15-1dfd-47ac-9fbe-24f04946fabe"
      },
      "source": [
        "# Q5\n",
        "def decimaltobinary(num):\n",
        "  if num>=1:\n",
        "    decimaltobinary(num//2)\n",
        "  print(num%2,end=\" \")\n",
        "\n",
        "num=int(input(\"enter the number: \"))\n",
        "decimaltobinary(num)\n",
        "print()\n"
      ],
      "execution_count": 19,
      "outputs": [
        {
          "output_type": "stream",
          "text": [
            "enter the number: 14\n",
            "0 1 1 1 0 \n"
          ],
          "name": "stdout"
        }
      ]
    }
  ]
}