{
  "nbformat": 4,
  "nbformat_minor": 0,
  "metadata": {
    "colab": {
      "name": "ProgrammingAssignment11.ipynb",
      "provenance": [],
      "authorship_tag": "ABX9TyPC0m53o5e4lGyA9N4nU5Wm",
      "include_colab_link": true
    },
    "kernelspec": {
      "name": "python3",
      "display_name": "Python 3"
    },
    "language_info": {
      "name": "python"
    }
  },
  "cells": [
    {
      "cell_type": "markdown",
      "metadata": {
        "id": "view-in-github",
        "colab_type": "text"
      },
      "source": [
        "<a href=\"https://colab.research.google.com/github/shiwaniRawat/ineroun/blob/main/ProgrammingAssignment11.ipynb\" target=\"_parent\"><img src=\"https://colab.research.google.com/assets/colab-badge.svg\" alt=\"Open In Colab\"/></a>"
      ]
    },
    {
      "cell_type": "code",
      "metadata": {
        "colab": {
          "base_uri": "https://localhost:8080/"
        },
        "id": "rt5h8W_lilxw",
        "outputId": "71a7e44e-a47f-4520-b1e0-ec93bca4dcc4"
      },
      "source": [
        "# Q1\n",
        "string =  input('Enter the string : ')\n",
        "k = int(input('Enter k  (value for accepting string) : '))\n",
        "larger_strings = []\n",
        "words = string.split(\" \")\n",
        "for word in words:\n",
        "\tif len(word) > k:\n",
        "\t\tlarger_strings.append(word)\n",
        "\t\t\n",
        "print(\"All words which are greater than given length \", k, \"are \", larger_strings)"
      ],
      "execution_count": 3,
      "outputs": [
        {
          "output_type": "stream",
          "text": [
            "Enter the string : learn python programming a\n",
            "Enter k  (value for accepting string) : 3\n",
            "All words which are greater than given length  3 are  ['learn', 'python', 'programming']\n"
          ],
          "name": "stdout"
        }
      ]
    },
    {
      "cell_type": "code",
      "metadata": {
        "colab": {
          "base_uri": "https://localhost:8080/"
        },
        "id": "O4CqFOkDE4DO",
        "outputId": "42b92eac-e371-4ad2-f585-5e8d7d10762c"
      },
      "source": [
        "# Q2\n",
        "string = input(\"Enter the string: \")\n",
        "print (\"Original string: \" + string) \n",
        "n=int(input(\"enter the postion of character u want to remove: \"))\n",
        "result = \"\" \n",
        "for i in range(0, len(string)): \n",
        "  if i != n: \n",
        "    result = result + string[i] \n",
        "   \n",
        "# Printing string after removal   \n",
        "print (\"String after removal of i'th character : \" + result)"
      ],
      "execution_count": 6,
      "outputs": [
        {
          "output_type": "stream",
          "text": [
            "Enter the string: python\n",
            "Original string: python\n",
            "enter the postion of character u want to remove: 3\n",
            "String after removal of i'th character : pyton\n"
          ],
          "name": "stdout"
        }
      ]
    },
    {
      "cell_type": "code",
      "metadata": {
        "colab": {
          "base_uri": "https://localhost:8080/"
        },
        "id": "WXPYkWl6O9sh",
        "outputId": "37bf26ed-fa7c-4628-c7c5-c9102b235ea9"
      },
      "source": [
        "# Q3\n",
        "string = input(\"Enter the string: \")\n",
        "s=list(string)\n",
        "# s = string.split(' ')\n",
        "print(s)\n",
        "join_string='-'.join(s) \n",
        "print(join_string)"
      ],
      "execution_count": 20,
      "outputs": [
        {
          "output_type": "stream",
          "text": [
            "Enter the string: hello word\n",
            "['hello', 'word']\n",
            "hello-word\n"
          ],
          "name": "stdout"
        }
      ]
    },
    {
      "cell_type": "code",
      "metadata": {
        "colab": {
          "base_uri": "https://localhost:8080/"
        },
        "id": "zmhMi09NdIQD",
        "outputId": "f8455473-93b8-4a79-9094-7e321eb29e58"
      },
      "source": [
        "# Q4\n",
        "string =  input('Enter the binary string : ')\n",
        "\n",
        "flag = True\n",
        "for char in string :\n",
        "    if(char == '0' or char == '1'):\n",
        "       continue \n",
        "    else :\n",
        "        flag = False\n",
        "        print(\"The String is not a binary string\")\n",
        "        break\n",
        "    \n",
        "if(flag):\n",
        "    print(\"The String is binary string\")"
      ],
      "execution_count": 2,
      "outputs": [
        {
          "output_type": "stream",
          "text": [
            "Enter the binary string : delhi\n",
            "The String is not a binary string\n"
          ],
          "name": "stdout"
        }
      ]
    },
    {
      "cell_type": "code",
      "metadata": {
        "colab": {
          "base_uri": "https://localhost:8080/"
        },
        "id": "CHQ1vS-5wxre",
        "outputId": "b821a737-6c9e-4832-88f7-4655b9eb2fac"
      },
      "source": [
        "# Q5\n",
        "str1 = input('Enter first string : ')\n",
        "str2 = input('Enter second string : ')\n",
        "\n",
        "# finding uncommon words\n",
        "count = {}\n",
        "for word in str1.split():\n",
        "    count[word] = count.get(word, 0) + 1\n",
        "for word in str2.split():\n",
        "    count[word] = count.get(word, 0) + 1\n",
        "  \n",
        "uncommon =  [word for word in count if count[word] == 1]\n",
        "\n",
        "print(\"All uncommon words from both the string are \", uncommon)"
      ],
      "execution_count": 3,
      "outputs": [
        {
          "output_type": "stream",
          "text": [
            "Enter first string : html is not a programming language\n",
            "Enter second string : python is programming\n",
            "All uncommon words from both the string are  ['html', 'not', 'a', 'language', 'python']\n"
          ],
          "name": "stdout"
        }
      ]
    },
    {
      "cell_type": "code",
      "metadata": {
        "colab": {
          "base_uri": "https://localhost:8080/"
        },
        "id": "s3zbc16FzOnz",
        "outputId": "5092c63a-4b66-4c9b-9360-f0a5503fda29"
      },
      "source": [
        "# Q6\n",
        "string = input(\"Enter ur string: \")\n",
        "duplicates = []\n",
        "for char in string:\n",
        "  if string.count(char) > 1:\n",
        "   if char not in duplicates:\n",
        "     duplicates.append(char)\n",
        "print(duplicates)"
      ],
      "execution_count": 6,
      "outputs": [
        {
          "output_type": "stream",
          "text": [
            "Enter ur string: programming\n",
            "['r', 'g', 'm']\n"
          ],
          "name": "stdout"
        }
      ]
    },
    {
      "cell_type": "code",
      "metadata": {
        "colab": {
          "base_uri": "https://localhost:8080/"
        },
        "id": "MqHA87145TDo",
        "outputId": "7adbbb2c-b0b6-45be-8c4d-236ad12f7293"
      },
      "source": [
        "# Q7\n",
        "string=input(\"Enter the string: \")\n",
        "character=\"!@#$%^&*()-+?_=,<>/\"\n",
        "flag=0\n",
        "for i in string:\n",
        "  if i in character:\n",
        "    flag=1\n",
        "    break\n",
        "  else:\n",
        "    continue\n",
        "if flag:\n",
        "  print(\"String contains special character\")\n",
        "else:\n",
        "  print(\"Not a special characte\")\n"
      ],
      "execution_count": 7,
      "outputs": [
        {
          "output_type": "stream",
          "text": [
            "Enter the string: pro@@#\n",
            "String contains special character\n"
          ],
          "name": "stdout"
        }
      ]
    }
  ]
}