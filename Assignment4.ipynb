{
  "nbformat": 4,
  "nbformat_minor": 0,
  "metadata": {
    "colab": {
      "name": "Assignment4.ipynb",
      "provenance": [],
      "authorship_tag": "ABX9TyON3RnhjYihkXkYE52uRXJL",
      "include_colab_link": true
    },
    "kernelspec": {
      "name": "python3",
      "display_name": "Python 3"
    },
    "language_info": {
      "name": "python"
    }
  },
  "cells": [
    {
      "cell_type": "markdown",
      "metadata": {
        "id": "view-in-github",
        "colab_type": "text"
      },
      "source": [
        "<a href=\"https://colab.research.google.com/github/shiwaniRawat/ineroun/blob/main/Assignment4.ipynb\" target=\"_parent\"><img src=\"https://colab.research.google.com/assets/colab-badge.svg\" alt=\"Open In Colab\"/></a>"
      ]
    },
    {
      "cell_type": "markdown",
      "metadata": {
        "id": "XkV7GR6ZO3tB"
      },
      "source": [
        "1.What exactly is []?"
      ]
    },
    {
      "cell_type": "markdown",
      "metadata": {
        "id": "bAEhfGswO9sR"
      },
      "source": [
        "Its a list"
      ]
    },
    {
      "cell_type": "markdown",
      "metadata": {
        "id": "gU8UZ91QPARo"
      },
      "source": [
        "2.In a list of values stored in a variable called spam, how would you assign the value &#39;hello&#39; as the\n",
        "third value? (Assume [2, 4, 6, 8, 10] are in spam.)"
      ]
    },
    {
      "cell_type": "code",
      "metadata": {
        "colab": {
          "base_uri": "https://localhost:8080/"
        },
        "id": "-RfkjexEOs-d",
        "outputId": "37a75728-4d31-4872-ea6f-4a874ba98232"
      },
      "source": [
        "spam=[2,4,6,8,10]\n",
        "spam.insert(2,'Hello')\n",
        "print(spam)"
      ],
      "execution_count": null,
      "outputs": [
        {
          "output_type": "stream",
          "text": [
            "[2, 4, 'Hello', 6, 8, 10]\n"
          ],
          "name": "stdout"
        }
      ]
    },
    {
      "cell_type": "markdown",
      "metadata": {
        "id": "2TDs9HIUPhre"
      },
      "source": [
        "3.What is the value of spam[int(int(&#39;3&#39; * 2) / 11)]?"
      ]
    },
    {
      "cell_type": "code",
      "metadata": {
        "colab": {
          "base_uri": "https://localhost:8080/",
          "height": 35
        },
        "id": "Y9egokNGP5_s",
        "outputId": "cefde27d-7550-4032-eabe-76fc947ec9a6"
      },
      "source": [
        "spam=['a','b','c','d']\n",
        "spam[int(int('3'*2)/11)]"
      ],
      "execution_count": null,
      "outputs": [
        {
          "output_type": "execute_result",
          "data": {
            "application/vnd.google.colaboratory.intrinsic+json": {
              "type": "string"
            },
            "text/plain": [
              "'d'"
            ]
          },
          "metadata": {
            "tags": []
          },
          "execution_count": 2
        }
      ]
    },
    {
      "cell_type": "markdown",
      "metadata": {
        "id": "RgGSo1TpQUsB"
      },
      "source": [
        "4.What is the value of spam[-1]?"
      ]
    },
    {
      "cell_type": "code",
      "metadata": {
        "colab": {
          "base_uri": "https://localhost:8080/",
          "height": 35
        },
        "id": "XFHIKpJdQZZX",
        "outputId": "f72bde6f-3c68-44bd-8e7e-9e5e194e8af1"
      },
      "source": [
        "spam=['a','b','c','d']\n",
        "spam[-1]#count from right side"
      ],
      "execution_count": null,
      "outputs": [
        {
          "output_type": "execute_result",
          "data": {
            "application/vnd.google.colaboratory.intrinsic+json": {
              "type": "string"
            },
            "text/plain": [
              "'d'"
            ]
          },
          "metadata": {
            "tags": []
          },
          "execution_count": 4
        }
      ]
    },
    {
      "cell_type": "markdown",
      "metadata": {
        "id": "x2IjL828RQg-"
      },
      "source": [
        "5.What is the value of spam[:2]?"
      ]
    },
    {
      "cell_type": "code",
      "metadata": {
        "colab": {
          "base_uri": "https://localhost:8080/"
        },
        "id": "XZYYmXj2RVEY",
        "outputId": "66af32c8-1287-4b94-cbe3-f462f24d3c05"
      },
      "source": [
        "spam=['a','b','c','d']\n",
        "spam[:2]"
      ],
      "execution_count": null,
      "outputs": [
        {
          "output_type": "execute_result",
          "data": {
            "text/plain": [
              "['a', 'b']"
            ]
          },
          "metadata": {
            "tags": []
          },
          "execution_count": 8
        }
      ]
    },
    {
      "cell_type": "markdown",
      "metadata": {
        "id": "ebCvcfw9RvkH"
      },
      "source": [
        "6.What is the value of bacon.index(&#39;cat&#39;)?"
      ]
    },
    {
      "cell_type": "code",
      "metadata": {
        "colab": {
          "base_uri": "https://localhost:8080/"
        },
        "id": "ccJeVJADSVcw",
        "outputId": "34d0d1be-221e-4fab-bb87-329121ecd628"
      },
      "source": [
        "bacon=[3.14,'cat',11,'cat',True]\n",
        "bacon.index('cat')#tell the index of cat"
      ],
      "execution_count": null,
      "outputs": [
        {
          "output_type": "execute_result",
          "data": {
            "text/plain": [
              "1"
            ]
          },
          "metadata": {
            "tags": []
          },
          "execution_count": 9
        }
      ]
    },
    {
      "cell_type": "markdown",
      "metadata": {
        "id": "znqNU5atSraJ"
      },
      "source": [
        "7.How does bacon.append(99) change the look of the list value in bacon?"
      ]
    },
    {
      "cell_type": "code",
      "metadata": {
        "colab": {
          "base_uri": "https://localhost:8080/"
        },
        "id": "LVEM48HHSxWa",
        "outputId": "70222806-84cc-4d63-c253-3adad8f89d84"
      },
      "source": [
        "bacon=[3.14,'cat',11,'cat',True]\n",
        "bacon.append(99)#it will add 99 at the end of the list\n",
        "print(bacon)"
      ],
      "execution_count": null,
      "outputs": [
        {
          "output_type": "stream",
          "text": [
            "[3.14, 'cat', 11, 'cat', True, 99]\n"
          ],
          "name": "stdout"
        }
      ]
    },
    {
      "cell_type": "markdown",
      "metadata": {
        "id": "2MGB-yP3TJZj"
      },
      "source": [
        "8.How does bacon.remove(&#39;cat&#39;) change the look of the list in bacon?"
      ]
    },
    {
      "cell_type": "code",
      "metadata": {
        "colab": {
          "base_uri": "https://localhost:8080/"
        },
        "id": "5-GZ7J1nTNXO",
        "outputId": "2b836fa7-de76-47dc-9025-6c9fe55008d9"
      },
      "source": [
        "bacon=[3.14,'cat',11,'cat',True]\n",
        "bacon.remove('cat')\n",
        "print(bacon)"
      ],
      "execution_count": null,
      "outputs": [
        {
          "output_type": "stream",
          "text": [
            "[3.14, 11, 'cat', True]\n"
          ],
          "name": "stdout"
        }
      ]
    },
    {
      "cell_type": "markdown",
      "metadata": {
        "id": "9PqTUXGKibbN"
      },
      "source": [
        "9.What are the list concatenation and list replication operators?"
      ]
    },
    {
      "cell_type": "code",
      "metadata": {
        "id": "4Y_hsKX-WqlH",
        "colab": {
          "base_uri": "https://localhost:8080/"
        },
        "outputId": "1a7be263-8943-48d8-ad3f-0b21b782d10f"
      },
      "source": [
        "# list concatenation means add two different list in a single list\n",
        "\n",
        "list=[1,2,3,4,5]\n",
        "list2=[6,7,8,9,10]\n",
        "for i in (list2):\n",
        "  list.append(i)\n",
        "print(list)\n",
        "\n",
        "# list replication means coppy a list\n",
        "list1=[1,2,3,4,5,6]\n",
        "list2=list1.copy()\n",
        "print(list2)"
      ],
      "execution_count": null,
      "outputs": [
        {
          "output_type": "stream",
          "text": [
            "[1, 2, 3, 4, 5, 6, 7, 8, 9, 10]\n",
            "[1, 2, 3, 4, 5, 6]\n"
          ],
          "name": "stdout"
        }
      ]
    },
    {
      "cell_type": "markdown",
      "metadata": {
        "id": "e2Oohn1hneN2"
      },
      "source": [
        "10.What is difference between the list methods append() and insert()?"
      ]
    },
    {
      "cell_type": "code",
      "metadata": {
        "colab": {
          "base_uri": "https://localhost:8080/"
        },
        "id": "E_i9ubvWnk79",
        "outputId": "2496fac8-8597-44c5-8e80-576fb436a527"
      },
      "source": [
        "# appends() is used to add element in the list at the end.insert() is also used to add element in the list and also add element in any index\n",
        "\n",
        "list=['a','b','c']\n",
        "list.append('d')\n",
        "print(list)\n",
        "\n",
        "# insert\n",
        "list=['a','b','c','d','e']\n",
        "list.insert(2,'f')\n",
        "print(list)"
      ],
      "execution_count": null,
      "outputs": [
        {
          "output_type": "stream",
          "text": [
            "['a', 'b', 'c', 'd']\n",
            "['a', 'b', 'f', 'c', 'd', 'e']\n"
          ],
          "name": "stdout"
        }
      ]
    },
    {
      "cell_type": "markdown",
      "metadata": {
        "id": "Kmapta930u3l"
      },
      "source": [
        "11.What are the two methods for removing items from a list?"
      ]
    },
    {
      "cell_type": "code",
      "metadata": {
        "id": "ZcbsRtuO01Vz",
        "colab": {
          "base_uri": "https://localhost:8080/"
        },
        "outputId": "bd9e33db-6b11-4f4a-8b74-2ac72fe48ed7"
      },
      "source": [
        "# remove and pop are used to remove items from the list\n",
        "\n",
        "list=[1,2,3,4,5,6,7,8,9]\n",
        "list.remove(5)\n",
        "print(list)\n",
        "\n",
        "# pop\n",
        "\n",
        "list1=[1,2,3,4,5,6,7,8,9]\n",
        "list1.pop(5)\n",
        "print(list1)\n"
      ],
      "execution_count": 9,
      "outputs": [
        {
          "output_type": "stream",
          "text": [
            "[1, 2, 3, 4, 6, 7, 8, 9]\n",
            "[1, 2, 3, 4, 5, 7, 8, 9]\n"
          ],
          "name": "stdout"
        }
      ]
    },
    {
      "cell_type": "markdown",
      "metadata": {
        "id": "QsbFjRSVlyTm"
      },
      "source": [
        "12.Describe how list values and string values are identical."
      ]
    },
    {
      "cell_type": "markdown",
      "metadata": {
        "id": "dOL1PgAcpUMg"
      },
      "source": [
        "List can contain any type of datatype values integer or string , values in the string is denoted by the index number thats why list values and string values are identical"
      ]
    },
    {
      "cell_type": "markdown",
      "metadata": {
        "id": "3T7Tbbj6pmYj"
      },
      "source": [
        "13.What is the difference between tuples and lists?"
      ]
    },
    {
      "cell_type": "markdown",
      "metadata": {
        "id": "rlbE5KlvpwhI"
      },
      "source": [
        "list are *mutable* .list denoted by []\n",
        "\n",
        "tuples are immutable.touple denoted by()"
      ]
    },
    {
      "cell_type": "markdown",
      "metadata": {
        "id": "rHnZCnm0s2Zp"
      },
      "source": [
        "14.How do you type a tuple value that only contains the integer 42?"
      ]
    },
    {
      "cell_type": "code",
      "metadata": {
        "colab": {
          "base_uri": "https://localhost:8080/"
        },
        "id": "4A3wdst0s-fw",
        "outputId": "3ccbe4e8-5144-4b9c-b141-a92a82218e1f"
      },
      "source": [
        "tp = (42)\n",
        "tp"
      ],
      "execution_count": 10,
      "outputs": [
        {
          "output_type": "execute_result",
          "data": {
            "text/plain": [
              "42"
            ]
          },
          "metadata": {
            "tags": []
          },
          "execution_count": 10
        }
      ]
    },
    {
      "cell_type": "markdown",
      "metadata": {
        "id": "PIR9WamZu984"
      },
      "source": [
        "15.How do you get a list value&#39;s tuple form? How do you get a tuple value&#39;s list form?"
      ]
    },
    {
      "cell_type": "code",
      "metadata": {
        "colab": {
          "base_uri": "https://localhost:8080/"
        },
        "id": "LIFLYPx-B1fH",
        "outputId": "65e8bc4c-5c9d-4992-bab1-b8d92a918fde"
      },
      "source": [
        "l=[\"a\",\"b\",\"c\"]\n",
        "l_tu=tuple(l)\n",
        "print(l_tu)\n",
        "\n"
      ],
      "execution_count": 29,
      "outputs": [
        {
          "output_type": "stream",
          "text": [
            "('a', 'b', 'c')\n"
          ],
          "name": "stdout"
        }
      ]
    },
    {
      "cell_type": "markdown",
      "metadata": {
        "id": "6xtHwsqoEBFV"
      },
      "source": [
        "16.Variables that &quot;contain&quot; list values are not necessarily lists themselves. Instead, what do they\n",
        "contain?"
      ]
    },
    {
      "cell_type": "markdown",
      "metadata": {
        "id": "NsyGcuxTESEk"
      },
      "source": [
        "list contain different datatype\n",
        "\n",
        "list=[1,2,3,\"a\",\"b\"]"
      ]
    },
    {
      "cell_type": "markdown",
      "metadata": {
        "id": "5D2irchPEkBl"
      },
      "source": [
        "17.How do you distinguish between copy.copy() and copy.deepcopy()?"
      ]
    },
    {
      "cell_type": "code",
      "metadata": {
        "colab": {
          "base_uri": "https://localhost:8080/"
        },
        "id": "ZXQUanvPFnwl",
        "outputId": "d3b40fc4-370d-46ed-aca6-633e293b3c54"
      },
      "source": [
        "import copy\n",
        "\n",
        "list1 = [1,2,3]\n",
        "list2 = copy.copy(list1) # list at other memory location\n",
        "list2[0] =  20\n",
        "print(list1 , list2)\n",
        "\n",
        "list3 = [[1,2,3] , [4,5,6] , [7,8,9]]\n",
        "list4 =  copy.deepcopy(list3)\n",
        "list4[1][0] = 10000\n",
        "print(list3 , list4)"
      ],
      "execution_count": 26,
      "outputs": [
        {
          "output_type": "stream",
          "text": [
            "[1, 2, 3] [20, 2, 3]\n",
            "[[1, 2, 3], [4, 5, 6], [7, 8, 9]] [[1, 2, 3], [10000, 5, 6], [7, 8, 9]]\n"
          ],
          "name": "stdout"
        }
      ]
    }
  ]
}