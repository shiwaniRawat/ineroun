{
  "nbformat": 4,
  "nbformat_minor": 0,
  "metadata": {
    "colab": {
      "name": "Assignment1.ipynb",
      "provenance": [],
      "authorship_tag": "ABX9TyMtSvmq7CEqkjDex1cFOrwS",
      "include_colab_link": true
    },
    "kernelspec": {
      "name": "python3",
      "display_name": "Python 3"
    }
  },
  "cells": [
    {
      "cell_type": "markdown",
      "metadata": {
        "id": "view-in-github",
        "colab_type": "text"
      },
      "source": [
        "<a href=\"https://colab.research.google.com/github/shiwaniRawat/ineroun/blob/main/Assignment1.ipynb\" target=\"_parent\"><img src=\"https://colab.research.google.com/assets/colab-badge.svg\" alt=\"Open In Colab\"/></a>"
      ]
    },
    {
      "cell_type": "markdown",
      "metadata": {
        "id": "LUQkL5n0Sfxh"
      },
      "source": [
        "Q1). In the below elements which of them are values or an expression? eg:- values can be\n",
        "integer or string and expressions will be mathematical operators. "
      ]
    },
    {
      "cell_type": "markdown",
      "metadata": {
        "id": "mhDRiYR1SurN"
      },
      "source": [
        "1) * is a operator.\n",
        "\n",
        "2)\"hello\" is a value.\n",
        "\n",
        "3)-87.8 is a  value.\n",
        "\n",
        "4)- is a operator.\n",
        "\n",
        "5)/ is a operator.\n",
        "\n",
        "6)+ is a operator.\n",
        "\n",
        "7)6 is a value."
      ]
    },
    {
      "cell_type": "markdown",
      "metadata": {
        "id": "wk-tM15yKRVU"
      },
      "source": [
        " Q2). ***What is the difference between string and variable?***"
      ]
    },
    {
      "cell_type": "markdown",
      "metadata": {
        "id": "KZvY9rKriFJR"
      },
      "source": [
        "\n",
        "\n",
        " string is a value that is represent text.It is a data type.\n",
        "\n",
        " variable is a name that can refer to any value.\n",
        "\n",
        " e.g- \"hello\" is a string to store a string in a variable is needed gor that \n",
        "\n",
        " mess='hello' in mess hello is stored.\n",
        " "
      ]
    },
    {
      "cell_type": "markdown",
      "metadata": {
        "id": "rWyKPjybKZp8"
      },
      "source": [
        "Q3).** Describe three different data types.**"
      ]
    },
    {
      "cell_type": "markdown",
      "metadata": {
        "id": "Vgvzm1I1Kcsl"
      },
      "source": [
        "python have built in data type-:\n",
        "\n",
        "Numeric types:int,float,complex\n",
        "\n",
        "Boolean types:bool\n",
        "\n",
        "Sequence tpes:list,tuple\n",
        "\n",
        "Set types:set\n",
        "\n",
        "\n"
      ]
    },
    {
      "cell_type": "markdown",
      "metadata": {
        "id": "vapf8wMWIvC1"
      },
      "source": [
        "Q4). **What is an expression made up of? What do all expressions do?**"
      ]
    },
    {
      "cell_type": "markdown",
      "metadata": {
        "id": "e6efNcFxIyr7"
      },
      "source": [
        "Combination of values,variables and operators is an expression .\n",
        "\n",
        "A value and variable by itself considered an expression.\n",
        "\n",
        "\n",
        "eg: m='hello' its a expression as it does not do anything"
      ]
    },
    {
      "cell_type": "markdown",
      "metadata": {
        "id": "KgyVlT4mJ4fl"
      },
      "source": [
        "Q5).**This assignment statements, like spam = 10. What is the difference between an expression and a statement?**"
      ]
    },
    {
      "cell_type": "markdown",
      "metadata": {
        "id": "AMv5Jo2LGi6j"
      },
      "source": [
        "10 is a expression spam is a variable that store the value 10."
      ]
    },
    {
      "cell_type": "markdown",
      "metadata": {
        "id": "neEPEmP4GtrL"
      },
      "source": [
        "Q6). After running the following code, what does the variable bacon contain?"
      ]
    },
    {
      "cell_type": "code",
      "metadata": {
        "colab": {
          "base_uri": "https://localhost:8080/"
        },
        "id": "WTUNcuHRG7NE",
        "outputId": "b58bfce5-0b4a-4d63-c173-afb3cabad8e3"
      },
      "source": [
        "bacon = 22\n",
        "bacon + 1\n",
        "print(bacon)"
      ],
      "execution_count": null,
      "outputs": [
        {
          "output_type": "stream",
          "text": [
            "22\n"
          ],
          "name": "stdout"
        }
      ]
    },
    {
      "cell_type": "markdown",
      "metadata": {
        "id": "xMvCtSdnHmlo"
      },
      "source": [
        "Q7). What should the values of the following two terms be?\n",
        "\n",
        "'spam' + 'spamspam'\n",
        "\n",
        "'spam' * 3\n"
      ]
    },
    {
      "cell_type": "code",
      "metadata": {
        "id": "7vCMx4gCSSEr",
        "colab": {
          "base_uri": "https://localhost:8080/"
        },
        "outputId": "dfc2cff4-2681-40a3-bf8e-44693cccd334"
      },
      "source": [
        "print('spam'+'spamspam')\n",
        "print('spam'*3)"
      ],
      "execution_count": null,
      "outputs": [
        {
          "output_type": "stream",
          "text": [
            "spamspamspam\n",
            "spamspamspam\n"
          ],
          "name": "stdout"
        }
      ]
    },
    {
      "cell_type": "markdown",
      "metadata": {
        "id": "9900zSwFHx6h"
      },
      "source": [
        "Q8). Why is eggs a valid variable name while 100 is invalid?"
      ]
    },
    {
      "cell_type": "markdown",
      "metadata": {
        "id": "lCbC1vBbJvsv"
      },
      "source": [
        "According to the Rules for Python variables:\n",
        "\n",
        "A variable can not start with a number so 100 is invalid name as a variable.\n",
        "\n",
        "egg is a valid variable because according to the rule A variable name must start with a letter or the underscore character."
      ]
    },
    {
      "cell_type": "markdown",
      "metadata": {
        "id": "iYzCLyPoMTn1"
      },
      "source": [
        "Q9). What three functions can be used to get the integer, floating-point number, or string version of a value?"
      ]
    },
    {
      "cell_type": "code",
      "metadata": {
        "colab": {
          "base_uri": "https://localhost:8080/"
        },
        "id": "DXJomqR3PYhe",
        "outputId": "d97a7b01-fe02-436b-c9f6-58809cef76be"
      },
      "source": [
        "integer = int(200)\n",
        "print(integer)\n",
        "print(type(integer))\n",
        "floating_poin = float(\"632.0\")\n",
        "print(floating_poin)\n",
        "print(type(floating_poin))\n",
        "strings = str(\"1000\")\n",
        "print(strings)\n",
        "print(type(strings))"
      ],
      "execution_count": null,
      "outputs": [
        {
          "output_type": "stream",
          "text": [
            "200\n",
            "<class 'int'>\n",
            "632.0\n",
            "<class 'float'>\n",
            "1000\n",
            "<class 'str'>\n"
          ],
          "name": "stdout"
        }
      ]
    },
    {
      "cell_type": "markdown",
      "metadata": {
        "id": "EMOEh4J3QMoy"
      },
      "source": [
        "Q10). Why does this expression cause an error? How can you fix it?\n",
        "\n",
        "'I have eaten ' + 99 + ' burritos.'\n"
      ]
    },
    {
      "cell_type": "markdown",
      "metadata": {
        "id": "9gnSvgtlQeIW"
      },
      "source": [
        "In the given expression we are trying to concatenate a string with integer which cause an error .\n",
        "\n",
        " String can concatenate only with string not with integer. to fix it 99 should wrap into str function"
      ]
    }
  ]
}