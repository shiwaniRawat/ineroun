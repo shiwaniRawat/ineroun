{
  "nbformat": 4,
  "nbformat_minor": 0,
  "metadata": {
    "colab": {
      "name": "Assignment2.ipynb",
      "provenance": [],
      "authorship_tag": "ABX9TyMOW+dKViOpXJY250U/lnGt",
      "include_colab_link": true
    },
    "kernelspec": {
      "name": "python3",
      "display_name": "Python 3"
    },
    "language_info": {
      "name": "python"
    }
  },
  "cells": [
    {
      "cell_type": "markdown",
      "metadata": {
        "id": "view-in-github",
        "colab_type": "text"
      },
      "source": [
        "<a href=\"https://colab.research.google.com/github/shiwaniRawat/ineroun/blob/main/Assignment2.ipynb\" target=\"_parent\"><img src=\"https://colab.research.google.com/assets/colab-badge.svg\" alt=\"Open In Colab\"/></a>"
      ]
    },
    {
      "cell_type": "markdown",
      "metadata": {
        "id": "Hu4rVyitnQOo"
      },
      "source": [
        "Q1).What are the two values of the Boolean data type? How do you write them?"
      ]
    },
    {
      "cell_type": "code",
      "metadata": {
        "colab": {
          "base_uri": "https://localhost:8080/"
        },
        "id": "Z0AoZAgKnHdG",
        "outputId": "95efaaa0-e929-4a88-c7a7-0f4c3f30d61c"
      },
      "source": [
        "# Boolean data type have two values True and False also write as T and F\n",
        "a=10\n",
        "print(20<10)\n",
        "print(10>9)\n",
        "print(a==a)"
      ],
      "execution_count": null,
      "outputs": [
        {
          "output_type": "stream",
          "text": [
            "False\n",
            "True\n",
            "True\n"
          ],
          "name": "stdout"
        }
      ]
    },
    {
      "cell_type": "markdown",
      "metadata": {
        "id": "zJ1wM3hmqD8A"
      },
      "source": [
        "Q2). What are the three different types of Boolean operators?"
      ]
    },
    {
      "cell_type": "markdown",
      "metadata": {
        "id": "aFtu_oyH9UmM"
      },
      "source": [
        "And-:it return true if both statements are true.\n",
        "\n",
        "or-: it return true if one of the statement is true.\n",
        "\n",
        "not-:return true if result is false and false if result is true"
      ]
    },
    {
      "cell_type": "markdown",
      "metadata": {
        "id": "UimroJkC-hAt"
      },
      "source": [
        "Q3)Make a list of each Boolean operator&#39;s truth tables (i.e. every possible combination of *Boolean*\n",
        "values for the operator and what it evaluate )."
      ]
    },
    {
      "cell_type": "markdown",
      "metadata": {
        "id": "SQEGmp2uBVa1"
      },
      "source": [
        "AND-:\n",
        "\n",
        "A  B  RESULT\n",
        "\n",
        "0  0   0\n",
        "\n",
        "0  1   0\n",
        "\n",
        "1  0   0\n",
        "\n",
        "1  1   1\n",
        "\n",
        "OR-:\n",
        "\n",
        "A  B  RESULT\n",
        "\n",
        "0  0   0\n",
        "\n",
        "0  1   1\n",
        "\n",
        "1  0   1\n",
        "\n",
        "1  1   1\n",
        "\n",
        "NOT-:\n",
        "\n",
        "A  B  RESULT\n",
        "\n",
        "0  0   1\n",
        "\n",
        "1  1   0\n"
      ]
    },
    {
      "cell_type": "markdown",
      "metadata": {
        "id": "dDbSSmvUCadb"
      },
      "source": [
        "Q4). What are the values of the following expressions?"
      ]
    },
    {
      "cell_type": "code",
      "metadata": {
        "colab": {
          "base_uri": "https://localhost:8080/"
        },
        "id": "EmVUFM4f-lFR",
        "outputId": "3d6cabdd-7be3-419d-b394-b62f686b91d5"
      },
      "source": [
        "\n",
        "print((5>4) and (3==5))\n",
        "print(not(5>4))\n",
        "print((5>4) or (3==5))\n",
        "print(not(5>4) or (3==5))\n",
        "print((True and True) and (True==False))\n",
        "print((not(False))or(not(True)))"
      ],
      "execution_count": null,
      "outputs": [
        {
          "output_type": "stream",
          "text": [
            "False\n",
            "False\n",
            "True\n",
            "False\n",
            "False\n",
            "True\n"
          ],
          "name": "stdout"
        }
      ]
    },
    {
      "cell_type": "markdown",
      "metadata": {
        "id": "dq8yi4oDCunJ"
      },
      "source": [
        "Q5). What are the six comparison operators?"
      ]
    },
    {
      "cell_type": "markdown",
      "metadata": {
        "id": "oK1m14giCz9P"
      },
      "source": [
        "== -: when the value of two operands are equal then condition become true.\n",
        "\n",
        "!= -: when the value of two operands are not equal then condition becomes true.\n",
        "\n",
        "> -: value of left operand is greater than the right operand,then the condition is true\n",
        "\n",
        "<-: value of left operand is less than the right operand, then the conditon is true\n",
        "\n",
        ">= value of left operand is greater than or equal to the right operand,then the condition is true\n",
        "\n",
        "<=  value of left operand is less than or equal to the right operand,then the condition is true\n",
        "\n"
      ]
    },
    {
      "cell_type": "markdown",
      "metadata": {
        "id": "iPlJ_pQyVKPW"
      },
      "source": [
        "Q6). How do you tell the difference between the equal to and assignment operators?Describe a\n",
        "condition and when you would use one."
      ]
    },
    {
      "cell_type": "code",
      "metadata": {
        "colab": {
          "base_uri": "https://localhost:8080/"
        },
        "id": "t8uPF3Aw9Tjl",
        "outputId": "77db8630-af01-4be3-d618-d9e5027042a4"
      },
      "source": [
        "# Equal to operators are used when the value of two operands are equal then condition become true.\n",
        "# assignment operators are used to assign a value to a variable\n",
        "\n",
        "a=10  #here we are assigning a value 10 to a\n",
        "b=20  #here we are assigning a value 20 to a\n",
        "if(a==b):\n",
        "  print(\"a is equal to b\")\n",
        "else:\n",
        "  print(\"a is not equal to b\")"
      ],
      "execution_count": null,
      "outputs": [
        {
          "output_type": "stream",
          "text": [
            "a is not equal to b\n"
          ],
          "name": "stdout"
        }
      ]
    },
    {
      "cell_type": "markdown",
      "metadata": {
        "id": "21DQE3nbXGUQ"
      },
      "source": [
        "Q7). Identify the three blocks in this code:"
      ]
    },
    {
      "cell_type": "code",
      "metadata": {
        "colab": {
          "base_uri": "https://localhost:8080/"
        },
        "id": "Cn_jnjJ_XNFt",
        "outputId": "9cc15b4d-a5e8-4dd2-ee74-1956a0da8241"
      },
      "source": [
        "spam = 0\n",
        "if spam == 10: #it will give as false because spam have 0 value .so it will not go to if condition\n",
        "    print('eggs')\n",
        "\n",
        "if(spam>5): #spam have 0 value and 0 is not greater to 5 so it will go to else block\n",
        "    print('bacon')\n",
        "else: \n",
        "    print('ham')\n",
        "    print('spam')\n",
        "    print('spam')"
      ],
      "execution_count": null,
      "outputs": [
        {
          "output_type": "stream",
          "text": [
            "ham\n",
            "spam\n",
            "spam\n"
          ],
          "name": "stdout"
        }
      ]
    },
    {
      "cell_type": "markdown",
      "metadata": {
        "id": "_2KJx3N2Y-Gd"
      },
      "source": [
        "Q8). Write code that prints Hello if 1 is stored in spam, prints Howdy if 2 is stored in spam, and prints\n",
        "Greetings! if anything else is stored in spam."
      ]
    },
    {
      "cell_type": "code",
      "metadata": {
        "colab": {
          "base_uri": "https://localhost:8080/"
        },
        "id": "w7cBd7Rja0R_",
        "outputId": "fa258790-7983-4e13-e510-e5383b7f99f5"
      },
      "source": [
        "choise=int(input(\"Enter your choise: \"))\n",
        "if choise==1:\n",
        "  print(\"Hello\")\n",
        "elif choise==2:\n",
        "  print(\"Howdy\")\n",
        "else:\n",
        "  print(\"Greetings!\")"
      ],
      "execution_count": null,
      "outputs": [
        {
          "output_type": "stream",
          "text": [
            "Enter your choise: 10\n",
            "Greetings!\n"
          ],
          "name": "stdout"
        }
      ]
    },
    {
      "cell_type": "markdown",
      "metadata": {
        "id": "GmTmpSwGboiR"
      },
      "source": [
        "Q9).If your programme is stuck in an endless loop, what keys you’ll press?"
      ]
    },
    {
      "cell_type": "markdown",
      "metadata": {
        "id": "UB0J0-rlbrwL"
      },
      "source": [
        "If programme is stuck in an endless loop then press ctrl+c key."
      ]
    },
    {
      "cell_type": "markdown",
      "metadata": {
        "id": "Z40i8KGpb7Lo"
      },
      "source": [
        "Q10). How can you tell the difference between break and continue?"
      ]
    },
    {
      "cell_type": "code",
      "metadata": {
        "id": "9wPjKxZ6b577",
        "colab": {
          "base_uri": "https://localhost:8080/"
        },
        "outputId": "e31c7658-11cc-42b5-a5fb-1d99f8e61908"
      },
      "source": [
        "# break terminates the execution of remaining iteration of the loop when the condition is true\n",
        "# terminates only the current iteration of the loop\n",
        "\n",
        "x=\"start\"\n",
        "for i in (x):\n",
        "  if i =='a':# break will terminates whene condition is true\n",
        "    break\n",
        "  print(i)\n",
        "\n",
        "print(\"**********************************************************\")\n",
        "\n",
        "x=\"start\"\n",
        "for i in (x):\n",
        "  if i =='a':# only terminate \"a\" rest will print\n",
        "    continue\n",
        "  print(i)"
      ],
      "execution_count": null,
      "outputs": [
        {
          "output_type": "stream",
          "text": [
            "s\n",
            "t\n",
            "**********************************************************\n",
            "s\n",
            "t\n",
            "r\n",
            "t\n"
          ],
          "name": "stdout"
        }
      ]
    },
    {
      "cell_type": "markdown",
      "metadata": {
        "id": "6S41zZsUcC1N"
      },
      "source": [
        "Q11). In a for loop, what is the difference between range(10), range(0, 10), and range(0, 10, 1)?"
      ]
    },
    {
      "cell_type": "markdown",
      "metadata": {
        "id": "qho9Y5UOZzGW"
      },
      "source": [
        "it will give the output from 0 to 9"
      ]
    },
    {
      "cell_type": "markdown",
      "metadata": {
        "id": "5-FH7K5WZ8aD"
      },
      "source": [
        "Q12). Write a short program that prints the numbers 1 to 10 using a for loop. Then write an equivalent\n",
        "program that prints the numbers 1 to 10 using a while loop."
      ]
    },
    {
      "cell_type": "code",
      "metadata": {
        "colab": {
          "base_uri": "https://localhost:8080/"
        },
        "id": "-y3-VygFhxkH",
        "outputId": "c6c06873-819d-4b4d-c19a-43603ccc6935"
      },
      "source": [
        "# for loop\n",
        "for i in range(1,11):\n",
        "  print(i)"
      ],
      "execution_count": null,
      "outputs": [
        {
          "output_type": "stream",
          "text": [
            "1\n",
            "2\n",
            "3\n",
            "4\n",
            "5\n",
            "6\n",
            "7\n",
            "8\n",
            "9\n",
            "10\n"
          ],
          "name": "stdout"
        }
      ]
    },
    {
      "cell_type": "code",
      "metadata": {
        "colab": {
          "base_uri": "https://localhost:8080/"
        },
        "id": "XxhKoLNPkg38",
        "outputId": "a9cff7ab-dbe9-4b51-a82e-500a882e07ca"
      },
      "source": [
        "# while\n",
        "num=1\n",
        "while(num<=10):\n",
        "  print(num)\n",
        "  num+=1"
      ],
      "execution_count": null,
      "outputs": [
        {
          "output_type": "stream",
          "text": [
            "1\n",
            "2\n",
            "3\n",
            "4\n",
            "5\n",
            "6\n",
            "7\n",
            "8\n",
            "9\n",
            "10\n"
          ],
          "name": "stdout"
        }
      ]
    },
    {
      "cell_type": "markdown",
      "metadata": {
        "id": "5NhW3p_plnLv"
      },
      "source": [
        "Q13). If you had a function named bacon() inside a module named spam, how would you call it after\n",
        "importing spam?"
      ]
    },
    {
      "cell_type": "markdown",
      "metadata": {
        "id": "jTVKWaXZnhHy"
      },
      "source": [
        "import spam\n",
        "spam.bacon()"
      ]
    }
  ]
}