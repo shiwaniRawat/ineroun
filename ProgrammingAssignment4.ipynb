{
  "nbformat": 4,
  "nbformat_minor": 0,
  "metadata": {
    "colab": {
      "name": "ProgrammingAssignment4.ipynb",
      "provenance": [],
      "authorship_tag": "ABX9TyMDaXDgWhiJa2y1EJiTMlwW",
      "include_colab_link": true
    },
    "kernelspec": {
      "name": "python3",
      "display_name": "Python 3"
    },
    "language_info": {
      "name": "python"
    }
  },
  "cells": [
    {
      "cell_type": "markdown",
      "metadata": {
        "id": "view-in-github",
        "colab_type": "text"
      },
      "source": [
        "<a href=\"https://colab.research.google.com/github/shiwaniRawat/ineroun/blob/main/ProgrammingAssignment4.ipynb\" target=\"_parent\"><img src=\"https://colab.research.google.com/assets/colab-badge.svg\" alt=\"Open In Colab\"/></a>"
      ]
    },
    {
      "cell_type": "code",
      "metadata": {
        "colab": {
          "base_uri": "https://localhost:8080/"
        },
        "id": "6siZdpHaVnut",
        "outputId": "1bb15f15-a42a-4f9c-fb78-33e22bcf033c"
      },
      "source": [
        "#Q1\n",
        "num=int(input(\"Enter the number: \"))\n",
        "factor=1\n",
        "if num<0:\n",
        "  print(\"-ve number no factor\")\n",
        "elif num==0:\n",
        "  print(\"0 factor is 1\")\n",
        "else:\n",
        "  for i in range(1,num+1):\n",
        "    factor=factor*i\n",
        "  print(factor)"
      ],
      "execution_count": null,
      "outputs": [
        {
          "output_type": "stream",
          "text": [
            "Enter the number: -1\n",
            "-ve number no factor\n"
          ],
          "name": "stdout"
        }
      ]
    },
    {
      "cell_type": "code",
      "metadata": {
        "colab": {
          "base_uri": "https://localhost:8080/"
        },
        "id": "HlvsXujVZWi4",
        "outputId": "214dc79a-8224-4e7c-8371-ee1d56c88461"
      },
      "source": [
        "# Q2\n",
        "number=int(input(\"Enter the number: \"))\n",
        "for i in range(1,10+1):\n",
        "  print(number,'*',i,'=',number*i)"
      ],
      "execution_count": null,
      "outputs": [
        {
          "output_type": "stream",
          "text": [
            "Enter the number: 2\n",
            "2 * 1 = 2\n",
            "2 * 2 = 4\n",
            "2 * 3 = 6\n",
            "2 * 4 = 8\n",
            "2 * 5 = 10\n",
            "2 * 6 = 12\n",
            "2 * 7 = 14\n",
            "2 * 8 = 16\n",
            "2 * 9 = 18\n",
            "2 * 10 = 20\n"
          ],
          "name": "stdout"
        }
      ]
    },
    {
      "cell_type": "code",
      "metadata": {
        "colab": {
          "base_uri": "https://localhost:8080/"
        },
        "id": "m0iGUw3ufdH3",
        "outputId": "de9a3308-9bd0-4d6a-c989-874baeb3c54f"
      },
      "source": [
        "# Q3\n",
        "num=int(input(\"Enter the number: \"))\n",
        "a=0\n",
        "b=1\n",
        "sum=0\n",
        "count=1\n",
        "print(\"fibonacci series: \")\n",
        "while(count<=num):\n",
        "  print(sum,end=\" \")\n",
        "  count+=1\n",
        "  a=b\n",
        "  b=sum\n",
        "  sum=a+b\n",
        "  "
      ],
      "execution_count": null,
      "outputs": [
        {
          "output_type": "stream",
          "text": [
            "Enter the number: 9\n",
            "fibonacci series: \n",
            "0 1 1 2 3 5 8 13 21 "
          ],
          "name": "stdout"
        }
      ]
    },
    {
      "cell_type": "code",
      "metadata": {
        "colab": {
          "base_uri": "https://localhost:8080/"
        },
        "id": "lem1Lk3Pfph0",
        "outputId": "4dd5d77b-3ee1-49e5-c1c7-c6eac9400e9c"
      },
      "source": [
        "# Q4\n",
        "number=int(input(\"Enter the number: \"))\n",
        "s=0\n",
        "temp=number\n",
        "while(temp>0):\n",
        "  n=temp%10\n",
        "  s +=n **3\n",
        "  temp //=10\n",
        "if number==s:\n",
        "  print(\"number is armstrong number\")\n",
        "else :\n",
        "  print(\"not a armstrong number\")"
      ],
      "execution_count": 7,
      "outputs": [
        {
          "output_type": "stream",
          "text": [
            "Enter the number: 999\n",
            "not a armstrong number\n"
          ],
          "name": "stdout"
        }
      ]
    },
    {
      "cell_type": "code",
      "metadata": {
        "colab": {
          "base_uri": "https://localhost:8080/"
        },
        "id": "VNalcJ5ChJO9",
        "outputId": "62c0aae2-1d1c-4386-ea85-0d8ef3534abd"
      },
      "source": [
        "# Q5\n",
        "first_num=int(input(\"Enter first number: \"))\n",
        "last_num=int(input(\"Enter last number: \"))\n",
        "for num in range(first_num,last_num+1):\n",
        "  s=0\n",
        "  temp=num\n",
        "  while(temp>0):\n",
        "    n=temp%10\n",
        "    s +=n **3\n",
        "    temp //=10\n",
        "    if num==s:\n",
        "      print(num)\n",
        "  "
      ],
      "execution_count": 4,
      "outputs": [
        {
          "output_type": "stream",
          "text": [
            "Enter first number: 153\n",
            "Enter last number: 425\n",
            "153\n",
            "216\n",
            "370\n",
            "371\n",
            "407\n"
          ],
          "name": "stdout"
        }
      ]
    },
    {
      "cell_type": "code",
      "metadata": {
        "colab": {
          "base_uri": "https://localhost:8080/"
        },
        "id": "qnJWZ_u0UUbg",
        "outputId": "f906acae-2040-49f3-c621-f01cf5e04144"
      },
      "source": [
        "# Q6\n",
        "number=int(input(\"Enter the number:\"))\n",
        "if number<0:\n",
        "  print(\"number u enter is -ve\")\n",
        "else:\n",
        "  sum=0\n",
        "  while(number>0):\n",
        "    sum+=number\n",
        "    number-=1\n",
        "  print(sum)"
      ],
      "execution_count": 7,
      "outputs": [
        {
          "output_type": "stream",
          "text": [
            "Enter the number16\n",
            "136\n"
          ],
          "name": "stdout"
        }
      ]
    }
  ]
}