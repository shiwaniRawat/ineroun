{
  "nbformat": 4,
  "nbformat_minor": 0,
  "metadata": {
    "colab": {
      "name": "ProgrammingAssignment13.ipynb",
      "provenance": [],
      "authorship_tag": "ABX9TyOl0+qeW6nVGOX8DHz47y8R",
      "include_colab_link": true
    },
    "kernelspec": {
      "name": "python3",
      "display_name": "Python 3"
    },
    "language_info": {
      "name": "python"
    }
  },
  "cells": [
    {
      "cell_type": "markdown",
      "metadata": {
        "id": "view-in-github",
        "colab_type": "text"
      },
      "source": [
        "<a href=\"https://colab.research.google.com/github/shiwaniRawat/ineroun/blob/main/ProgrammingAssignment13.ipynb\" target=\"_parent\"><img src=\"https://colab.research.google.com/assets/colab-badge.svg\" alt=\"Open In Colab\"/></a>"
      ]
    },
    {
      "cell_type": "code",
      "metadata": {
        "id": "HBR1B55489us",
        "colab": {
          "base_uri": "https://localhost:8080/"
        },
        "outputId": "0b538d1c-fa83-45cb-d0d8-5890db1b0d86"
      },
      "source": [
        "# Q1\n",
        "import math\n",
        "c=50\n",
        "h=30\n",
        "d = input(\"Enter comma seperated value: \")\n",
        "list = d.split(\",\")\n",
        "for i in list:\n",
        "  store = int(i)\n",
        "  res = math.sqrt((2*c*store)/h)\n",
        "  print(int(res) , end=\" \")"
      ],
      "execution_count": null,
      "outputs": [
        {
          "output_type": "stream",
          "text": [
            "Enter comma seperated value: 5,20,50\n",
            "4 8 12 "
          ],
          "name": "stdout"
        }
      ]
    },
    {
      "cell_type": "code",
      "metadata": {
        "colab": {
          "base_uri": "https://localhost:8080/"
        },
        "id": "0iB8TvyWsEeX",
        "outputId": "93369653-a754-4c4f-ec97-e0744082dafc"
      },
      "source": [
        "#Q2\n",
        "row = int(input(\"Enter row value: \"))\n",
        "column = int(input(\"Enter column value: \"))\n",
        "for i in range(row):\n",
        "    for j in range(column):\n",
        "        print(i*j , end=\" \")\n",
        "    print()"
      ],
      "execution_count": null,
      "outputs": [
        {
          "output_type": "stream",
          "text": [
            "Enter row value: 3\n",
            "Enter column value: 5\n",
            "0 0 0 0 0 \n",
            "0 1 2 3 4 \n",
            "0 2 4 6 8 \n"
          ],
          "name": "stdout"
        }
      ]
    },
    {
      "cell_type": "code",
      "metadata": {
        "colab": {
          "base_uri": "https://localhost:8080/"
        },
        "id": "Hy7XgokjsuQ9",
        "outputId": "f2c51821-6de3-4b11-a784-cf58a67d5b5f"
      },
      "source": [
        "# Q3\n",
        "word = input(\"Enter comma seperated string: \")\n",
        "list =  word.split(\",\")\n",
        "list.sort()\n",
        "for i in list:\n",
        "    print(i,end=\" \")"
      ],
      "execution_count": null,
      "outputs": [
        {
          "output_type": "stream",
          "text": [
            "Enter comma seperated string: without,hello,bag,world\n",
            "bag hello without world "
          ],
          "name": "stdout"
        }
      ]
    },
    {
      "cell_type": "code",
      "metadata": {
        "colab": {
          "base_uri": "https://localhost:8080/"
        },
        "id": "iETtfWnX4L-Z",
        "outputId": "cedcee5b-1cec-4255-c20c-f79cd45257ee"
      },
      "source": [
        "# Q4\n",
        "word = input(\"Enter string: \")\n",
        "word_splited = word.split(' ')\n",
        "\n",
        "word_list = []\n",
        "for i in word_splited:\n",
        "    if i not in word_list:\n",
        "        word_list.append(i)\n",
        "    else:\n",
        "        continue\n",
        "word_list.sort()\n",
        "print((' ').join(word_list))"
      ],
      "execution_count": null,
      "outputs": [
        {
          "output_type": "stream",
          "text": [
            "Enter string:  hello world and practice makes perfect and hello world again\n",
            " again and hello makes perfect practice world\n"
          ],
          "name": "stdout"
        }
      ]
    },
    {
      "cell_type": "code",
      "metadata": {
        "id": "TtsmvexZ6Uf_"
      },
      "source": [
        "# Q5\n",
        "word = input(\"Enter space seperated string: \")\n",
        "letter=0\n",
        "digit = 0\n",
        "for i in range(len(word)):\n",
        "    if(word[i].isalpha()):\n",
        "        letter+=1\n",
        "    elif(word[i].isdigit()):\n",
        "        digit+=1\n",
        "print(\"Letter:{}\\nDigit:{}\".format(letter,digit))"
      ],
      "execution_count": null,
      "outputs": []
    },
    {
      "cell_type": "code",
      "metadata": {
        "id": "3cLoFt-U85KM",
        "colab": {
          "base_uri": "https://localhost:8080/"
        },
        "outputId": "d88adc61-f05e-48f2-9f56-5d64d3e97518"
      },
      "source": [
        "# Q6\n",
        "word = input(\"enter the word: \")\n",
        "list1 = word.split(\",\")\n",
        "for i in range(len(list1)):\n",
        "        lowerletter, upperletter, specialchar, degit = 0, 0, 0, 0\n",
        "        if(len(list1[i])>=6 and len(list1[i])<=12):\n",
        "            for j in list1[i]:            \n",
        "                if(j.islower()):\n",
        "                    lowerletter+=1\n",
        "                if (j.isupper()):\n",
        "                    upperletter+=1            \n",
        "                if (j.isdigit()):\n",
        "                    degit+=1            \n",
        "                if(j=='@'or j=='$' or j=='_'):\n",
        "                    specialchar+=1    \n",
        "            if(lowerletter>=1 and upperletter>=1 and degit>=1 and specialchar>=1):\n",
        "                print(list1[i])"
      ],
      "execution_count": 6,
      "outputs": [
        {
          "output_type": "stream",
          "text": [
            "enter the word: ABd1234@1,a F1#,2w3E*,2We3345\n",
            "ABd1234@1\n"
          ],
          "name": "stdout"
        }
      ]
    }
  ]
}