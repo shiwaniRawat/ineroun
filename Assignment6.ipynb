{
  "nbformat": 4,
  "nbformat_minor": 0,
  "metadata": {
    "colab": {
      "name": "Assignment6.ipynb",
      "provenance": [],
      "authorship_tag": "ABX9TyO/ReqBOZkj4t7/5Boe1ZXj",
      "include_colab_link": true
    },
    "kernelspec": {
      "name": "python3",
      "display_name": "Python 3"
    },
    "language_info": {
      "name": "python"
    }
  },
  "cells": [
    {
      "cell_type": "markdown",
      "metadata": {
        "id": "view-in-github",
        "colab_type": "text"
      },
      "source": [
        "<a href=\"https://colab.research.google.com/github/shiwaniRawat/ineroun/blob/main/Assignment6.ipynb\" target=\"_parent\"><img src=\"https://colab.research.google.com/assets/colab-badge.svg\" alt=\"Open In Colab\"/></a>"
      ]
    },
    {
      "cell_type": "markdown",
      "metadata": {
        "id": "GXMJv23EowEI"
      },
      "source": [
        "1.What are escape characters, and how do you use them?"
      ]
    },
    {
      "cell_type": "markdown",
      "metadata": {
        "id": "I2q3Ql3XpQq6"
      },
      "source": [
        "An escape character is a backslash with a character we want to insert. illegal string can be inserted with help of escape characters.\n",
        "\n",
        "\\t-:tab\n",
        "\n",
        "\\n-:new line\n",
        "\n",
        "\\f-:form feed\n",
        "\n",
        "\\b-:backspace\n"
      ]
    },
    {
      "cell_type": "markdown",
      "metadata": {
        "id": "siVMRFnNDic0"
      },
      "source": [
        "2.What do the escape characters n and t stand for?"
      ]
    },
    {
      "cell_type": "code",
      "metadata": {
        "id": "qwSzHXRKkIa3",
        "colab": {
          "base_uri": "https://localhost:8080/"
        },
        "outputId": "d5a4127e-5474-4887-9e5d-c84c0922dd99"
      },
      "source": [
        "# \\n stand for new line and \\t stand for tab\n",
        "\n",
        "txt = \"Hello\\nteam\"\n",
        "print(txt)\n",
        "\n",
        "txt = \"Hello\\tteam\"\n",
        "print(txt)"
      ],
      "execution_count": 6,
      "outputs": [
        {
          "output_type": "stream",
          "text": [
            "Hello\n",
            "team\n",
            "Hello\tteam\n"
          ],
          "name": "stdout"
        }
      ]
    },
    {
      "cell_type": "markdown",
      "metadata": {
        "id": "rpty-gbnEjdA"
      },
      "source": [
        "3.What is the way to include backslash characters in a string?"
      ]
    },
    {
      "cell_type": "code",
      "metadata": {
        "colab": {
          "base_uri": "https://localhost:8080/"
        },
        "id": "_6V5HSHSEplh",
        "outputId": "34b40228-c62f-4d21-943c-21f860937c3c"
      },
      "source": [
        "txt=\"\\\\ backslash hi\"\n",
        "print(txt)"
      ],
      "execution_count": 8,
      "outputs": [
        {
          "output_type": "stream",
          "text": [
            "\\ backslash hi\n"
          ],
          "name": "stdout"
        }
      ]
    },
    {
      "cell_type": "markdown",
      "metadata": {
        "id": "WEsZS_fD--BV"
      },
      "source": [
        "4.The string &quot;Howl&#39;s Moving Castle&quot; is a correct value. Why isn&#39;t the single quote character in the\n",
        "word Howl&#39;s not escaped a problem?"
      ]
    },
    {
      "cell_type": "markdown",
      "metadata": {
        "id": "fqMWjIcQ_ZWX"
      },
      "source": [
        " because we use double quotes to mark the beginning and end of the string."
      ]
    },
    {
      "cell_type": "markdown",
      "metadata": {
        "id": "Nn5NYRc6AWYW"
      },
      "source": [
        "5.How do you write a string of newlines if you don&#39;t want to use the n character?"
      ]
    },
    {
      "cell_type": "markdown",
      "metadata": {
        "id": "yM7-ROMMAlI1"
      },
      "source": [
        "by using linesep"
      ]
    },
    {
      "cell_type": "markdown",
      "metadata": {
        "id": "kA1BnkexBYHI"
      },
      "source": [
        "6.What are the values of the given expressions?"
      ]
    },
    {
      "cell_type": "code",
      "metadata": {
        "colab": {
          "base_uri": "https://localhost:8080/"
        },
        "id": "h-nu4-RKBawa",
        "outputId": "d32bdfbf-8498-4fc9-9d59-e72e6d7b51cf"
      },
      "source": [
        "a='Hello world!'[1]\n",
        "print(a)\n",
        "b='Hello world!'[0:5]\n",
        "print(b)\n",
        "c=\"Hello world!\"[:5]\n",
        "print(c)\n",
        "d='Hello world!'[3:]\n",
        "print(d)\n"
      ],
      "execution_count": 6,
      "outputs": [
        {
          "output_type": "stream",
          "text": [
            "e\n",
            "Hello\n",
            "Hello\n",
            "lo world!\n"
          ],
          "name": "stdout"
        }
      ]
    },
    {
      "cell_type": "markdown",
      "metadata": {
        "id": "UVTxIioJDUd5"
      },
      "source": [
        "7.What are the values of the following expressions?"
      ]
    },
    {
      "cell_type": "code",
      "metadata": {
        "colab": {
          "base_uri": "https://localhost:8080/"
        },
        "id": "61wYA6qpDlKX",
        "outputId": "34741eb1-1a9a-477e-a108-b5821ee4278a"
      },
      "source": [
        "a='Hello'.upper()\n",
        "print(a)\n",
        "b='Hello'.upper().isupper()\n",
        "print(b)\n",
        "c='Hello'.upper().lower()\n",
        "print(c)"
      ],
      "execution_count": 9,
      "outputs": [
        {
          "output_type": "stream",
          "text": [
            "HELLO\n",
            "True\n",
            "hello\n"
          ],
          "name": "stdout"
        }
      ]
    },
    {
      "cell_type": "markdown",
      "metadata": {
        "id": "Kx68vfEYETl8"
      },
      "source": [
        "8.What are the values of the following expressions?\n",
        "&#39;Remember, remember, the fifth of July.&#39;.split()\n",
        "&#39;-&#39;.join(&#39;There can only one.&#39;.split())"
      ]
    },
    {
      "cell_type": "code",
      "metadata": {
        "colab": {
          "base_uri": "https://localhost:8080/"
        },
        "id": "irUFHXfAEe8W",
        "outputId": "5f37f2ec-b42c-45fb-d14e-57db0ca91ffc"
      },
      "source": [
        " a='Remember, remember, the fifth of July.'.split()\n",
        " print(a)\n",
        " b='-'.join('There can only one.'.split())\n",
        " print(b)"
      ],
      "execution_count": 12,
      "outputs": [
        {
          "output_type": "stream",
          "text": [
            "['Remember,', 'remember,', 'the', 'fifth', 'of', 'July.']\n",
            "There-can-only-one.\n"
          ],
          "name": "stdout"
        }
      ]
    },
    {
      "cell_type": "markdown",
      "metadata": {
        "id": "_auuZve1E37y"
      },
      "source": [
        "9.What are the methods for right-justifying, left-justifying, and centering a string?"
      ]
    },
    {
      "cell_type": "markdown",
      "metadata": {
        "id": "dE4I7ZuLFMZF"
      },
      "source": [
        "right-justifying-:rjust()\n",
        "\n",
        "left-justifying-:ljust()\n",
        "\n",
        "centering-:center()"
      ]
    },
    {
      "cell_type": "markdown",
      "metadata": {
        "id": "xTp2stnwFuny"
      },
      "source": [
        "10.What is the best way to remove whitespace characters from the start or end?"
      ]
    },
    {
      "cell_type": "markdown",
      "metadata": {
        "id": "IMSsw29DFwy8"
      },
      "source": [
        "lstrip(),rstrip(),strip() method are used to remove whitespace"
      ]
    }
  ]
}